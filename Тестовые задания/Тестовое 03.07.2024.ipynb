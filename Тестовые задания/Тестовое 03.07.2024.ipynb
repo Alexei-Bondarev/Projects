{
 "cells": [
  {
   "cell_type": "markdown",
   "id": "5e71bd46-434f-435f-bfe7-4fdb80949cdf",
   "metadata": {},
   "source": [
    "### Бондарев Алексей, Аналитик данных (gamedav). Тестовое задание (Python) от 03.07.2024."
   ]
  },
  {
   "cell_type": "markdown",
   "id": "bbe23c79-f86b-4184-934c-f43ac2204c5c",
   "metadata": {},
   "source": [
    "## Описание задания:\n",
    "(Python) Для выполнения этого задания требуется сгенерировать DataFrame с синтетическими данными. DataFrame должен состоять из 1000 строк и 5 колонок. Каждую из колонок мы предлагаем тебе создать и наполнить следующим образом:\n",
    "- 1-я колонка – user_id – идентификатор пользователя. Длина user_id должна равняться 15-ти символам. Идентификатор состоит из случайной комбинации следующих символов: \"1234567890abcdefghijk\". Для каждой строки в DataFrame значение user_id формируются случайным образом. Добавь проверку на уникальность сгенерированного user_id.\n",
    "- 2-я колонка – purchase_number – номер покупки. Столбец необходимо заполнить случайными значениями в диапазоне от 0 до 10.\n",
    "- 3-я колонка – interval – время, прошедшее с момента предыдущей покупки пользователя. Столбец необходимо заполнить случайными значениями из нормального распределения со средним 1440 и стандартным отклонением 200. Обрати внимание, что для первой покупки пользователей данное поле должно быть пустым (null), т.к. предыдущей покупки у пользовля не было.\n",
    "- 4-я колонка – amount – стоимость покупки. Значения для этого столбца необходимо взять из экспоненциального распределения с паметром λ = 1.\n",
    "- 5-я колонка – retention – день жизни покупателя, в который он совершил покупку. Необходимо сгенерировать значения 1, 2, 3, 4, 5 с вероятностями 0.35, 0.25, 0.2, 0.15, 0.05 соответственно."
   ]
  },
  {
   "cell_type": "markdown",
   "id": "d604506e-6f09-480c-8c13-44cef8d76dd1",
   "metadata": {},
   "source": [
    "## Задачи:\n",
    " - Для всех строк исходного датасета, сгруппированных по номеру покупки,\n",
    "посчитать среднее значение интервала от предыдущей покупки (3 колонка) по\n",
    "группе. Результат необходимо добавить в новый столбец датафрейма.\n",
    " - Напиши функцию, которая принимает на вход значение user_id и возвращает\n",
    "строку следующего вида: все буквы в той последовательности, в которой они\n",
    "встречаются в user_id, затем все цифры в user_id в той последовательности, в\n",
    "которой они встречаются в user_id. Добавь результат применения этой функции\n",
    "к user_id в новый столбец.\n",
    " - Вычисли моду, медиану, среднее, дисперсию и стандартное отклонение для\n",
    "столбцов interval, amount и retention. Построй гистограммы распределения\n",
    "значений в столбцах.\n",
    " - Построй график, который наиболее полно, на твой взгляд, описывает\n",
    "зависимость интервала между покупками и номера покупки. Обоснуй, почему ты\n",
    "так считаешь?"
   ]
  },
  {
   "cell_type": "markdown",
   "id": "31833cf5-3439-40f6-88c3-ec3b4980890b",
   "metadata": {},
   "source": [
    "# Импорт библиотек."
   ]
  },
  {
   "cell_type": "code",
   "execution_count": 42,
   "id": "7a121eef-ac25-4f88-9a2f-b402e1977620",
   "metadata": {},
   "outputs": [],
   "source": [
    "import pandas as pd\n",
    "import numpy as np\n",
    "import random\n",
    "\n",
    "import matplotlib.pyplot as plt\n",
    "import seaborn as sns"
   ]
  },
  {
   "cell_type": "markdown",
   "id": "e7039710-1855-4649-a035-8e40b9c6d345",
   "metadata": {},
   "source": [
    "# Часть 1. Создаем DataFrame 5*1000:\n",
    "\n",
    "## Создаем колонки:"
   ]
  },
  {
   "cell_type": "code",
   "execution_count": 167,
   "id": "6b600e1c-c118-48c9-a8bf-772f7789c6ca",
   "metadata": {},
   "outputs": [
    {
     "data": {
      "text/plain": [
       "0      kkf400fk0h24ba6\n",
       "1      5i5i57a8bb4cia9\n",
       "2      cc7h11793i5485e\n",
       "3      hgacbjk285eh4e6\n",
       "4      jh33ikdiad93g59\n",
       "            ...       \n",
       "995    f9321ic2d8k7b0f\n",
       "996    0k9d2jck915ii84\n",
       "997    a3h586fa9a5i4d3\n",
       "998    a6318212f1beh05\n",
       "999    dji6376i280hhj9\n",
       "Length: 1000, dtype: object"
      ]
     },
     "execution_count": 167,
     "metadata": {},
     "output_type": "execute_result"
    }
   ],
   "source": [
    "# Клонка 1 user_id:\n",
    "# Функция user_id_generator создает иденттфикатор пользователя:\n",
    "def user_id_generator():\n",
    "    return ''.join([random.choice('1234567890abcdefghijk') for x in range(15)])\n",
    "\n",
    "# С помощью генератора списка, создается последовательность значений для столбца - user_id:\n",
    "user_id = pd.Series([user_id_generator() for k in range(1_000)])\n",
    "user_id"
   ]
  },
  {
   "cell_type": "code",
   "execution_count": 165,
   "id": "165701d3-c564-414b-9d1b-da3b310ac8a2",
   "metadata": {},
   "outputs": [
    {
     "data": {
      "text/plain": [
       "1000"
      ]
     },
     "execution_count": 165,
     "metadata": {},
     "output_type": "execute_result"
    }
   ],
   "source": [
    "# Проверим на уникальность сгенерированного user_id:\n",
    "user_id.nunique()"
   ]
  },
  {
   "cell_type": "code",
   "execution_count": 47,
   "id": "c2c013a3-eedc-4c8b-99c2-6ab960e46e09",
   "metadata": {},
   "outputs": [],
   "source": [
    "# Колонка 2 purchase_number:\n",
    "\n",
    "# С помощью генератра списка создаем последовательность значений для столбца purchase_number:\n",
    "purchase_number = pd.Series([random.randint (1, 10) for x in range(0,1_000)])"
   ]
  },
  {
   "cell_type": "code",
   "execution_count": 49,
   "id": "1851cdfb-5e86-40f8-8b61-65bd34dd6e36",
   "metadata": {},
   "outputs": [
    {
     "data": {
      "text/plain": [
       "<Axes: >"
      ]
     },
     "execution_count": 49,
     "metadata": {},
     "output_type": "execute_result"
    },
    {
     "data": {
      "image/png": "[encoded data removed]",
      "text/plain": [
       "<Figure size 600x300 with 1 Axes>"
      ]
     },
     "metadata": {},
     "output_type": "display_data"
    }
   ],
   "source": [
    "# Посмотрим на распределение purchase_number:\n",
    "purchase_number.hist(bins=40, figsize=(6,3))"
   ]
  },
  {
   "cell_type": "code",
   "execution_count": 50,
   "id": "d744c950-8695-41db-9c8c-0550f395f8a9",
   "metadata": {},
   "outputs": [
    {
     "data": {
      "text/plain": [
       "0    1479\n",
       "1    1407\n",
       "2    1320\n",
       "3    1273\n",
       "4    1464\n",
       "5    1411\n",
       "6    1398\n",
       "7    1479\n",
       "8    1399\n",
       "9    1741\n",
       "dtype: int64"
      ]
     },
     "execution_count": 50,
     "metadata": {},
     "output_type": "execute_result"
    }
   ],
   "source": [
    "# Для заполнения столбца interval значениями из нормального распределегния используем функцию normalvariate из модуля - random:\n",
    "# где mu - среднее равное 1440, sigma - стандартное отклонение равное 200.\n",
    "\n",
    "interval = pd.Series([round(random.normalvariate(mu=1_440, sigma=200)) for x in range(1_000)])\n",
    "interval[0:10]"
   ]
  },
  {
   "cell_type": "code",
   "execution_count": 53,
   "id": "efc71ca0-adfe-4268-aed4-f0ad3f7e9955",
   "metadata": {},
   "outputs": [
    {
     "data": {
      "text/plain": [
       "<Axes: ylabel='Frequency'>"
      ]
     },
     "execution_count": 53,
     "metadata": {},
     "output_type": "execute_result"
    },
    {
     "data": {
      "image/png": "[encoded data removed]",
      "text/plain": [
       "<Figure size 600x300 with 1 Axes>"
      ]
     },
     "metadata": {},
     "output_type": "display_data"
    }
   ],
   "source": [
    "# Посмотрим на распределение interval:\n",
    "interval.plot(kind='hist', bins=100, figsize=(6,3))"
   ]
  },
  {
   "cell_type": "code",
   "execution_count": null,
   "id": "dcd0131a-512f-4220-a6a6-41de19291c02",
   "metadata": {},
   "outputs": [],
   "source": []
  },
  {
   "cell_type": "code",
   "execution_count": 56,
   "id": "ce56c665-b583-47df-a793-1bb7c323e196",
   "metadata": {},
   "outputs": [
    {
     "data": {
      "text/plain": [
       "<Axes: >"
      ]
     },
     "execution_count": 56,
     "metadata": {},
     "output_type": "execute_result"
    },
    {
     "data": {
      "image/png": "[encoded data removed]",
      "text/plain": [
       "<Figure size 1400x300 with 1 Axes>"
      ]
     },
     "metadata": {},
     "output_type": "display_data"
    }
   ],
   "source": [
    "# Колонка 4 amount: Значения столбца должны быть заполненны с помощью экспоненициального распределения с параметром λ = 1:\n",
    "\n",
    "# Как и в предыдущиих столбцах используем генератор списка:\n",
    "amount = pd.Series([round(random.expovariate(lambd=1.0), 2) for x in range(1_000)])\n",
    "amount.plot(figsize=(14,3))"
   ]
  },
  {
   "cell_type": "code",
   "execution_count": 58,
   "id": "b7a8bf8c-adfc-4479-bbc6-ed1d96676466",
   "metadata": {},
   "outputs": [],
   "source": [
    "# Для расчета значений колонки retention, создаем функцию вероятностей:\n",
    "def probability_function(prob_value):\n",
    "    if 0 <= prob_value <= .05:\n",
    "        return 5\n",
    "    elif .05 < prob_value <= .2:\n",
    "        return 4\n",
    "    elif .2 < prob_value <= .4:\n",
    "        return 3\n",
    "    elif .4 < prob_value <= .65:\n",
    "        return 2\n",
    "    elif .65 < prob_value <= 1:\n",
    "        return 1"
   ]
  },
  {
   "cell_type": "code",
   "execution_count": 61,
   "id": "e549382f-8e81-4d25-b4e6-d58ef56b6c06",
   "metadata": {},
   "outputs": [
    {
     "data": {
      "text/plain": [
       "1    0.335\n",
       "2    0.263\n",
       "3    0.223\n",
       "4    0.139\n",
       "5    0.040\n",
       "Name: proportion, dtype: float64"
      ]
     },
     "execution_count": 61,
     "metadata": {},
     "output_type": "execute_result"
    }
   ],
   "source": [
    "# Колонка 5 retention:\n",
    "retention = pd.Series([probability_function(random.random()) for x in range(1_000)])\n",
    "retention.value_counts(normalize=True)"
   ]
  },
  {
   "cell_type": "markdown",
   "id": "c7d7c878-2a0b-4834-b023-242c15acca66",
   "metadata": {},
   "source": [
    "## Собираем сгенерированные колонки в один DataFrame:"
   ]
  },
  {
   "cell_type": "code",
   "execution_count": 64,
   "id": "0fa74ebf-96c1-4a2d-91f6-6963e5382eda",
   "metadata": {},
   "outputs": [],
   "source": [
    "df = pd.DataFrame({'user_id':user_id, 'purchase_number':purchase_number, 'interval':interval, 'amount':amount, 'retention': retention})"
   ]
  },
  {
   "cell_type": "code",
   "execution_count": 66,
   "id": "edfe2db9-775c-452f-bb29-bf1d47378757",
   "metadata": {},
   "outputs": [
    {
     "data": {
      "text/html": [
       "<div>\n",
       "<style scoped>\n",
       "    .dataframe tbody tr th:only-of-type {\n",
       "        vertical-align: middle;\n",
       "    }\n",
       "\n",
       "    .dataframe tbody tr th {\n",
       "        vertical-align: top;\n",
       "    }\n",
       "\n",
       "    .dataframe thead th {\n",
       "        text-align: right;\n",
       "    }\n",
       "</style>\n",
       "<table border=\"1\" class=\"dataframe\">\n",
       "  <thead>\n",
       "    <tr style=\"text-align: right;\">\n",
       "      <th></th>\n",
       "      <th>user_id</th>\n",
       "      <th>purchase_number</th>\n",
       "      <th>interval</th>\n",
       "      <th>amount</th>\n",
       "      <th>retention</th>\n",
       "    </tr>\n",
       "  </thead>\n",
       "  <tbody>\n",
       "    <tr>\n",
       "      <th>0</th>\n",
       "      <td>48i7j7bg12h181h</td>\n",
       "      <td>2</td>\n",
       "      <td>1479</td>\n",
       "      <td>1.19</td>\n",
       "      <td>1</td>\n",
       "    </tr>\n",
       "    <tr>\n",
       "      <th>1</th>\n",
       "      <td>kf01g9b50eci905</td>\n",
       "      <td>4</td>\n",
       "      <td>1407</td>\n",
       "      <td>0.78</td>\n",
       "      <td>3</td>\n",
       "    </tr>\n",
       "    <tr>\n",
       "      <th>2</th>\n",
       "      <td>iakichdc7eg08b0</td>\n",
       "      <td>3</td>\n",
       "      <td>1320</td>\n",
       "      <td>0.59</td>\n",
       "      <td>2</td>\n",
       "    </tr>\n",
       "    <tr>\n",
       "      <th>3</th>\n",
       "      <td>4b3kk66g03gi805</td>\n",
       "      <td>1</td>\n",
       "      <td>1273</td>\n",
       "      <td>1.90</td>\n",
       "      <td>5</td>\n",
       "    </tr>\n",
       "    <tr>\n",
       "      <th>4</th>\n",
       "      <td>109cd2f93gj4aig</td>\n",
       "      <td>2</td>\n",
       "      <td>1464</td>\n",
       "      <td>1.89</td>\n",
       "      <td>1</td>\n",
       "    </tr>\n",
       "    <tr>\n",
       "      <th>...</th>\n",
       "      <td>...</td>\n",
       "      <td>...</td>\n",
       "      <td>...</td>\n",
       "      <td>...</td>\n",
       "      <td>...</td>\n",
       "    </tr>\n",
       "    <tr>\n",
       "      <th>995</th>\n",
       "      <td>2i8fkjchbgd9g5c</td>\n",
       "      <td>8</td>\n",
       "      <td>1305</td>\n",
       "      <td>0.36</td>\n",
       "      <td>1</td>\n",
       "    </tr>\n",
       "    <tr>\n",
       "      <th>996</th>\n",
       "      <td>da2ag4c8b3c92b5</td>\n",
       "      <td>3</td>\n",
       "      <td>1785</td>\n",
       "      <td>0.23</td>\n",
       "      <td>2</td>\n",
       "    </tr>\n",
       "    <tr>\n",
       "      <th>997</th>\n",
       "      <td>66ce9g7960hggdh</td>\n",
       "      <td>4</td>\n",
       "      <td>1194</td>\n",
       "      <td>0.11</td>\n",
       "      <td>1</td>\n",
       "    </tr>\n",
       "    <tr>\n",
       "      <th>998</th>\n",
       "      <td>g4if0efcd254b3d</td>\n",
       "      <td>7</td>\n",
       "      <td>1173</td>\n",
       "      <td>0.50</td>\n",
       "      <td>1</td>\n",
       "    </tr>\n",
       "    <tr>\n",
       "      <th>999</th>\n",
       "      <td>ckbk220j23k6953</td>\n",
       "      <td>5</td>\n",
       "      <td>1655</td>\n",
       "      <td>1.03</td>\n",
       "      <td>1</td>\n",
       "    </tr>\n",
       "  </tbody>\n",
       "</table>\n",
       "<p>1000 rows × 5 columns</p>\n",
       "</div>"
      ],
      "text/plain": [
       "             user_id  purchase_number  interval  amount  retention\n",
       "0    48i7j7bg12h181h                2      1479    1.19          1\n",
       "1    kf01g9b50eci905                4      1407    0.78          3\n",
       "2    iakichdc7eg08b0                3      1320    0.59          2\n",
       "3    4b3kk66g03gi805                1      1273    1.90          5\n",
       "4    109cd2f93gj4aig                2      1464    1.89          1\n",
       "..               ...              ...       ...     ...        ...\n",
       "995  2i8fkjchbgd9g5c                8      1305    0.36          1\n",
       "996  da2ag4c8b3c92b5                3      1785    0.23          2\n",
       "997  66ce9g7960hggdh                4      1194    0.11          1\n",
       "998  g4if0efcd254b3d                7      1173    0.50          1\n",
       "999  ckbk220j23k6953                5      1655    1.03          1\n",
       "\n",
       "[1000 rows x 5 columns]"
      ]
     },
     "execution_count": 66,
     "metadata": {},
     "output_type": "execute_result"
    }
   ],
   "source": [
    "df"
   ]
  },
  {
   "cell_type": "markdown",
   "id": "d8b0da5f-fbca-40fd-b15f-c6f3e3398d41",
   "metadata": {},
   "source": [
    "## Добавим условие: Для первой покупки (purchase_number = 1), поле interval должно быть пустым, т.к. предыдущей покупки у пользователей не было:"
   ]
  },
  {
   "cell_type": "code",
   "execution_count": 68,
   "id": "ac4f9213-d470-49ae-aa8a-730bb6fdd223",
   "metadata": {},
   "outputs": [
    {
     "data": {
      "text/html": [
       "<div>\n",
       "<style scoped>\n",
       "    .dataframe tbody tr th:only-of-type {\n",
       "        vertical-align: middle;\n",
       "    }\n",
       "\n",
       "    .dataframe tbody tr th {\n",
       "        vertical-align: top;\n",
       "    }\n",
       "\n",
       "    .dataframe thead th {\n",
       "        text-align: right;\n",
       "    }\n",
       "</style>\n",
       "<table border=\"1\" class=\"dataframe\">\n",
       "  <thead>\n",
       "    <tr style=\"text-align: right;\">\n",
       "      <th></th>\n",
       "      <th>user_id</th>\n",
       "      <th>purchase_number</th>\n",
       "      <th>interval</th>\n",
       "      <th>amount</th>\n",
       "      <th>retention</th>\n",
       "    </tr>\n",
       "  </thead>\n",
       "  <tbody>\n",
       "    <tr>\n",
       "      <th>3</th>\n",
       "      <td>4b3kk66g03gi805</td>\n",
       "      <td>1</td>\n",
       "      <td>NaN</td>\n",
       "      <td>1.90</td>\n",
       "      <td>5</td>\n",
       "    </tr>\n",
       "    <tr>\n",
       "      <th>13</th>\n",
       "      <td>f7ejgkg6g927hhj</td>\n",
       "      <td>1</td>\n",
       "      <td>NaN</td>\n",
       "      <td>0.69</td>\n",
       "      <td>1</td>\n",
       "    </tr>\n",
       "    <tr>\n",
       "      <th>46</th>\n",
       "      <td>h3h8hc699ekbd7b</td>\n",
       "      <td>1</td>\n",
       "      <td>NaN</td>\n",
       "      <td>1.46</td>\n",
       "      <td>2</td>\n",
       "    </tr>\n",
       "    <tr>\n",
       "      <th>50</th>\n",
       "      <td>khb5a2a6aa0k0be</td>\n",
       "      <td>1</td>\n",
       "      <td>NaN</td>\n",
       "      <td>0.37</td>\n",
       "      <td>2</td>\n",
       "    </tr>\n",
       "    <tr>\n",
       "      <th>57</th>\n",
       "      <td>jh2id0j9afe37jf</td>\n",
       "      <td>1</td>\n",
       "      <td>NaN</td>\n",
       "      <td>0.11</td>\n",
       "      <td>3</td>\n",
       "    </tr>\n",
       "    <tr>\n",
       "      <th>...</th>\n",
       "      <td>...</td>\n",
       "      <td>...</td>\n",
       "      <td>...</td>\n",
       "      <td>...</td>\n",
       "      <td>...</td>\n",
       "    </tr>\n",
       "    <tr>\n",
       "      <th>955</th>\n",
       "      <td>348d50eddfkj640</td>\n",
       "      <td>1</td>\n",
       "      <td>NaN</td>\n",
       "      <td>2.49</td>\n",
       "      <td>5</td>\n",
       "    </tr>\n",
       "    <tr>\n",
       "      <th>956</th>\n",
       "      <td>8cghk9c6ae98255</td>\n",
       "      <td>1</td>\n",
       "      <td>NaN</td>\n",
       "      <td>0.83</td>\n",
       "      <td>2</td>\n",
       "    </tr>\n",
       "    <tr>\n",
       "      <th>957</th>\n",
       "      <td>2ceekh182b8f0gi</td>\n",
       "      <td>1</td>\n",
       "      <td>NaN</td>\n",
       "      <td>0.46</td>\n",
       "      <td>1</td>\n",
       "    </tr>\n",
       "    <tr>\n",
       "      <th>985</th>\n",
       "      <td>9b0142ed341fh81</td>\n",
       "      <td>1</td>\n",
       "      <td>NaN</td>\n",
       "      <td>0.47</td>\n",
       "      <td>1</td>\n",
       "    </tr>\n",
       "    <tr>\n",
       "      <th>987</th>\n",
       "      <td>8hei3ja34kjkdb6</td>\n",
       "      <td>1</td>\n",
       "      <td>NaN</td>\n",
       "      <td>0.50</td>\n",
       "      <td>1</td>\n",
       "    </tr>\n",
       "  </tbody>\n",
       "</table>\n",
       "<p>96 rows × 5 columns</p>\n",
       "</div>"
      ],
      "text/plain": [
       "             user_id  purchase_number  interval  amount  retention\n",
       "3    4b3kk66g03gi805                1       NaN    1.90          5\n",
       "13   f7ejgkg6g927hhj                1       NaN    0.69          1\n",
       "46   h3h8hc699ekbd7b                1       NaN    1.46          2\n",
       "50   khb5a2a6aa0k0be                1       NaN    0.37          2\n",
       "57   jh2id0j9afe37jf                1       NaN    0.11          3\n",
       "..               ...              ...       ...     ...        ...\n",
       "955  348d50eddfkj640                1       NaN    2.49          5\n",
       "956  8cghk9c6ae98255                1       NaN    0.83          2\n",
       "957  2ceekh182b8f0gi                1       NaN    0.46          1\n",
       "985  9b0142ed341fh81                1       NaN    0.47          1\n",
       "987  8hei3ja34kjkdb6                1       NaN    0.50          1\n",
       "\n",
       "[96 rows x 5 columns]"
      ]
     },
     "execution_count": 68,
     "metadata": {},
     "output_type": "execute_result"
    }
   ],
   "source": [
    "# Присваиваем значение np.nan колонке interval, если purchase_number = 1:\n",
    "df.loc[df['purchase_number'] == 1, 'interval'] = np.nan\n",
    "\n",
    "# Проверка:\n",
    "df[df['purchase_number'] == 1]"
   ]
  },
  {
   "cell_type": "markdown",
   "id": "313b147d-8efe-4da2-beb6-c684d547bfcd",
   "metadata": {},
   "source": [
    "# Часть 2. Задачи"
   ]
  },
  {
   "cell_type": "markdown",
   "id": "27b88f1f-5a7c-4533-bc12-7a86e8f2dff9",
   "metadata": {},
   "source": [
    "## Задача 1:\n",
    " - Для всех строк исходного датасета, сгруппированных по номеру покупки, посчитать среднее значение интервала от предыдущей покупки (3 колонка) по группе. Результат необходимо добавить в новый столбец датафрейма."
   ]
  },
  {
   "cell_type": "code",
   "execution_count": 72,
   "id": "de0917fd-8db0-4e66-94dc-78b857c7ef5f",
   "metadata": {},
   "outputs": [
    {
     "data": {
      "text/plain": [
       "purchase_number\n",
       "1             NaN\n",
       "2     1429.157407\n",
       "3     1448.114286\n",
       "4     1418.929204\n",
       "5     1449.757576\n",
       "6     1462.212963\n",
       "7     1447.958333\n",
       "8     1424.675000\n",
       "9     1463.220930\n",
       "10    1452.201835\n",
       "Name: interval, dtype: float64"
      ]
     },
     "execution_count": 72,
     "metadata": {},
     "output_type": "execute_result"
    }
   ],
   "source": [
    "# Создаем Series среднего значения interval по группе purchase_number:\n",
    "interval_group_p_n = df.groupby('purchase_number')['interval'].mean()\n",
    "interval_group_p_n"
   ]
  },
  {
   "cell_type": "code",
   "execution_count": 76,
   "id": "a7c0525c-9dd4-42e0-841a-987f1d97e9a9",
   "metadata": {},
   "outputs": [
    {
     "data": {
      "text/html": [
       "<div>\n",
       "<style scoped>\n",
       "    .dataframe tbody tr th:only-of-type {\n",
       "        vertical-align: middle;\n",
       "    }\n",
       "\n",
       "    .dataframe tbody tr th {\n",
       "        vertical-align: top;\n",
       "    }\n",
       "\n",
       "    .dataframe thead th {\n",
       "        text-align: right;\n",
       "    }\n",
       "</style>\n",
       "<table border=\"1\" class=\"dataframe\">\n",
       "  <thead>\n",
       "    <tr style=\"text-align: right;\">\n",
       "      <th></th>\n",
       "      <th>user_id</th>\n",
       "      <th>purchase_number</th>\n",
       "      <th>interval</th>\n",
       "      <th>amount</th>\n",
       "      <th>retention</th>\n",
       "      <th>mean_group_interval</th>\n",
       "    </tr>\n",
       "  </thead>\n",
       "  <tbody>\n",
       "    <tr>\n",
       "      <th>10</th>\n",
       "      <td>ci8j05i9249434a</td>\n",
       "      <td>7</td>\n",
       "      <td>1315.0</td>\n",
       "      <td>0.02</td>\n",
       "      <td>4</td>\n",
       "      <td>1447.958333</td>\n",
       "    </tr>\n",
       "    <tr>\n",
       "      <th>11</th>\n",
       "      <td>aba9c5cfkca52bj</td>\n",
       "      <td>3</td>\n",
       "      <td>1652.0</td>\n",
       "      <td>1.57</td>\n",
       "      <td>1</td>\n",
       "      <td>1448.114286</td>\n",
       "    </tr>\n",
       "    <tr>\n",
       "      <th>12</th>\n",
       "      <td>b7fh0ik06567579</td>\n",
       "      <td>9</td>\n",
       "      <td>1699.0</td>\n",
       "      <td>1.29</td>\n",
       "      <td>1</td>\n",
       "      <td>1463.220930</td>\n",
       "    </tr>\n",
       "    <tr>\n",
       "      <th>13</th>\n",
       "      <td>f7ejgkg6g927hhj</td>\n",
       "      <td>1</td>\n",
       "      <td>NaN</td>\n",
       "      <td>0.69</td>\n",
       "      <td>1</td>\n",
       "      <td>NaN</td>\n",
       "    </tr>\n",
       "    <tr>\n",
       "      <th>14</th>\n",
       "      <td>18jh874jkj7kf59</td>\n",
       "      <td>3</td>\n",
       "      <td>1573.0</td>\n",
       "      <td>1.28</td>\n",
       "      <td>4</td>\n",
       "      <td>1448.114286</td>\n",
       "    </tr>\n",
       "    <tr>\n",
       "      <th>15</th>\n",
       "      <td>719hk7a2dac16hc</td>\n",
       "      <td>4</td>\n",
       "      <td>1442.0</td>\n",
       "      <td>0.70</td>\n",
       "      <td>2</td>\n",
       "      <td>1418.929204</td>\n",
       "    </tr>\n",
       "    <tr>\n",
       "      <th>16</th>\n",
       "      <td>i2fchh0hf17i5ih</td>\n",
       "      <td>6</td>\n",
       "      <td>1435.0</td>\n",
       "      <td>2.85</td>\n",
       "      <td>3</td>\n",
       "      <td>1462.212963</td>\n",
       "    </tr>\n",
       "    <tr>\n",
       "      <th>17</th>\n",
       "      <td>3gh27858f768j18</td>\n",
       "      <td>3</td>\n",
       "      <td>987.0</td>\n",
       "      <td>0.57</td>\n",
       "      <td>1</td>\n",
       "      <td>1448.114286</td>\n",
       "    </tr>\n",
       "    <tr>\n",
       "      <th>18</th>\n",
       "      <td>bk3hg9f0ffjgh85</td>\n",
       "      <td>9</td>\n",
       "      <td>1284.0</td>\n",
       "      <td>3.66</td>\n",
       "      <td>4</td>\n",
       "      <td>1463.220930</td>\n",
       "    </tr>\n",
       "    <tr>\n",
       "      <th>19</th>\n",
       "      <td>i5b457f7k785948</td>\n",
       "      <td>10</td>\n",
       "      <td>1491.0</td>\n",
       "      <td>1.52</td>\n",
       "      <td>1</td>\n",
       "      <td>1452.201835</td>\n",
       "    </tr>\n",
       "  </tbody>\n",
       "</table>\n",
       "</div>"
      ],
      "text/plain": [
       "            user_id  purchase_number  interval  amount  retention  \\\n",
       "10  ci8j05i9249434a                7    1315.0    0.02          4   \n",
       "11  aba9c5cfkca52bj                3    1652.0    1.57          1   \n",
       "12  b7fh0ik06567579                9    1699.0    1.29          1   \n",
       "13  f7ejgkg6g927hhj                1       NaN    0.69          1   \n",
       "14  18jh874jkj7kf59                3    1573.0    1.28          4   \n",
       "15  719hk7a2dac16hc                4    1442.0    0.70          2   \n",
       "16  i2fchh0hf17i5ih                6    1435.0    2.85          3   \n",
       "17  3gh27858f768j18                3     987.0    0.57          1   \n",
       "18  bk3hg9f0ffjgh85                9    1284.0    3.66          4   \n",
       "19  i5b457f7k785948               10    1491.0    1.52          1   \n",
       "\n",
       "    mean_group_interval  \n",
       "10          1447.958333  \n",
       "11          1448.114286  \n",
       "12          1463.220930  \n",
       "13                  NaN  \n",
       "14          1448.114286  \n",
       "15          1418.929204  \n",
       "16          1462.212963  \n",
       "17          1448.114286  \n",
       "18          1463.220930  \n",
       "19          1452.201835  "
      ]
     },
     "execution_count": 76,
     "metadata": {},
     "output_type": "execute_result"
    }
   ],
   "source": [
    "# Добавим результат в новый столбец: для этого\n",
    "# Соединим таблцы:\n",
    "df_merges = pd.merge(df, interval_group_p_n, how='left', left_on='purchase_number', right_on='purchase_number', suffixes=(None, '_y'))\n",
    "\n",
    "# Переименуем новый столбец:\n",
    "df_merges = df_merges.rename(columns={'interval_y':'mean_group_interval'})\n",
    "\n",
    "# Посмотрим часть DataFrame:\n",
    "df_merges[10:20]"
   ]
  },
  {
   "cell_type": "markdown",
   "id": "c9a14fd4-3b1c-47aa-abd7-506ca15d651a",
   "metadata": {},
   "source": [
    "## Задача 2:\n",
    " - Напиши функцию, которая принимает на вход значение user_id и возвращает строку следующего вида: все буквы в той последовательности, в которой они встречаются в user_id, затем все цифры в user_id в той последовательности, в которой они встречаются в user_id. Добавь результат применения этой функции\n",
    "к user_id в новый столбец."
   ]
  },
  {
   "cell_type": "code",
   "execution_count": 88,
   "id": "eab00007-ba1c-42b4-a1aa-1f289fbee80a",
   "metadata": {},
   "outputs": [],
   "source": [
    "# Создаем функцию, которая разделяет буквы и цифра на два списка, а затем объединяет в одну строку:\n",
    "def digigt_character(idx):\n",
    "    digits = []\n",
    "    characters = []\n",
    "    container = []\n",
    "    \n",
    "    for x in idx:\n",
    "        if x.isalpha():\n",
    "            characters.append(x)\n",
    "        elif x.isdigit():\n",
    "            digits.append(x)\n",
    "    container = ''.join(characters + digits)\n",
    "    \n",
    "    return container"
   ]
  },
  {
   "cell_type": "code",
   "execution_count": 90,
   "id": "2e063279-0290-4fd8-ac76-4e06f6d8c892",
   "metadata": {},
   "outputs": [],
   "source": [
    "# Создаем новый столбец user_id_separated, применяем функцию digigt_character к столбцу user_id:\n",
    "df_merges['user_id_separated'] = df_merges['user_id'].apply(digigt_character)"
   ]
  },
  {
   "cell_type": "code",
   "execution_count": 92,
   "id": "d6b4d210-58ff-42c8-b6cd-7f1ba6ea2941",
   "metadata": {},
   "outputs": [
    {
     "data": {
      "text/html": [
       "<div>\n",
       "<style scoped>\n",
       "    .dataframe tbody tr th:only-of-type {\n",
       "        vertical-align: middle;\n",
       "    }\n",
       "\n",
       "    .dataframe tbody tr th {\n",
       "        vertical-align: top;\n",
       "    }\n",
       "\n",
       "    .dataframe thead th {\n",
       "        text-align: right;\n",
       "    }\n",
       "</style>\n",
       "<table border=\"1\" class=\"dataframe\">\n",
       "  <thead>\n",
       "    <tr style=\"text-align: right;\">\n",
       "      <th></th>\n",
       "      <th>user_id</th>\n",
       "      <th>purchase_number</th>\n",
       "      <th>interval</th>\n",
       "      <th>amount</th>\n",
       "      <th>retention</th>\n",
       "      <th>mean_group_interval</th>\n",
       "      <th>user_id_separated</th>\n",
       "    </tr>\n",
       "  </thead>\n",
       "  <tbody>\n",
       "    <tr>\n",
       "      <th>0</th>\n",
       "      <td>48i7j7bg12h181h</td>\n",
       "      <td>2</td>\n",
       "      <td>1479.0</td>\n",
       "      <td>1.19</td>\n",
       "      <td>1</td>\n",
       "      <td>1429.157407</td>\n",
       "      <td>ijbghh487712181</td>\n",
       "    </tr>\n",
       "    <tr>\n",
       "      <th>1</th>\n",
       "      <td>kf01g9b50eci905</td>\n",
       "      <td>4</td>\n",
       "      <td>1407.0</td>\n",
       "      <td>0.78</td>\n",
       "      <td>3</td>\n",
       "      <td>1418.929204</td>\n",
       "      <td>kfgbeci01950905</td>\n",
       "    </tr>\n",
       "    <tr>\n",
       "      <th>2</th>\n",
       "      <td>iakichdc7eg08b0</td>\n",
       "      <td>3</td>\n",
       "      <td>1320.0</td>\n",
       "      <td>0.59</td>\n",
       "      <td>2</td>\n",
       "      <td>1448.114286</td>\n",
       "      <td>iakichdcegb7080</td>\n",
       "    </tr>\n",
       "    <tr>\n",
       "      <th>3</th>\n",
       "      <td>4b3kk66g03gi805</td>\n",
       "      <td>1</td>\n",
       "      <td>NaN</td>\n",
       "      <td>1.90</td>\n",
       "      <td>5</td>\n",
       "      <td>NaN</td>\n",
       "      <td>bkkggi436603805</td>\n",
       "    </tr>\n",
       "    <tr>\n",
       "      <th>4</th>\n",
       "      <td>109cd2f93gj4aig</td>\n",
       "      <td>2</td>\n",
       "      <td>1464.0</td>\n",
       "      <td>1.89</td>\n",
       "      <td>1</td>\n",
       "      <td>1429.157407</td>\n",
       "      <td>cdfgjaig1092934</td>\n",
       "    </tr>\n",
       "    <tr>\n",
       "      <th>5</th>\n",
       "      <td>h7i1i0a2f3ea8g8</td>\n",
       "      <td>7</td>\n",
       "      <td>1411.0</td>\n",
       "      <td>0.15</td>\n",
       "      <td>1</td>\n",
       "      <td>1447.958333</td>\n",
       "      <td>hiiafeag7102388</td>\n",
       "    </tr>\n",
       "    <tr>\n",
       "      <th>6</th>\n",
       "      <td>k96f406khjj30gc</td>\n",
       "      <td>3</td>\n",
       "      <td>1398.0</td>\n",
       "      <td>0.24</td>\n",
       "      <td>3</td>\n",
       "      <td>1448.114286</td>\n",
       "      <td>kfkhjjgc9640630</td>\n",
       "    </tr>\n",
       "    <tr>\n",
       "      <th>7</th>\n",
       "      <td>2e78akkeh7bgk3f</td>\n",
       "      <td>7</td>\n",
       "      <td>1479.0</td>\n",
       "      <td>1.59</td>\n",
       "      <td>2</td>\n",
       "      <td>1447.958333</td>\n",
       "      <td>eakkehbgkf27873</td>\n",
       "    </tr>\n",
       "    <tr>\n",
       "      <th>8</th>\n",
       "      <td>h6gjkfde3hjh9b0</td>\n",
       "      <td>6</td>\n",
       "      <td>1399.0</td>\n",
       "      <td>0.92</td>\n",
       "      <td>4</td>\n",
       "      <td>1462.212963</td>\n",
       "      <td>hgjkfdehjhb6390</td>\n",
       "    </tr>\n",
       "    <tr>\n",
       "      <th>9</th>\n",
       "      <td>81hha1e73855845</td>\n",
       "      <td>7</td>\n",
       "      <td>1741.0</td>\n",
       "      <td>1.26</td>\n",
       "      <td>4</td>\n",
       "      <td>1447.958333</td>\n",
       "      <td>hhae81173855845</td>\n",
       "    </tr>\n",
       "    <tr>\n",
       "      <th>10</th>\n",
       "      <td>ci8j05i9249434a</td>\n",
       "      <td>7</td>\n",
       "      <td>1315.0</td>\n",
       "      <td>0.02</td>\n",
       "      <td>4</td>\n",
       "      <td>1447.958333</td>\n",
       "      <td>cijia8059249434</td>\n",
       "    </tr>\n",
       "    <tr>\n",
       "      <th>11</th>\n",
       "      <td>aba9c5cfkca52bj</td>\n",
       "      <td>3</td>\n",
       "      <td>1652.0</td>\n",
       "      <td>1.57</td>\n",
       "      <td>1</td>\n",
       "      <td>1448.114286</td>\n",
       "      <td>abaccfkcabj9552</td>\n",
       "    </tr>\n",
       "    <tr>\n",
       "      <th>12</th>\n",
       "      <td>b7fh0ik06567579</td>\n",
       "      <td>9</td>\n",
       "      <td>1699.0</td>\n",
       "      <td>1.29</td>\n",
       "      <td>1</td>\n",
       "      <td>1463.220930</td>\n",
       "      <td>bfhik7006567579</td>\n",
       "    </tr>\n",
       "    <tr>\n",
       "      <th>13</th>\n",
       "      <td>f7ejgkg6g927hhj</td>\n",
       "      <td>1</td>\n",
       "      <td>NaN</td>\n",
       "      <td>0.69</td>\n",
       "      <td>1</td>\n",
       "      <td>NaN</td>\n",
       "      <td>fejgkgghhj76927</td>\n",
       "    </tr>\n",
       "    <tr>\n",
       "      <th>14</th>\n",
       "      <td>18jh874jkj7kf59</td>\n",
       "      <td>3</td>\n",
       "      <td>1573.0</td>\n",
       "      <td>1.28</td>\n",
       "      <td>4</td>\n",
       "      <td>1448.114286</td>\n",
       "      <td>jhjkjkf18874759</td>\n",
       "    </tr>\n",
       "    <tr>\n",
       "      <th>15</th>\n",
       "      <td>719hk7a2dac16hc</td>\n",
       "      <td>4</td>\n",
       "      <td>1442.0</td>\n",
       "      <td>0.70</td>\n",
       "      <td>2</td>\n",
       "      <td>1418.929204</td>\n",
       "      <td>hkadachc7197216</td>\n",
       "    </tr>\n",
       "    <tr>\n",
       "      <th>16</th>\n",
       "      <td>i2fchh0hf17i5ih</td>\n",
       "      <td>6</td>\n",
       "      <td>1435.0</td>\n",
       "      <td>2.85</td>\n",
       "      <td>3</td>\n",
       "      <td>1462.212963</td>\n",
       "      <td>ifchhhfiih20175</td>\n",
       "    </tr>\n",
       "    <tr>\n",
       "      <th>17</th>\n",
       "      <td>3gh27858f768j18</td>\n",
       "      <td>3</td>\n",
       "      <td>987.0</td>\n",
       "      <td>0.57</td>\n",
       "      <td>1</td>\n",
       "      <td>1448.114286</td>\n",
       "      <td>ghfj32785876818</td>\n",
       "    </tr>\n",
       "    <tr>\n",
       "      <th>18</th>\n",
       "      <td>bk3hg9f0ffjgh85</td>\n",
       "      <td>9</td>\n",
       "      <td>1284.0</td>\n",
       "      <td>3.66</td>\n",
       "      <td>4</td>\n",
       "      <td>1463.220930</td>\n",
       "      <td>bkhgfffjgh39085</td>\n",
       "    </tr>\n",
       "    <tr>\n",
       "      <th>19</th>\n",
       "      <td>i5b457f7k785948</td>\n",
       "      <td>10</td>\n",
       "      <td>1491.0</td>\n",
       "      <td>1.52</td>\n",
       "      <td>1</td>\n",
       "      <td>1452.201835</td>\n",
       "      <td>ibfk54577785948</td>\n",
       "    </tr>\n",
       "  </tbody>\n",
       "</table>\n",
       "</div>"
      ],
      "text/plain": [
       "            user_id  purchase_number  interval  amount  retention  \\\n",
       "0   48i7j7bg12h181h                2    1479.0    1.19          1   \n",
       "1   kf01g9b50eci905                4    1407.0    0.78          3   \n",
       "2   iakichdc7eg08b0                3    1320.0    0.59          2   \n",
       "3   4b3kk66g03gi805                1       NaN    1.90          5   \n",
       "4   109cd2f93gj4aig                2    1464.0    1.89          1   \n",
       "5   h7i1i0a2f3ea8g8                7    1411.0    0.15          1   \n",
       "6   k96f406khjj30gc                3    1398.0    0.24          3   \n",
       "7   2e78akkeh7bgk3f                7    1479.0    1.59          2   \n",
       "8   h6gjkfde3hjh9b0                6    1399.0    0.92          4   \n",
       "9   81hha1e73855845                7    1741.0    1.26          4   \n",
       "10  ci8j05i9249434a                7    1315.0    0.02          4   \n",
       "11  aba9c5cfkca52bj                3    1652.0    1.57          1   \n",
       "12  b7fh0ik06567579                9    1699.0    1.29          1   \n",
       "13  f7ejgkg6g927hhj                1       NaN    0.69          1   \n",
       "14  18jh874jkj7kf59                3    1573.0    1.28          4   \n",
       "15  719hk7a2dac16hc                4    1442.0    0.70          2   \n",
       "16  i2fchh0hf17i5ih                6    1435.0    2.85          3   \n",
       "17  3gh27858f768j18                3     987.0    0.57          1   \n",
       "18  bk3hg9f0ffjgh85                9    1284.0    3.66          4   \n",
       "19  i5b457f7k785948               10    1491.0    1.52          1   \n",
       "\n",
       "    mean_group_interval user_id_separated  \n",
       "0           1429.157407   ijbghh487712181  \n",
       "1           1418.929204   kfgbeci01950905  \n",
       "2           1448.114286   iakichdcegb7080  \n",
       "3                   NaN   bkkggi436603805  \n",
       "4           1429.157407   cdfgjaig1092934  \n",
       "5           1447.958333   hiiafeag7102388  \n",
       "6           1448.114286   kfkhjjgc9640630  \n",
       "7           1447.958333   eakkehbgkf27873  \n",
       "8           1462.212963   hgjkfdehjhb6390  \n",
       "9           1447.958333   hhae81173855845  \n",
       "10          1447.958333   cijia8059249434  \n",
       "11          1448.114286   abaccfkcabj9552  \n",
       "12          1463.220930   bfhik7006567579  \n",
       "13                  NaN   fejgkgghhj76927  \n",
       "14          1448.114286   jhjkjkf18874759  \n",
       "15          1418.929204   hkadachc7197216  \n",
       "16          1462.212963   ifchhhfiih20175  \n",
       "17          1448.114286   ghfj32785876818  \n",
       "18          1463.220930   bkhgfffjgh39085  \n",
       "19          1452.201835   ibfk54577785948  "
      ]
     },
     "execution_count": 92,
     "metadata": {},
     "output_type": "execute_result"
    }
   ],
   "source": [
    "df_merges[0:20]"
   ]
  },
  {
   "cell_type": "markdown",
   "id": "246c0089-a5b8-4ae4-8f9a-bbce0dfd46f6",
   "metadata": {},
   "source": [
    "## Задача 3:\n",
    " - Вычисли моду, медиану, среднее, дисперсию и стандартное отклонение для \n",
    "столбцов interval, amount и retention. Построй гистограммы распределени \r\n",
    "значений в столбцах."
   ]
  },
  {
   "cell_type": "code",
   "execution_count": 97,
   "id": "087bf139-7c67-4b3d-b464-d6d76bdcc56f",
   "metadata": {},
   "outputs": [
    {
     "name": "stdout",
     "output_type": "stream",
     "text": [
      "INTERVAL:\n"
     ]
    },
    {
     "data": {
      "text/plain": [
       "'Мода : 1305.0, 1411.0, 1545.0'"
      ]
     },
     "metadata": {},
     "output_type": "display_data"
    },
    {
     "data": {
      "text/plain": [
       "'Медиана : 1444.0'"
      ]
     },
     "metadata": {},
     "output_type": "display_data"
    },
    {
     "data": {
      "text/plain": [
       "'Среднее : 1443.9'"
      ]
     },
     "metadata": {},
     "output_type": "display_data"
    },
    {
     "data": {
      "text/plain": [
       "'Дисперсия : 198.47'"
      ]
     },
     "metadata": {},
     "output_type": "display_data"
    },
    {
     "data": {
      "text/plain": [
       "'Ст. отклонение : 39392.31'"
      ]
     },
     "metadata": {},
     "output_type": "display_data"
    },
    {
     "name": "stdout",
     "output_type": "stream",
     "text": [
      "\n",
      "\n",
      "AMOUNT:\n"
     ]
    },
    {
     "data": {
      "text/plain": [
       "'Мода : 0.11'"
      ]
     },
     "metadata": {},
     "output_type": "display_data"
    },
    {
     "data": {
      "text/plain": [
       "'Медиана : 0.74'"
      ]
     },
     "metadata": {},
     "output_type": "display_data"
    },
    {
     "data": {
      "text/plain": [
       "'Среднее : 0.98'"
      ]
     },
     "metadata": {},
     "output_type": "display_data"
    },
    {
     "data": {
      "text/plain": [
       "'Дисперсия : 0.88'"
      ]
     },
     "metadata": {},
     "output_type": "display_data"
    },
    {
     "data": {
      "text/plain": [
       "'Ст. отклонение : 0.77'"
      ]
     },
     "metadata": {},
     "output_type": "display_data"
    },
    {
     "name": "stdout",
     "output_type": "stream",
     "text": [
      "\n",
      "\n",
      "RETENTION:\n"
     ]
    },
    {
     "data": {
      "text/plain": [
       "'Мода : 1'"
      ]
     },
     "metadata": {},
     "output_type": "display_data"
    },
    {
     "data": {
      "text/plain": [
       "'Медиана : 2.0'"
      ]
     },
     "metadata": {},
     "output_type": "display_data"
    },
    {
     "data": {
      "text/plain": [
       "'Среднее : 2.29'"
      ]
     },
     "metadata": {},
     "output_type": "display_data"
    },
    {
     "data": {
      "text/plain": [
       "'Дисперсия : 1.18'"
      ]
     },
     "metadata": {},
     "output_type": "display_data"
    },
    {
     "data": {
      "text/plain": [
       "'Ст. отклонение : 1.39'"
      ]
     },
     "metadata": {},
     "output_type": "display_data"
    },
    {
     "name": "stdout",
     "output_type": "stream",
     "text": [
      "\n",
      "\n"
     ]
    }
   ],
   "source": [
    "# Объявим функцию которая выведет данные описательные статистики:\n",
    "def descriptive_statistics(col):\n",
    "    print(col.upper() + ':')\n",
    "\n",
    "    # Для оформления результата используем f - строки:\n",
    "    display(f'Мода : {\", \".join(df[col].mode().astype(str))}') # На случай мультимодального распределния, соединяем значения в одну строку, т.к. .mode всегда возвращает Series. \n",
    "    display(f'Медиана : {round(df[col].median(), 2)}')\n",
    "    display(f'Среднее : {round(df[col].mean(), 2)}')\n",
    "    display(f'Дисперсия : {round(df[col].std(), 2)}')\n",
    "    display(f'Ст. отклонение : {round(df[col].var(), 2)}')\n",
    "\n",
    "# Вызываем функцию для каждого столбца:\n",
    "for x in 'interval', 'amount', 'retention':\n",
    "    descriptive_statistics(x)\n",
    "    print('\\n')"
   ]
  },
  {
   "cell_type": "markdown",
   "id": "b5b1b8f9-8675-48f6-ae58-897999aba791",
   "metadata": {},
   "source": [
    "## Построим гистограммы распределений для колонок: interval, amount, retention:"
   ]
  },
  {
   "cell_type": "code",
   "execution_count": 99,
   "id": "218596ca-4e10-46bb-bbe7-efe8caf9840d",
   "metadata": {},
   "outputs": [
    {
     "data": {
      "image/png": "[encoded data removed]",
      "text/plain": [
       "<Figure size 1400x300 with 1 Axes>"
      ]
     },
     "metadata": {},
     "output_type": "display_data"
    }
   ],
   "source": [
    "# interval:\n",
    "ax = df_merges.interval.hist(bins=200, figsize=(14,3), color='#2E8B57')\n",
    "ax.set_title('Распределение атрибута - \"interval\"')\n",
    "plt.show()"
   ]
  },
  {
   "cell_type": "code",
   "execution_count": 101,
   "id": "99ed69c0-c50c-47af-a531-7096d1e82f5c",
   "metadata": {},
   "outputs": [
    {
     "data": {
      "image/png": "[encoded data removed]",
      "text/plain": [
       "<Figure size 1400x300 with 1 Axes>"
      ]
     },
     "metadata": {},
     "output_type": "display_data"
    }
   ],
   "source": [
    "# amount:\n",
    "fig, ax = plt.subplots(figsize=(14,3))\n",
    "\n",
    "plt.hist(df_merges['amount'], bins=100, color='#FF7F50')\n",
    "ax.set_title('Распределение атрибута \"Amount\"')\n",
    "ax.grid(True)\n",
    "plt.show()"
   ]
  },
  {
   "cell_type": "code",
   "execution_count": 103,
   "id": "a501c0c3-ec8c-4b5d-a8b0-bf28632b2c2c",
   "metadata": {},
   "outputs": [
    {
     "data": {
      "text/plain": [
       "<Axes: >"
      ]
     },
     "execution_count": 103,
     "metadata": {},
     "output_type": "execute_result"
    },
    {
     "data": {
      "image/png": "[encoded data removed]",
      "text/plain": [
       "<Figure size 1400x200 with 1 Axes>"
      ]
     },
     "metadata": {},
     "output_type": "display_data"
    }
   ],
   "source": [
    "# retention:\n",
    "df_merges['retention'].hist(figsize=(14,2))"
   ]
  },
  {
   "cell_type": "markdown",
   "id": "e03abfca-5d45-4581-877a-b8e394e5787e",
   "metadata": {},
   "source": [
    "## Замечание по гистограмме для Retention:\n",
    " - График гистограммы не подходит, если в данных всего 5 категорий значений. Следует использовать столбчатую диаграмму."
   ]
  },
  {
   "cell_type": "code",
   "execution_count": 107,
   "id": "1035084d-72d3-4dff-b652-db07570bd164",
   "metadata": {},
   "outputs": [
    {
     "data": {
      "image/png": "[encoded data removed]",
      "text/plain": [
       "<Figure size 1400x300 with 1 Axes>"
      ]
     },
     "metadata": {},
     "output_type": "display_data"
    }
   ],
   "source": [
    "# retention:\n",
    "ax = df_merges['retention'].value_counts().plot(kind='bar', figsize=(14,3), grid=True, color='#4682B4')\n",
    "ax.set_title('Распределение атрибуту \"Retention\"')\n",
    "\n",
    "plt.show()"
   ]
  },
  {
   "cell_type": "markdown",
   "id": "e90dd77e-a893-4d7b-913b-4dcc4f48cd86",
   "metadata": {},
   "source": [
    "## Задача 4:\n",
    " - Построй график, который наиболее полно, на твой взгляд, описывает\r\n",
    "зависимость интервала между покупками и номера покупки. Обоснуй, почему ты\r\n",
    "так считаешь?"
   ]
  },
  {
   "cell_type": "markdown",
   "id": "1b5b90d7-2e1e-4e7e-abb7-e54b59388d04",
   "metadata": {},
   "source": [
    "## Ответ:\n",
    " - Т.к. номер покупки представляет собой категориальную(порядковую) переменную, а интервал числовую, подходящим графиком наиболее полно отображающем зависимость между этими двумя атрибутами будет boxplot с помощью которого можно сравнить между собой значения медиан, квартилей и оценить разброс значений интервала для каждого номера покупки."
   ]
  },
  {
   "cell_type": "code",
   "execution_count": 109,
   "id": "1faf6d71-2869-43f1-af65-8b3be7549907",
   "metadata": {},
   "outputs": [
    {
     "data": {
      "image/png": "[encoded data removed]",
      "text/plain": [
       "<Figure size 1400x500 with 1 Axes>"
      ]
     },
     "metadata": {},
     "output_type": "display_data"
    }
   ],
   "source": [
    "#\n",
    "sns.set_theme(style=\"ticks\")\n",
    "\n",
    "fig, ax = plt.subplots(figsize=(14,5))\n",
    "sns.boxplot(x=df_merges['purchase_number'], y=df_merges['interval'], width=.6)\n",
    "\n",
    "ax.set_title('Зависимость интервала между покупками и номера покупки')\n",
    "\n",
    "# Настройки:\n",
    "ax.yaxis.grid(True)\n",
    "ax.set(ylabel=\"\")\n",
    "sns.despine(trim=True, )\n",
    "\n",
    "plt.show()"
   ]
  },
  {
   "cell_type": "code",
   "execution_count": null,
   "id": "1016f42e-b5c3-4724-b417-2f4b4a8c821c",
   "metadata": {},
   "outputs": [],
   "source": []
  }
 ],
 "metadata": {
  "kernelspec": {
   "display_name": "Python 3 (ipykernel)",
   "language": "python",
   "name": "python3"
  },
  "language_info": {
   "codemirror_mode": {
    "name": "ipython",
    "version": 3
   },
   "file_extension": ".py",
   "mimetype": "text/x-python",
   "name": "python",
   "nbconvert_exporter": "python",
   "pygments_lexer": "ipython3",
   "version": "3.11.7"
  }
 },
 "nbformat": 4,
 "nbformat_minor": 5
}
