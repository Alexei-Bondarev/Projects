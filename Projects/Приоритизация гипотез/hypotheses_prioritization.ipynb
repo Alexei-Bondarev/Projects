{
 "cells": [
  {
   "cell_type": "markdown",
   "metadata": {},
   "source": [
    "# Приоритезация гипотез и A/B тестирование.\n",
    "Цель: Выяснить верна гипотеза по увеличению выручки интерент-магазина."
   ]
  },
  {
   "cell_type": "markdown",
   "metadata": {},
   "source": [
    "Данные о гипотезах:\n",
    "\n",
    "- Hypothesis — краткое описание гипотезы;\n",
    "- Reach — охват пользователей по 10-балльной шкале;\n",
    "- Impact — влияние на пользователей по 10-балльной шкале;\n",
    "- Confidence — уверенность в гипотезе по 10-балльной шкале;\n",
    "- Efforts — затраты ресурсов на проверку гипотезы по 10-балльной шкале.\n",
    "\n",
    "Данные заказов:\n",
    "\n",
    "- transactionId — идентификатор заказа;\n",
    "- visitorId — идентификатор пользователя, совершившего заказ;\n",
    "- date — дата, когда был совершён заказ;\n",
    "- revenue — выручка заказа;\n",
    "- group — группа A/B-теста, в которую попал заказ.\n",
    "\n",
    "Данные визитов:\n",
    "\n",
    "- date — дата;\n",
    "- group — группа A/B-теста;\n",
    "- visitors — количество пользователей в указанную дату в указанной группе A/B-теста\n",
    "\n",
    "Задачи:\n",
    "- Часть 1:\n",
    "    Приоритизировать гипотезы с помощью методов ice и rice.\n",
    "- Часть 2:\n",
    "Проанализировать A/B тест.\n",
    "  - Построить график кумулятивной выручки по группам\n",
    "  - Построить график кумулятивного среднего чека по группам\n",
    "  - Построить график относительного изменения кумулятивного среднего чека группы B к группе A\n",
    "  - Построить график кумулятивной конверсии по группам\n",
    "  - Построить график относительного изменения кумулятивной конверсии группы B к группе A\n",
    "  - Построить точечный график количества заказов по пользователям\n",
    "  - Посчитать 95-й и 99-й перцентили количества заказов на пользователя. Выберать границу для определения аномальных пользователей\n",
    "  - Построить точечный график стоимостей заказов\n",
    "  - Посчитать 95-й и 99-й перцентили стоимости заказов. Выберите границу для определения аномальных заказов.\n",
    "  - Посчитать статистическую значимость различий в конверсии между группами по «сырым» данным\n",
    "  - Посчитать статистическую значимость различий в среднем чеке заказа между группами по «сырым» данным\n",
    "  - Посчитать статистическую значимость различий в конверсии между группами по «очищенным» данным\n",
    "  - Посчитать статистическую значимость различий в среднем чеке заказа между группами по «очищенным» данным\n",
    "  - Принять решение по результатам теста и объяснить его. Варианты решений: 1. Остановить тест, зафиксировать победу одной из групп. 2. Остановить тест, зафиксировать отсутствие различий между группами. 3. Продолжить тест."
   ]
  },
  {
   "cell_type": "code",
   "execution_count": 1,
   "metadata": {},
   "outputs": [],
   "source": [
    "import pandas as pd\n",
    "import numpy as np\n",
    "import datetime as dt\n",
    "import matplotlib.pyplot as plt\n",
    "import scipy.stats as st\n",
    "\n",
    "import warnings\n",
    "warnings.filterwarnings('ignore')\n",
    "pd.set_option('display.max_columns', None)\n",
    "\n",
    "pd.set_option('display.max_colwidth',200)"
   ]
  },
  {
   "cell_type": "code",
   "execution_count": 2,
   "metadata": {
    "scrolled": false
   },
   "outputs": [
    {
     "name": "stdout",
     "output_type": "stream",
     "text": [
      "<class 'pandas.core.frame.DataFrame'>\n",
      "RangeIndex: 9 entries, 0 to 8\n",
      "Data columns (total 5 columns):\n",
      "Hypothesis    9 non-null object\n",
      "Reach         9 non-null int64\n",
      "Impact        9 non-null int64\n",
      "Confidence    9 non-null int64\n",
      "Efforts       9 non-null int64\n",
      "dtypes: int64(4), object(1)\n",
      "memory usage: 488.0+ bytes\n"
     ]
    },
    {
     "data": {
      "text/html": [
       "<div>\n",
       "<style scoped>\n",
       "    .dataframe tbody tr th:only-of-type {\n",
       "        vertical-align: middle;\n",
       "    }\n",
       "\n",
       "    .dataframe tbody tr th {\n",
       "        vertical-align: top;\n",
       "    }\n",
       "\n",
       "    .dataframe thead th {\n",
       "        text-align: right;\n",
       "    }\n",
       "</style>\n",
       "<table border=\"1\" class=\"dataframe\">\n",
       "  <thead>\n",
       "    <tr style=\"text-align: right;\">\n",
       "      <th></th>\n",
       "      <th>Hypothesis</th>\n",
       "      <th>Reach</th>\n",
       "      <th>Impact</th>\n",
       "      <th>Confidence</th>\n",
       "      <th>Efforts</th>\n",
       "    </tr>\n",
       "  </thead>\n",
       "  <tbody>\n",
       "    <tr>\n",
       "      <td>0</td>\n",
       "      <td>Добавить два новых канала привлечения трафика, что позволит привлекать на 30% больше пользователей</td>\n",
       "      <td>3</td>\n",
       "      <td>10</td>\n",
       "      <td>8</td>\n",
       "      <td>6</td>\n",
       "    </tr>\n",
       "    <tr>\n",
       "      <td>1</td>\n",
       "      <td>Запустить собственную службу доставки, что сократит срок доставки заказов</td>\n",
       "      <td>2</td>\n",
       "      <td>5</td>\n",
       "      <td>4</td>\n",
       "      <td>10</td>\n",
       "    </tr>\n",
       "    <tr>\n",
       "      <td>2</td>\n",
       "      <td>Добавить блоки рекомендаций товаров на сайт интернет магазина, чтобы повысить конверсию и средний чек заказа</td>\n",
       "      <td>8</td>\n",
       "      <td>3</td>\n",
       "      <td>7</td>\n",
       "      <td>3</td>\n",
       "    </tr>\n",
       "    <tr>\n",
       "      <td>3</td>\n",
       "      <td>Изменить структура категорий, что увеличит конверсию, т.к. пользователи быстрее найдут нужный товар</td>\n",
       "      <td>8</td>\n",
       "      <td>3</td>\n",
       "      <td>3</td>\n",
       "      <td>8</td>\n",
       "    </tr>\n",
       "    <tr>\n",
       "      <td>4</td>\n",
       "      <td>Изменить цвет фона главной страницы, чтобы увеличить вовлеченность пользователей</td>\n",
       "      <td>3</td>\n",
       "      <td>1</td>\n",
       "      <td>1</td>\n",
       "      <td>1</td>\n",
       "    </tr>\n",
       "    <tr>\n",
       "      <td>5</td>\n",
       "      <td>Добавить страницу отзывов клиентов о магазине, что позволит увеличить количество заказов</td>\n",
       "      <td>3</td>\n",
       "      <td>2</td>\n",
       "      <td>2</td>\n",
       "      <td>3</td>\n",
       "    </tr>\n",
       "    <tr>\n",
       "      <td>6</td>\n",
       "      <td>Показать на главной странице баннеры с актуальными акциями и распродажами, чтобы увеличить конверсию</td>\n",
       "      <td>5</td>\n",
       "      <td>3</td>\n",
       "      <td>8</td>\n",
       "      <td>3</td>\n",
       "    </tr>\n",
       "    <tr>\n",
       "      <td>7</td>\n",
       "      <td>Добавить форму подписки на все основные страницы, чтобы собрать базу клиентов для email-рассылок</td>\n",
       "      <td>10</td>\n",
       "      <td>7</td>\n",
       "      <td>8</td>\n",
       "      <td>5</td>\n",
       "    </tr>\n",
       "    <tr>\n",
       "      <td>8</td>\n",
       "      <td>Запустить акцию, дающую скидку на товар в день рождения</td>\n",
       "      <td>1</td>\n",
       "      <td>9</td>\n",
       "      <td>9</td>\n",
       "      <td>5</td>\n",
       "    </tr>\n",
       "  </tbody>\n",
       "</table>\n",
       "</div>"
      ],
      "text/plain": [
       "                                                                                                     Hypothesis  \\\n",
       "0            Добавить два новых канала привлечения трафика, что позволит привлекать на 30% больше пользователей   \n",
       "1                                     Запустить собственную службу доставки, что сократит срок доставки заказов   \n",
       "2  Добавить блоки рекомендаций товаров на сайт интернет магазина, чтобы повысить конверсию и средний чек заказа   \n",
       "3           Изменить структура категорий, что увеличит конверсию, т.к. пользователи быстрее найдут нужный товар   \n",
       "4                              Изменить цвет фона главной страницы, чтобы увеличить вовлеченность пользователей   \n",
       "5                      Добавить страницу отзывов клиентов о магазине, что позволит увеличить количество заказов   \n",
       "6          Показать на главной странице баннеры с актуальными акциями и распродажами, чтобы увеличить конверсию   \n",
       "7              Добавить форму подписки на все основные страницы, чтобы собрать базу клиентов для email-рассылок   \n",
       "8                                                       Запустить акцию, дающую скидку на товар в день рождения   \n",
       "\n",
       "   Reach  Impact  Confidence  Efforts  \n",
       "0      3      10           8        6  \n",
       "1      2       5           4       10  \n",
       "2      8       3           7        3  \n",
       "3      8       3           3        8  \n",
       "4      3       1           1        1  \n",
       "5      3       2           2        3  \n",
       "6      5       3           8        3  \n",
       "7     10       7           8        5  \n",
       "8      1       9           9        5  "
      ]
     },
     "metadata": {},
     "output_type": "display_data"
    },
    {
     "data": {
      "text/plain": [
       "None"
      ]
     },
     "metadata": {},
     "output_type": "display_data"
    },
    {
     "name": "stdout",
     "output_type": "stream",
     "text": [
      "<class 'pandas.core.frame.DataFrame'>\n",
      "RangeIndex: 1197 entries, 0 to 1196\n",
      "Data columns (total 5 columns):\n",
      "transactionId    1197 non-null int64\n",
      "visitorId        1197 non-null int64\n",
      "date             1197 non-null object\n",
      "revenue          1197 non-null int64\n",
      "group            1197 non-null object\n",
      "dtypes: int64(3), object(2)\n",
      "memory usage: 46.9+ KB\n"
     ]
    },
    {
     "data": {
      "text/html": [
       "<div>\n",
       "<style scoped>\n",
       "    .dataframe tbody tr th:only-of-type {\n",
       "        vertical-align: middle;\n",
       "    }\n",
       "\n",
       "    .dataframe tbody tr th {\n",
       "        vertical-align: top;\n",
       "    }\n",
       "\n",
       "    .dataframe thead th {\n",
       "        text-align: right;\n",
       "    }\n",
       "</style>\n",
       "<table border=\"1\" class=\"dataframe\">\n",
       "  <thead>\n",
       "    <tr style=\"text-align: right;\">\n",
       "      <th></th>\n",
       "      <th>transactionId</th>\n",
       "      <th>visitorId</th>\n",
       "      <th>date</th>\n",
       "      <th>revenue</th>\n",
       "      <th>group</th>\n",
       "    </tr>\n",
       "  </thead>\n",
       "  <tbody>\n",
       "    <tr>\n",
       "      <td>0</td>\n",
       "      <td>3667963787</td>\n",
       "      <td>3312258926</td>\n",
       "      <td>2019-08-15</td>\n",
       "      <td>1650</td>\n",
       "      <td>B</td>\n",
       "    </tr>\n",
       "    <tr>\n",
       "      <td>1</td>\n",
       "      <td>2804400009</td>\n",
       "      <td>3642806036</td>\n",
       "      <td>2019-08-15</td>\n",
       "      <td>730</td>\n",
       "      <td>B</td>\n",
       "    </tr>\n",
       "    <tr>\n",
       "      <td>2</td>\n",
       "      <td>2961555356</td>\n",
       "      <td>4069496402</td>\n",
       "      <td>2019-08-15</td>\n",
       "      <td>400</td>\n",
       "      <td>A</td>\n",
       "    </tr>\n",
       "    <tr>\n",
       "      <td>3</td>\n",
       "      <td>3797467345</td>\n",
       "      <td>1196621759</td>\n",
       "      <td>2019-08-15</td>\n",
       "      <td>9759</td>\n",
       "      <td>B</td>\n",
       "    </tr>\n",
       "    <tr>\n",
       "      <td>4</td>\n",
       "      <td>2282983706</td>\n",
       "      <td>2322279887</td>\n",
       "      <td>2019-08-15</td>\n",
       "      <td>2308</td>\n",
       "      <td>B</td>\n",
       "    </tr>\n",
       "    <tr>\n",
       "      <td>...</td>\n",
       "      <td>...</td>\n",
       "      <td>...</td>\n",
       "      <td>...</td>\n",
       "      <td>...</td>\n",
       "      <td>...</td>\n",
       "    </tr>\n",
       "    <tr>\n",
       "      <td>1192</td>\n",
       "      <td>2662137336</td>\n",
       "      <td>3733762160</td>\n",
       "      <td>2019-08-14</td>\n",
       "      <td>6490</td>\n",
       "      <td>B</td>\n",
       "    </tr>\n",
       "    <tr>\n",
       "      <td>1193</td>\n",
       "      <td>2203539145</td>\n",
       "      <td>370388673</td>\n",
       "      <td>2019-08-14</td>\n",
       "      <td>3190</td>\n",
       "      <td>A</td>\n",
       "    </tr>\n",
       "    <tr>\n",
       "      <td>1194</td>\n",
       "      <td>1807773912</td>\n",
       "      <td>573423106</td>\n",
       "      <td>2019-08-14</td>\n",
       "      <td>10550</td>\n",
       "      <td>A</td>\n",
       "    </tr>\n",
       "    <tr>\n",
       "      <td>1195</td>\n",
       "      <td>1947021204</td>\n",
       "      <td>1614305549</td>\n",
       "      <td>2019-08-14</td>\n",
       "      <td>100</td>\n",
       "      <td>A</td>\n",
       "    </tr>\n",
       "    <tr>\n",
       "      <td>1196</td>\n",
       "      <td>3936777065</td>\n",
       "      <td>2108080724</td>\n",
       "      <td>2019-08-15</td>\n",
       "      <td>202740</td>\n",
       "      <td>B</td>\n",
       "    </tr>\n",
       "  </tbody>\n",
       "</table>\n",
       "<p>1197 rows × 5 columns</p>\n",
       "</div>"
      ],
      "text/plain": [
       "      transactionId   visitorId        date  revenue group\n",
       "0        3667963787  3312258926  2019-08-15     1650     B\n",
       "1        2804400009  3642806036  2019-08-15      730     B\n",
       "2        2961555356  4069496402  2019-08-15      400     A\n",
       "3        3797467345  1196621759  2019-08-15     9759     B\n",
       "4        2282983706  2322279887  2019-08-15     2308     B\n",
       "...             ...         ...         ...      ...   ...\n",
       "1192     2662137336  3733762160  2019-08-14     6490     B\n",
       "1193     2203539145   370388673  2019-08-14     3190     A\n",
       "1194     1807773912   573423106  2019-08-14    10550     A\n",
       "1195     1947021204  1614305549  2019-08-14      100     A\n",
       "1196     3936777065  2108080724  2019-08-15   202740     B\n",
       "\n",
       "[1197 rows x 5 columns]"
      ]
     },
     "metadata": {},
     "output_type": "display_data"
    },
    {
     "data": {
      "text/plain": [
       "None"
      ]
     },
     "metadata": {},
     "output_type": "display_data"
    },
    {
     "name": "stdout",
     "output_type": "stream",
     "text": [
      "<class 'pandas.core.frame.DataFrame'>\n",
      "RangeIndex: 62 entries, 0 to 61\n",
      "Data columns (total 3 columns):\n",
      "date        62 non-null object\n",
      "group       62 non-null object\n",
      "visitors    62 non-null int64\n",
      "dtypes: int64(1), object(2)\n",
      "memory usage: 1.6+ KB\n"
     ]
    },
    {
     "data": {
      "text/html": [
       "<div>\n",
       "<style scoped>\n",
       "    .dataframe tbody tr th:only-of-type {\n",
       "        vertical-align: middle;\n",
       "    }\n",
       "\n",
       "    .dataframe tbody tr th {\n",
       "        vertical-align: top;\n",
       "    }\n",
       "\n",
       "    .dataframe thead th {\n",
       "        text-align: right;\n",
       "    }\n",
       "</style>\n",
       "<table border=\"1\" class=\"dataframe\">\n",
       "  <thead>\n",
       "    <tr style=\"text-align: right;\">\n",
       "      <th></th>\n",
       "      <th>date</th>\n",
       "      <th>group</th>\n",
       "      <th>visitors</th>\n",
       "    </tr>\n",
       "  </thead>\n",
       "  <tbody>\n",
       "    <tr>\n",
       "      <td>0</td>\n",
       "      <td>2019-08-01</td>\n",
       "      <td>A</td>\n",
       "      <td>719</td>\n",
       "    </tr>\n",
       "    <tr>\n",
       "      <td>1</td>\n",
       "      <td>2019-08-02</td>\n",
       "      <td>A</td>\n",
       "      <td>619</td>\n",
       "    </tr>\n",
       "    <tr>\n",
       "      <td>2</td>\n",
       "      <td>2019-08-03</td>\n",
       "      <td>A</td>\n",
       "      <td>507</td>\n",
       "    </tr>\n",
       "    <tr>\n",
       "      <td>3</td>\n",
       "      <td>2019-08-04</td>\n",
       "      <td>A</td>\n",
       "      <td>717</td>\n",
       "    </tr>\n",
       "    <tr>\n",
       "      <td>4</td>\n",
       "      <td>2019-08-05</td>\n",
       "      <td>A</td>\n",
       "      <td>756</td>\n",
       "    </tr>\n",
       "    <tr>\n",
       "      <td>...</td>\n",
       "      <td>...</td>\n",
       "      <td>...</td>\n",
       "      <td>...</td>\n",
       "    </tr>\n",
       "    <tr>\n",
       "      <td>57</td>\n",
       "      <td>2019-08-27</td>\n",
       "      <td>B</td>\n",
       "      <td>720</td>\n",
       "    </tr>\n",
       "    <tr>\n",
       "      <td>58</td>\n",
       "      <td>2019-08-28</td>\n",
       "      <td>B</td>\n",
       "      <td>654</td>\n",
       "    </tr>\n",
       "    <tr>\n",
       "      <td>59</td>\n",
       "      <td>2019-08-29</td>\n",
       "      <td>B</td>\n",
       "      <td>531</td>\n",
       "    </tr>\n",
       "    <tr>\n",
       "      <td>60</td>\n",
       "      <td>2019-08-30</td>\n",
       "      <td>B</td>\n",
       "      <td>490</td>\n",
       "    </tr>\n",
       "    <tr>\n",
       "      <td>61</td>\n",
       "      <td>2019-08-31</td>\n",
       "      <td>B</td>\n",
       "      <td>718</td>\n",
       "    </tr>\n",
       "  </tbody>\n",
       "</table>\n",
       "<p>62 rows × 3 columns</p>\n",
       "</div>"
      ],
      "text/plain": [
       "          date group  visitors\n",
       "0   2019-08-01     A       719\n",
       "1   2019-08-02     A       619\n",
       "2   2019-08-03     A       507\n",
       "3   2019-08-04     A       717\n",
       "4   2019-08-05     A       756\n",
       "..         ...   ...       ...\n",
       "57  2019-08-27     B       720\n",
       "58  2019-08-28     B       654\n",
       "59  2019-08-29     B       531\n",
       "60  2019-08-30     B       490\n",
       "61  2019-08-31     B       718\n",
       "\n",
       "[62 rows x 3 columns]"
      ]
     },
     "metadata": {},
     "output_type": "display_data"
    },
    {
     "data": {
      "text/plain": [
       "None"
      ]
     },
     "metadata": {},
     "output_type": "display_data"
    }
   ],
   "source": [
    "try:\n",
    "    hypothesis = pd.read_csv('/datasets/hypothesis.csv')\n",
    "    orders = pd.read_csv('/datasets/orders.csv')\n",
    "    visitors = pd.read_csv('/datasets/visitors.csv')\n",
    "except:\n",
    "    hypothesis = pd.read_csv('C:/Users/K/Desktop/datasets/hypothesis.csv')\n",
    "    orders = pd.read_csv('C:/Users/K/Desktop/datasets/orders.csv')\n",
    "    visitors = pd.read_csv('C:/Users/K/Desktop/datasets/visitors.csv')\n",
    "\n",
    "display(hypothesis, hypothesis.info())\n",
    "display(orders, orders.info())\n",
    "display(visitors, visitors.info())"
   ]
  },
  {
   "cell_type": "markdown",
   "metadata": {},
   "source": [
    "Вывод: таблица - hypothesis содержит наименования столбцов в верхнем регистре. Таблицы orders и visits столбцы с датами имеют тип object."
   ]
  },
  {
   "cell_type": "code",
   "execution_count": 3,
   "metadata": {
    "scrolled": true
   },
   "outputs": [
    {
     "data": {
      "text/html": [
       "<div>\n",
       "<style scoped>\n",
       "    .dataframe tbody tr th:only-of-type {\n",
       "        vertical-align: middle;\n",
       "    }\n",
       "\n",
       "    .dataframe tbody tr th {\n",
       "        vertical-align: top;\n",
       "    }\n",
       "\n",
       "    .dataframe thead th {\n",
       "        text-align: right;\n",
       "    }\n",
       "</style>\n",
       "<table border=\"1\" class=\"dataframe\">\n",
       "  <thead>\n",
       "    <tr style=\"text-align: right;\">\n",
       "      <th></th>\n",
       "      <th>hypothesis</th>\n",
       "      <th>reach</th>\n",
       "      <th>impact</th>\n",
       "      <th>confidence</th>\n",
       "      <th>efforts</th>\n",
       "    </tr>\n",
       "  </thead>\n",
       "  <tbody>\n",
       "    <tr>\n",
       "      <td>0</td>\n",
       "      <td>Добавить два новых канала привлечения трафика, что позволит привлекать на 30% больше пользователей</td>\n",
       "      <td>3</td>\n",
       "      <td>10</td>\n",
       "      <td>8</td>\n",
       "      <td>6</td>\n",
       "    </tr>\n",
       "    <tr>\n",
       "      <td>1</td>\n",
       "      <td>Запустить собственную службу доставки, что сократит срок доставки заказов</td>\n",
       "      <td>2</td>\n",
       "      <td>5</td>\n",
       "      <td>4</td>\n",
       "      <td>10</td>\n",
       "    </tr>\n",
       "    <tr>\n",
       "      <td>2</td>\n",
       "      <td>Добавить блоки рекомендаций товаров на сайт интернет магазина, чтобы повысить конверсию и средний чек заказа</td>\n",
       "      <td>8</td>\n",
       "      <td>3</td>\n",
       "      <td>7</td>\n",
       "      <td>3</td>\n",
       "    </tr>\n",
       "    <tr>\n",
       "      <td>3</td>\n",
       "      <td>Изменить структура категорий, что увеличит конверсию, т.к. пользователи быстрее найдут нужный товар</td>\n",
       "      <td>8</td>\n",
       "      <td>3</td>\n",
       "      <td>3</td>\n",
       "      <td>8</td>\n",
       "    </tr>\n",
       "    <tr>\n",
       "      <td>4</td>\n",
       "      <td>Изменить цвет фона главной страницы, чтобы увеличить вовлеченность пользователей</td>\n",
       "      <td>3</td>\n",
       "      <td>1</td>\n",
       "      <td>1</td>\n",
       "      <td>1</td>\n",
       "    </tr>\n",
       "    <tr>\n",
       "      <td>5</td>\n",
       "      <td>Добавить страницу отзывов клиентов о магазине, что позволит увеличить количество заказов</td>\n",
       "      <td>3</td>\n",
       "      <td>2</td>\n",
       "      <td>2</td>\n",
       "      <td>3</td>\n",
       "    </tr>\n",
       "    <tr>\n",
       "      <td>6</td>\n",
       "      <td>Показать на главной странице баннеры с актуальными акциями и распродажами, чтобы увеличить конверсию</td>\n",
       "      <td>5</td>\n",
       "      <td>3</td>\n",
       "      <td>8</td>\n",
       "      <td>3</td>\n",
       "    </tr>\n",
       "    <tr>\n",
       "      <td>7</td>\n",
       "      <td>Добавить форму подписки на все основные страницы, чтобы собрать базу клиентов для email-рассылок</td>\n",
       "      <td>10</td>\n",
       "      <td>7</td>\n",
       "      <td>8</td>\n",
       "      <td>5</td>\n",
       "    </tr>\n",
       "    <tr>\n",
       "      <td>8</td>\n",
       "      <td>Запустить акцию, дающую скидку на товар в день рождения</td>\n",
       "      <td>1</td>\n",
       "      <td>9</td>\n",
       "      <td>9</td>\n",
       "      <td>5</td>\n",
       "    </tr>\n",
       "  </tbody>\n",
       "</table>\n",
       "</div>"
      ],
      "text/plain": [
       "                                                                                                     hypothesis  \\\n",
       "0            Добавить два новых канала привлечения трафика, что позволит привлекать на 30% больше пользователей   \n",
       "1                                     Запустить собственную службу доставки, что сократит срок доставки заказов   \n",
       "2  Добавить блоки рекомендаций товаров на сайт интернет магазина, чтобы повысить конверсию и средний чек заказа   \n",
       "3           Изменить структура категорий, что увеличит конверсию, т.к. пользователи быстрее найдут нужный товар   \n",
       "4                              Изменить цвет фона главной страницы, чтобы увеличить вовлеченность пользователей   \n",
       "5                      Добавить страницу отзывов клиентов о магазине, что позволит увеличить количество заказов   \n",
       "6          Показать на главной странице баннеры с актуальными акциями и распродажами, чтобы увеличить конверсию   \n",
       "7              Добавить форму подписки на все основные страницы, чтобы собрать базу клиентов для email-рассылок   \n",
       "8                                                       Запустить акцию, дающую скидку на товар в день рождения   \n",
       "\n",
       "   reach  impact  confidence  efforts  \n",
       "0      3      10           8        6  \n",
       "1      2       5           4       10  \n",
       "2      8       3           7        3  \n",
       "3      8       3           3        8  \n",
       "4      3       1           1        1  \n",
       "5      3       2           2        3  \n",
       "6      5       3           8        3  \n",
       "7     10       7           8        5  \n",
       "8      1       9           9        5  "
      ]
     },
     "metadata": {},
     "output_type": "display_data"
    }
   ],
   "source": [
    "#Переводим названия столбцов hypothesis в нижний регистр:\n",
    "hypothesis.columns = [x.lower() for x in hypothesis.columns]\n",
    "display(hypothesis)\n",
    "\n",
    "#Другие варианты:\n",
    "#hypothesis.columns = map(str.lower, hypothesis.columns)\n",
    "#hypothesis.columns = hypothesis.columns.str.lower()\n",
    "\n",
    "#Приведем столбцы с датами к типу date:\n",
    "orders['date'] = orders['date'].map(lambda x: dt.datetime.strptime(x, '%Y-%m-%d'))\n",
    "visitors['date'] = visitors['date'].map(lambda x: dt.datetime.strptime(x, '%Y-%m-%d'))"
   ]
  },
  {
   "cell_type": "code",
   "execution_count": 4,
   "metadata": {},
   "outputs": [
    {
     "data": {
      "text/plain": [
       "group\n",
       "A    557\n",
       "B    640\n",
       "Name: visitorId, dtype: int64"
      ]
     },
     "metadata": {},
     "output_type": "display_data"
    },
    {
     "data": {
      "text/plain": [
       "group\n",
       "A    18736\n",
       "B    18916\n",
       "Name: visitors, dtype: int64"
      ]
     },
     "metadata": {},
     "output_type": "display_data"
    }
   ],
   "source": [
    "#Проверим данные в столбцах с категориями:\n",
    "display(orders.groupby(['group'])['visitorId'].count())\n",
    "display(visitors.groupby(['group'])['visitors'].sum())"
   ]
  },
  {
   "cell_type": "markdown",
   "metadata": {},
   "source": [
    "Вывод: Аномальных значений в группах обоих таблиц нет, данные по граппам распределены приемлемо."
   ]
  },
  {
   "cell_type": "code",
   "execution_count": 5,
   "metadata": {
    "scrolled": false
   },
   "outputs": [
    {
     "data": {
      "text/plain": [
       "58"
      ]
     },
     "metadata": {},
     "output_type": "display_data"
    },
    {
     "data": {
      "text/plain": [
       "1031"
      ]
     },
     "metadata": {},
     "output_type": "display_data"
    },
    {
     "data": {
      "text/html": [
       "<div>\n",
       "<style scoped>\n",
       "    .dataframe tbody tr th:only-of-type {\n",
       "        vertical-align: middle;\n",
       "    }\n",
       "\n",
       "    .dataframe tbody tr th {\n",
       "        vertical-align: top;\n",
       "    }\n",
       "\n",
       "    .dataframe thead th {\n",
       "        text-align: right;\n",
       "    }\n",
       "</style>\n",
       "<table border=\"1\" class=\"dataframe\">\n",
       "  <thead>\n",
       "    <tr style=\"text-align: right;\">\n",
       "      <th></th>\n",
       "      <th>transactionId</th>\n",
       "      <th>visitorId</th>\n",
       "      <th>date</th>\n",
       "      <th>revenue</th>\n",
       "      <th>group</th>\n",
       "    </tr>\n",
       "  </thead>\n",
       "  <tbody>\n",
       "    <tr>\n",
       "      <td>0</td>\n",
       "      <td>3667963787</td>\n",
       "      <td>3312258926</td>\n",
       "      <td>2019-08-15</td>\n",
       "      <td>1650</td>\n",
       "      <td>B</td>\n",
       "    </tr>\n",
       "    <tr>\n",
       "      <td>1</td>\n",
       "      <td>2804400009</td>\n",
       "      <td>3642806036</td>\n",
       "      <td>2019-08-15</td>\n",
       "      <td>730</td>\n",
       "      <td>B</td>\n",
       "    </tr>\n",
       "    <tr>\n",
       "      <td>3</td>\n",
       "      <td>3797467345</td>\n",
       "      <td>1196621759</td>\n",
       "      <td>2019-08-15</td>\n",
       "      <td>9759</td>\n",
       "      <td>B</td>\n",
       "    </tr>\n",
       "    <tr>\n",
       "      <td>4</td>\n",
       "      <td>2282983706</td>\n",
       "      <td>2322279887</td>\n",
       "      <td>2019-08-15</td>\n",
       "      <td>2308</td>\n",
       "      <td>B</td>\n",
       "    </tr>\n",
       "    <tr>\n",
       "      <td>5</td>\n",
       "      <td>182168103</td>\n",
       "      <td>935554773</td>\n",
       "      <td>2019-08-15</td>\n",
       "      <td>2210</td>\n",
       "      <td>B</td>\n",
       "    </tr>\n",
       "    <tr>\n",
       "      <td>...</td>\n",
       "      <td>...</td>\n",
       "      <td>...</td>\n",
       "      <td>...</td>\n",
       "      <td>...</td>\n",
       "      <td>...</td>\n",
       "    </tr>\n",
       "    <tr>\n",
       "      <td>1191</td>\n",
       "      <td>3592955527</td>\n",
       "      <td>608641596</td>\n",
       "      <td>2019-08-14</td>\n",
       "      <td>16490</td>\n",
       "      <td>B</td>\n",
       "    </tr>\n",
       "    <tr>\n",
       "      <td>1192</td>\n",
       "      <td>2662137336</td>\n",
       "      <td>3733762160</td>\n",
       "      <td>2019-08-14</td>\n",
       "      <td>6490</td>\n",
       "      <td>B</td>\n",
       "    </tr>\n",
       "    <tr>\n",
       "      <td>1193</td>\n",
       "      <td>2203539145</td>\n",
       "      <td>370388673</td>\n",
       "      <td>2019-08-14</td>\n",
       "      <td>3190</td>\n",
       "      <td>A</td>\n",
       "    </tr>\n",
       "    <tr>\n",
       "      <td>1194</td>\n",
       "      <td>1807773912</td>\n",
       "      <td>573423106</td>\n",
       "      <td>2019-08-14</td>\n",
       "      <td>10550</td>\n",
       "      <td>A</td>\n",
       "    </tr>\n",
       "    <tr>\n",
       "      <td>1196</td>\n",
       "      <td>3936777065</td>\n",
       "      <td>2108080724</td>\n",
       "      <td>2019-08-15</td>\n",
       "      <td>202740</td>\n",
       "      <td>B</td>\n",
       "    </tr>\n",
       "  </tbody>\n",
       "</table>\n",
       "<p>1016 rows × 5 columns</p>\n",
       "</div>"
      ],
      "text/plain": [
       "      transactionId   visitorId       date  revenue group\n",
       "0        3667963787  3312258926 2019-08-15     1650     B\n",
       "1        2804400009  3642806036 2019-08-15      730     B\n",
       "3        3797467345  1196621759 2019-08-15     9759     B\n",
       "4        2282983706  2322279887 2019-08-15     2308     B\n",
       "5         182168103   935554773 2019-08-15     2210     B\n",
       "...             ...         ...        ...      ...   ...\n",
       "1191     3592955527   608641596 2019-08-14    16490     B\n",
       "1192     2662137336  3733762160 2019-08-14     6490     B\n",
       "1193     2203539145   370388673 2019-08-14     3190     A\n",
       "1194     1807773912   573423106 2019-08-14    10550     A\n",
       "1196     3936777065  2108080724 2019-08-15   202740     B\n",
       "\n",
       "[1016 rows x 5 columns]"
      ]
     },
     "metadata": {},
     "output_type": "display_data"
    },
    {
     "data": {
      "text/plain": [
       "973"
      ]
     },
     "metadata": {},
     "output_type": "display_data"
    }
   ],
   "source": [
    "# Проверим есть ли пользователи, которые одновременно находятся в двух группах\n",
    "\n",
    "# Разделим заказы на две группы:\n",
    "group_a = orders[orders['group']=='A']\n",
    "group_b = orders[orders['group']=='B']\n",
    "\n",
    "# Найдем пользователей, которые присутствуют в обоих группах одновременно:\n",
    "merge_group = pd.merge(group_a, group_b, on='visitorId', suffixes=['_A','_B'])\n",
    "\n",
    "# Создаем список уникальных пользователей:\n",
    "a_and_b_users = merge_group['visitorId'].unique()\n",
    "display(len(a_and_b_users))\n",
    "display(orders['visitorId'].nunique())\n",
    "\n",
    "# Удалим пользователей из таблицы заказов:\n",
    "orders = orders[~orders['visitorId'].isin(a_and_b_users)]\n",
    "display(orders)\n",
    "display(orders['visitorId'].nunique())\n",
    "\n",
    "# 2-й способ формирования списка пользователей состоящих в двух группах:\n",
    "#order2 = orders_.groupby('visitorId')['group'].apply(lambda x: x.unique()).reset_index()\n",
    "#order2['len'] = order2['group'].str.join(',').str.len()\n",
    "#order2 = order2[order2['len']>1]\n",
    "#display(order2['visitorId'].unique())"
   ]
  },
  {
   "cell_type": "markdown",
   "metadata": {},
   "source": [
    "Вывод: Количество пользователей, которые состоят одновременно в обоих группах - 58, заказы этих пользователей удалены из таблицы заказов - 1031-58=973."
   ]
  },
  {
   "cell_type": "markdown",
   "metadata": {},
   "source": [
    "# Приоритизация гипотез."
   ]
  },
  {
   "cell_type": "code",
   "execution_count": 7,
   "metadata": {},
   "outputs": [
    {
     "data": {
      "text/html": [
       "<div>\n",
       "<style scoped>\n",
       "    .dataframe tbody tr th:only-of-type {\n",
       "        vertical-align: middle;\n",
       "    }\n",
       "\n",
       "    .dataframe tbody tr th {\n",
       "        vertical-align: top;\n",
       "    }\n",
       "\n",
       "    .dataframe thead th {\n",
       "        text-align: right;\n",
       "    }\n",
       "</style>\n",
       "<table border=\"1\" class=\"dataframe\">\n",
       "  <thead>\n",
       "    <tr style=\"text-align: right;\">\n",
       "      <th></th>\n",
       "      <th>hypothesis</th>\n",
       "      <th>reach</th>\n",
       "      <th>impact</th>\n",
       "      <th>confidence</th>\n",
       "      <th>efforts</th>\n",
       "      <th>ice</th>\n",
       "      <th>ice_position</th>\n",
       "    </tr>\n",
       "  </thead>\n",
       "  <tbody>\n",
       "    <tr>\n",
       "      <td>8</td>\n",
       "      <td>Запустить акцию, дающую скидку на товар в день рождения</td>\n",
       "      <td>1</td>\n",
       "      <td>9</td>\n",
       "      <td>9</td>\n",
       "      <td>5</td>\n",
       "      <td>16.200000</td>\n",
       "      <td>1</td>\n",
       "    </tr>\n",
       "    <tr>\n",
       "      <td>0</td>\n",
       "      <td>Добавить два новых канала привлечения трафика, что позволит привлекать на 30% больше пользователей</td>\n",
       "      <td>3</td>\n",
       "      <td>10</td>\n",
       "      <td>8</td>\n",
       "      <td>6</td>\n",
       "      <td>13.333333</td>\n",
       "      <td>2</td>\n",
       "    </tr>\n",
       "    <tr>\n",
       "      <td>7</td>\n",
       "      <td>Добавить форму подписки на все основные страницы, чтобы собрать базу клиентов для email-рассылок</td>\n",
       "      <td>10</td>\n",
       "      <td>7</td>\n",
       "      <td>8</td>\n",
       "      <td>5</td>\n",
       "      <td>11.200000</td>\n",
       "      <td>3</td>\n",
       "    </tr>\n",
       "    <tr>\n",
       "      <td>6</td>\n",
       "      <td>Показать на главной странице баннеры с актуальными акциями и распродажами, чтобы увеличить конверсию</td>\n",
       "      <td>5</td>\n",
       "      <td>3</td>\n",
       "      <td>8</td>\n",
       "      <td>3</td>\n",
       "      <td>8.000000</td>\n",
       "      <td>4</td>\n",
       "    </tr>\n",
       "    <tr>\n",
       "      <td>2</td>\n",
       "      <td>Добавить блоки рекомендаций товаров на сайт интернет магазина, чтобы повысить конверсию и средний чек заказа</td>\n",
       "      <td>8</td>\n",
       "      <td>3</td>\n",
       "      <td>7</td>\n",
       "      <td>3</td>\n",
       "      <td>7.000000</td>\n",
       "      <td>5</td>\n",
       "    </tr>\n",
       "    <tr>\n",
       "      <td>1</td>\n",
       "      <td>Запустить собственную службу доставки, что сократит срок доставки заказов</td>\n",
       "      <td>2</td>\n",
       "      <td>5</td>\n",
       "      <td>4</td>\n",
       "      <td>10</td>\n",
       "      <td>2.000000</td>\n",
       "      <td>6</td>\n",
       "    </tr>\n",
       "    <tr>\n",
       "      <td>5</td>\n",
       "      <td>Добавить страницу отзывов клиентов о магазине, что позволит увеличить количество заказов</td>\n",
       "      <td>3</td>\n",
       "      <td>2</td>\n",
       "      <td>2</td>\n",
       "      <td>3</td>\n",
       "      <td>1.333333</td>\n",
       "      <td>7</td>\n",
       "    </tr>\n",
       "    <tr>\n",
       "      <td>3</td>\n",
       "      <td>Изменить структура категорий, что увеличит конверсию, т.к. пользователи быстрее найдут нужный товар</td>\n",
       "      <td>8</td>\n",
       "      <td>3</td>\n",
       "      <td>3</td>\n",
       "      <td>8</td>\n",
       "      <td>1.125000</td>\n",
       "      <td>8</td>\n",
       "    </tr>\n",
       "    <tr>\n",
       "      <td>4</td>\n",
       "      <td>Изменить цвет фона главной страницы, чтобы увеличить вовлеченность пользователей</td>\n",
       "      <td>3</td>\n",
       "      <td>1</td>\n",
       "      <td>1</td>\n",
       "      <td>1</td>\n",
       "      <td>1.000000</td>\n",
       "      <td>9</td>\n",
       "    </tr>\n",
       "  </tbody>\n",
       "</table>\n",
       "</div>"
      ],
      "text/plain": [
       "                                                                                                     hypothesis  \\\n",
       "8                                                       Запустить акцию, дающую скидку на товар в день рождения   \n",
       "0            Добавить два новых канала привлечения трафика, что позволит привлекать на 30% больше пользователей   \n",
       "7              Добавить форму подписки на все основные страницы, чтобы собрать базу клиентов для email-рассылок   \n",
       "6          Показать на главной странице баннеры с актуальными акциями и распродажами, чтобы увеличить конверсию   \n",
       "2  Добавить блоки рекомендаций товаров на сайт интернет магазина, чтобы повысить конверсию и средний чек заказа   \n",
       "1                                     Запустить собственную службу доставки, что сократит срок доставки заказов   \n",
       "5                      Добавить страницу отзывов клиентов о магазине, что позволит увеличить количество заказов   \n",
       "3           Изменить структура категорий, что увеличит конверсию, т.к. пользователи быстрее найдут нужный товар   \n",
       "4                              Изменить цвет фона главной страницы, чтобы увеличить вовлеченность пользователей   \n",
       "\n",
       "   reach  impact  confidence  efforts        ice  ice_position  \n",
       "8      1       9           9        5  16.200000             1  \n",
       "0      3      10           8        6  13.333333             2  \n",
       "7     10       7           8        5  11.200000             3  \n",
       "6      5       3           8        3   8.000000             4  \n",
       "2      8       3           7        3   7.000000             5  \n",
       "1      2       5           4       10   2.000000             6  \n",
       "5      3       2           2        3   1.333333             7  \n",
       "3      8       3           3        8   1.125000             8  \n",
       "4      3       1           1        1   1.000000             9  "
      ]
     },
     "metadata": {},
     "output_type": "display_data"
    }
   ],
   "source": [
    "#Приоритизируем гипотезы с помощью фреймворка ICE по формуле: (ICE = (impact*confidence)/efforts).\n",
    "hypothesis['ice'] = (hypothesis['impact'] * hypothesis['confidence']) / hypothesis['efforts']\n",
    "hypothesis.sort_values(by='ice', ascending=False, inplace=True)\n",
    "hypothesis['ice_position'] = range(1, len(hypothesis)+1)\n",
    "display(hypothesis)"
   ]
  },
  {
   "cell_type": "code",
   "execution_count": 8,
   "metadata": {},
   "outputs": [
    {
     "data": {
      "text/html": [
       "<div>\n",
       "<style scoped>\n",
       "    .dataframe tbody tr th:only-of-type {\n",
       "        vertical-align: middle;\n",
       "    }\n",
       "\n",
       "    .dataframe tbody tr th {\n",
       "        vertical-align: top;\n",
       "    }\n",
       "\n",
       "    .dataframe thead th {\n",
       "        text-align: right;\n",
       "    }\n",
       "</style>\n",
       "<table border=\"1\" class=\"dataframe\">\n",
       "  <thead>\n",
       "    <tr style=\"text-align: right;\">\n",
       "      <th></th>\n",
       "      <th>hypothesis</th>\n",
       "      <th>reach</th>\n",
       "      <th>impact</th>\n",
       "      <th>confidence</th>\n",
       "      <th>efforts</th>\n",
       "      <th>ice</th>\n",
       "      <th>ice_position</th>\n",
       "      <th>rice</th>\n",
       "      <th>rice_position</th>\n",
       "    </tr>\n",
       "  </thead>\n",
       "  <tbody>\n",
       "    <tr>\n",
       "      <td>7</td>\n",
       "      <td>Добавить форму подписки на все основные страницы, чтобы собрать базу клиентов для email-рассылок</td>\n",
       "      <td>10</td>\n",
       "      <td>7</td>\n",
       "      <td>8</td>\n",
       "      <td>5</td>\n",
       "      <td>11.200000</td>\n",
       "      <td>3</td>\n",
       "      <td>112.0</td>\n",
       "      <td>1</td>\n",
       "    </tr>\n",
       "    <tr>\n",
       "      <td>2</td>\n",
       "      <td>Добавить блоки рекомендаций товаров на сайт интернет магазина, чтобы повысить конверсию и средний чек заказа</td>\n",
       "      <td>8</td>\n",
       "      <td>3</td>\n",
       "      <td>7</td>\n",
       "      <td>3</td>\n",
       "      <td>7.000000</td>\n",
       "      <td>5</td>\n",
       "      <td>56.0</td>\n",
       "      <td>2</td>\n",
       "    </tr>\n",
       "    <tr>\n",
       "      <td>0</td>\n",
       "      <td>Добавить два новых канала привлечения трафика, что позволит привлекать на 30% больше пользователей</td>\n",
       "      <td>3</td>\n",
       "      <td>10</td>\n",
       "      <td>8</td>\n",
       "      <td>6</td>\n",
       "      <td>13.333333</td>\n",
       "      <td>2</td>\n",
       "      <td>40.0</td>\n",
       "      <td>3</td>\n",
       "    </tr>\n",
       "    <tr>\n",
       "      <td>6</td>\n",
       "      <td>Показать на главной странице баннеры с актуальными акциями и распродажами, чтобы увеличить конверсию</td>\n",
       "      <td>5</td>\n",
       "      <td>3</td>\n",
       "      <td>8</td>\n",
       "      <td>3</td>\n",
       "      <td>8.000000</td>\n",
       "      <td>4</td>\n",
       "      <td>40.0</td>\n",
       "      <td>4</td>\n",
       "    </tr>\n",
       "    <tr>\n",
       "      <td>8</td>\n",
       "      <td>Запустить акцию, дающую скидку на товар в день рождения</td>\n",
       "      <td>1</td>\n",
       "      <td>9</td>\n",
       "      <td>9</td>\n",
       "      <td>5</td>\n",
       "      <td>16.200000</td>\n",
       "      <td>1</td>\n",
       "      <td>16.2</td>\n",
       "      <td>5</td>\n",
       "    </tr>\n",
       "    <tr>\n",
       "      <td>3</td>\n",
       "      <td>Изменить структура категорий, что увеличит конверсию, т.к. пользователи быстрее найдут нужный товар</td>\n",
       "      <td>8</td>\n",
       "      <td>3</td>\n",
       "      <td>3</td>\n",
       "      <td>8</td>\n",
       "      <td>1.125000</td>\n",
       "      <td>8</td>\n",
       "      <td>9.0</td>\n",
       "      <td>6</td>\n",
       "    </tr>\n",
       "    <tr>\n",
       "      <td>1</td>\n",
       "      <td>Запустить собственную службу доставки, что сократит срок доставки заказов</td>\n",
       "      <td>2</td>\n",
       "      <td>5</td>\n",
       "      <td>4</td>\n",
       "      <td>10</td>\n",
       "      <td>2.000000</td>\n",
       "      <td>6</td>\n",
       "      <td>4.0</td>\n",
       "      <td>7</td>\n",
       "    </tr>\n",
       "    <tr>\n",
       "      <td>5</td>\n",
       "      <td>Добавить страницу отзывов клиентов о магазине, что позволит увеличить количество заказов</td>\n",
       "      <td>3</td>\n",
       "      <td>2</td>\n",
       "      <td>2</td>\n",
       "      <td>3</td>\n",
       "      <td>1.333333</td>\n",
       "      <td>7</td>\n",
       "      <td>4.0</td>\n",
       "      <td>8</td>\n",
       "    </tr>\n",
       "    <tr>\n",
       "      <td>4</td>\n",
       "      <td>Изменить цвет фона главной страницы, чтобы увеличить вовлеченность пользователей</td>\n",
       "      <td>3</td>\n",
       "      <td>1</td>\n",
       "      <td>1</td>\n",
       "      <td>1</td>\n",
       "      <td>1.000000</td>\n",
       "      <td>9</td>\n",
       "      <td>3.0</td>\n",
       "      <td>9</td>\n",
       "    </tr>\n",
       "  </tbody>\n",
       "</table>\n",
       "</div>"
      ],
      "text/plain": [
       "                                                                                                     hypothesis  \\\n",
       "7              Добавить форму подписки на все основные страницы, чтобы собрать базу клиентов для email-рассылок   \n",
       "2  Добавить блоки рекомендаций товаров на сайт интернет магазина, чтобы повысить конверсию и средний чек заказа   \n",
       "0            Добавить два новых канала привлечения трафика, что позволит привлекать на 30% больше пользователей   \n",
       "6          Показать на главной странице баннеры с актуальными акциями и распродажами, чтобы увеличить конверсию   \n",
       "8                                                       Запустить акцию, дающую скидку на товар в день рождения   \n",
       "3           Изменить структура категорий, что увеличит конверсию, т.к. пользователи быстрее найдут нужный товар   \n",
       "1                                     Запустить собственную службу доставки, что сократит срок доставки заказов   \n",
       "5                      Добавить страницу отзывов клиентов о магазине, что позволит увеличить количество заказов   \n",
       "4                              Изменить цвет фона главной страницы, чтобы увеличить вовлеченность пользователей   \n",
       "\n",
       "   reach  impact  confidence  efforts        ice  ice_position   rice  \\\n",
       "7     10       7           8        5  11.200000             3  112.0   \n",
       "2      8       3           7        3   7.000000             5   56.0   \n",
       "0      3      10           8        6  13.333333             2   40.0   \n",
       "6      5       3           8        3   8.000000             4   40.0   \n",
       "8      1       9           9        5  16.200000             1   16.2   \n",
       "3      8       3           3        8   1.125000             8    9.0   \n",
       "1      2       5           4       10   2.000000             6    4.0   \n",
       "5      3       2           2        3   1.333333             7    4.0   \n",
       "4      3       1           1        1   1.000000             9    3.0   \n",
       "\n",
       "   rice_position  \n",
       "7              1  \n",
       "2              2  \n",
       "0              3  \n",
       "6              4  \n",
       "8              5  \n",
       "3              6  \n",
       "1              7  \n",
       "5              8  \n",
       "4              9  "
      ]
     },
     "metadata": {},
     "output_type": "display_data"
    }
   ],
   "source": [
    "#Приоритизируем гипотезы с помощью фреймворка RICE по формуле: (RICE = (reach*impact*confidence)/efforts\n",
    "hypothesis['rice'] = (hypothesis['reach'] * hypothesis['impact'] * hypothesis['confidence']) / hypothesis['efforts']\n",
    "hypothesis.sort_values(by='rice', ascending=False, inplace = True)\n",
    "hypothesis['rice_position'] = range(1, len(hypothesis)+1)\n",
    "display(hypothesis)"
   ]
  },
  {
   "cell_type": "markdown",
   "metadata": {},
   "source": [
    "Вывод: в столбце - ice_position - указана позиция гипотезы по методу ice. Если сравнить позиции гипотез по двум методам ice и rice, то наблюдается, большое не соответствие приоритетов гипотез в зависимости от метода приоритезации. В случае ice метода большую роль играет - confidence(уверенность в оценках других параметров гипотезы - охват, влияние, трудозатраты на внедрение). А в случае rice метода - reah(охват). В обоих случаях наблюдается прямая зависимость между позицией гипотезы в приоритете от соответствующих параметров confidence для ice и reach для rice."
   ]
  },
  {
   "cell_type": "markdown",
   "metadata": {},
   "source": [
    "Приоритет гипотез: Если выбрать три самые приоритетные гипотезы, то выбрать нужно следующие\n",
    "гипотезы в порядке приоритета:\n",
    "\n",
    "\n",
    "- 1 Добавить форму подписки на все основные страницы, чтобы собрать базу клиентов для email-рассылок (позиции ice 3, rice\t1)\n",
    "- 2 Добавить два новых канала привлечения трафика, что позволит привлекать на 30% больше пользователей (позиции ice 2, rice\t3)\n",
    "- 3 Показать на главной странице баннеры с актуальными акциями и распродажами, чтобы увеличить конве.. (позиции ice 4, rice\t4)\n",
    "    \n",
    "Так же приоритеты зависят от того, какой фреймворк нам важнее на данный момент"
   ]
  },
  {
   "cell_type": "markdown",
   "metadata": {},
   "source": [
    "# Анализ A/B - теста."
   ]
  },
  {
   "cell_type": "code",
   "execution_count": 9,
   "metadata": {},
   "outputs": [
    {
     "data": {
      "text/html": [
       "<div>\n",
       "<style scoped>\n",
       "    .dataframe tbody tr th:only-of-type {\n",
       "        vertical-align: middle;\n",
       "    }\n",
       "\n",
       "    .dataframe tbody tr th {\n",
       "        vertical-align: top;\n",
       "    }\n",
       "\n",
       "    .dataframe thead th {\n",
       "        text-align: right;\n",
       "    }\n",
       "</style>\n",
       "<table border=\"1\" class=\"dataframe\">\n",
       "  <thead>\n",
       "    <tr style=\"text-align: right;\">\n",
       "      <th></th>\n",
       "      <th>transactionId</th>\n",
       "    </tr>\n",
       "    <tr>\n",
       "      <th>group</th>\n",
       "      <th></th>\n",
       "    </tr>\n",
       "  </thead>\n",
       "  <tbody>\n",
       "    <tr>\n",
       "      <td>A</td>\n",
       "      <td>468</td>\n",
       "    </tr>\n",
       "    <tr>\n",
       "      <td>B</td>\n",
       "      <td>548</td>\n",
       "    </tr>\n",
       "  </tbody>\n",
       "</table>\n",
       "</div>"
      ],
      "text/plain": [
       "       transactionId\n",
       "group               \n",
       "A                468\n",
       "B                548"
      ]
     },
     "metadata": {},
     "output_type": "display_data"
    },
    {
     "data": {
      "text/html": [
       "<div>\n",
       "<style scoped>\n",
       "    .dataframe tbody tr th:only-of-type {\n",
       "        vertical-align: middle;\n",
       "    }\n",
       "\n",
       "    .dataframe tbody tr th {\n",
       "        vertical-align: top;\n",
       "    }\n",
       "\n",
       "    .dataframe thead th {\n",
       "        text-align: right;\n",
       "    }\n",
       "</style>\n",
       "<table border=\"1\" class=\"dataframe\">\n",
       "  <thead>\n",
       "    <tr style=\"text-align: right;\">\n",
       "      <th></th>\n",
       "      <th>visitors</th>\n",
       "    </tr>\n",
       "    <tr>\n",
       "      <th>group</th>\n",
       "      <th></th>\n",
       "    </tr>\n",
       "  </thead>\n",
       "  <tbody>\n",
       "    <tr>\n",
       "      <td>A</td>\n",
       "      <td>18736</td>\n",
       "    </tr>\n",
       "    <tr>\n",
       "      <td>B</td>\n",
       "      <td>18916</td>\n",
       "    </tr>\n",
       "  </tbody>\n",
       "</table>\n",
       "</div>"
      ],
      "text/plain": [
       "       visitors\n",
       "group          \n",
       "A         18736\n",
       "B         18916"
      ]
     },
     "metadata": {},
     "output_type": "display_data"
    }
   ],
   "source": [
    "# Проверка групп для AB теста:\n",
    "\n",
    "# Посмотрим на распределение заказов и визитов по группам:\n",
    "display(orders.groupby('group').agg({'transactionId':'count'}))\n",
    "display(visitors.groupby('group').agg({'visitors':'sum'}))"
   ]
  },
  {
   "cell_type": "markdown",
   "metadata": {},
   "source": [
    "Группы по заказами и визитам распределены не по ровну, повод написать рекомендацию составителю данных тщательнее проверять состав групп."
   ]
  },
  {
   "cell_type": "markdown",
   "metadata": {},
   "source": [
    "## 1 Построим график кумулятивной выручки по группам."
   ]
  },
  {
   "cell_type": "code",
   "execution_count": 10,
   "metadata": {
    "scrolled": true
   },
   "outputs": [
    {
     "data": {
      "text/html": [
       "<div>\n",
       "<style scoped>\n",
       "    .dataframe tbody tr th:only-of-type {\n",
       "        vertical-align: middle;\n",
       "    }\n",
       "\n",
       "    .dataframe tbody tr th {\n",
       "        vertical-align: top;\n",
       "    }\n",
       "\n",
       "    .dataframe thead th {\n",
       "        text-align: right;\n",
       "    }\n",
       "</style>\n",
       "<table border=\"1\" class=\"dataframe\">\n",
       "  <thead>\n",
       "    <tr style=\"text-align: right;\">\n",
       "      <th></th>\n",
       "      <th>transactionId</th>\n",
       "      <th>visitorId</th>\n",
       "      <th>date</th>\n",
       "      <th>revenue</th>\n",
       "      <th>group</th>\n",
       "    </tr>\n",
       "  </thead>\n",
       "  <tbody>\n",
       "    <tr>\n",
       "      <td>175</td>\n",
       "      <td>23</td>\n",
       "      <td>19</td>\n",
       "      <td>2019-08-01</td>\n",
       "      <td>142779</td>\n",
       "      <td>A</td>\n",
       "    </tr>\n",
       "    <tr>\n",
       "      <td>173</td>\n",
       "      <td>17</td>\n",
       "      <td>17</td>\n",
       "      <td>2019-08-01</td>\n",
       "      <td>59758</td>\n",
       "      <td>B</td>\n",
       "    </tr>\n",
       "  </tbody>\n",
       "</table>\n",
       "</div>"
      ],
      "text/plain": [
       "     transactionId  visitorId       date  revenue group\n",
       "175             23         19 2019-08-01   142779     A\n",
       "173             17         17 2019-08-01    59758     B"
      ]
     },
     "metadata": {},
     "output_type": "display_data"
    },
    {
     "data": {
      "text/html": [
       "<div>\n",
       "<style scoped>\n",
       "    .dataframe tbody tr th:only-of-type {\n",
       "        vertical-align: middle;\n",
       "    }\n",
       "\n",
       "    .dataframe tbody tr th {\n",
       "        vertical-align: top;\n",
       "    }\n",
       "\n",
       "    .dataframe thead th {\n",
       "        text-align: right;\n",
       "    }\n",
       "</style>\n",
       "<table border=\"1\" class=\"dataframe\">\n",
       "  <thead>\n",
       "    <tr style=\"text-align: right;\">\n",
       "      <th></th>\n",
       "      <th>date</th>\n",
       "      <th>group</th>\n",
       "      <th>visitors</th>\n",
       "    </tr>\n",
       "  </thead>\n",
       "  <tbody>\n",
       "    <tr>\n",
       "      <td>175</td>\n",
       "      <td>2019-08-01</td>\n",
       "      <td>A</td>\n",
       "      <td>719</td>\n",
       "    </tr>\n",
       "    <tr>\n",
       "      <td>173</td>\n",
       "      <td>2019-08-01</td>\n",
       "      <td>B</td>\n",
       "      <td>713</td>\n",
       "    </tr>\n",
       "  </tbody>\n",
       "</table>\n",
       "</div>"
      ],
      "text/plain": [
       "          date group  visitors\n",
       "175 2019-08-01     A       719\n",
       "173 2019-08-01     B       713"
      ]
     },
     "metadata": {},
     "output_type": "display_data"
    }
   ],
   "source": [
    "#Создаем таблицу с уникальнвми парами (дата - группа), она понадобиться для вычисления \"максимальных\" значений дат и групп.\n",
    "dates_groups = orders[['date','group']].drop_duplicates()\n",
    "\n",
    "#Рассчитаем куммулятивные данные по выручке:\n",
    "order_agg = dates_groups.apply(lambda x: \n",
    "                                 orders[np.logical_and(orders['date']<x['date'], orders['group']==x['group'])]\n",
    "                                .agg({'transactionId':'nunique','visitorId':'nunique','date':'max','revenue':'sum','group':'max'}), axis=1).sort_values(by=['date','group'])\n",
    "\n",
    "#Рассчитаем куммулятивные данные по посещению:\n",
    "visit_agg = dates_groups.apply(lambda x:\n",
    "                               visitors[np.logical_and(visitors['date']<x['date'], visitors['group']==x['group'])]\n",
    "                               .agg({'date':'max','group':'max','visitors':'sum'}),axis=1).sort_values(by=['date','group'])\n",
    "\n",
    "display(order_agg.head(2))\n",
    "display(visit_agg.head(2))"
   ]
  },
  {
   "cell_type": "code",
   "execution_count": 11,
   "metadata": {
    "scrolled": true
   },
   "outputs": [
    {
     "data": {
      "image/png": "[encoded data removed]",
      "text/plain": [
       "<Figure size 1152x288 with 1 Axes>"
      ]
     },
     "metadata": {
      "needs_background": "light"
     },
     "output_type": "display_data"
    }
   ],
   "source": [
    "#Объединим куммулятивные данные по двум таблицам - ord_agg и visit_agg:\n",
    "cum_data = order_agg.merge(visit_agg, left_on=['date', 'group'], right_on=['date','group'])\n",
    "\n",
    "#Переименуем стобцы:\n",
    "cum_data = cum_data.rename(columns={'revenue':'total_revenue','transactionId':'total_orders'})\n",
    "\n",
    "#Создаем таблицу с куммулятивной выручкой по группе А:\n",
    "cum_revenue_a = cum_data[cum_data['group']=='A'][['date','total_revenue','total_orders']]\n",
    "\n",
    "#Создаем таблицу с куммулятивной выручкой по группе B:\n",
    "cum_revenue_b = cum_data[cum_data['group']=='B'][['date','total_revenue','total_orders']]\n",
    "\n",
    "#Построим графики по группам:\n",
    "plt.figure(figsize=(16,4))\n",
    "plt.grid(True)\n",
    "plt.title(\"Кумулятивная выручка по группам\", fontsize=15)\n",
    "plt.xlabel('Дни', fontdict={'color':'darkred'})\n",
    "plt.ylabel('Выручка', fontdict={'color':'darkred'})\n",
    "plt.plot(cum_revenue_a['date'], cum_revenue_a['total_revenue'], label='group A', color='green')\n",
    "plt.plot(cum_revenue_b['date'], cum_revenue_b['total_revenue'], label='group B', color='purple')\n",
    "plt.legend()\n",
    "plt.show()"
   ]
  },
  {
   "cell_type": "markdown",
   "metadata": {},
   "source": [
    "Вывод: Revenue равномерно растет на всем временном отрезке, в группе B - куммулятивная выручка резко возрастает на 2019-08-18. Это может быть связанно с увеличением числа заказов или с заказами высокой стоимости."
   ]
  },
  {
   "cell_type": "markdown",
   "metadata": {},
   "source": [
    "## 2 Построим график кумулятивного среднего чека по группам."
   ]
  },
  {
   "cell_type": "code",
   "execution_count": 12,
   "metadata": {},
   "outputs": [
    {
     "data": {
      "image/png": "[encoded data removed]",
      "text/plain": [
       "<Figure size 1152x288 with 1 Axes>"
      ]
     },
     "metadata": {
      "needs_background": "light"
     },
     "output_type": "display_data"
    }
   ],
   "source": [
    "# Построим график:\n",
    "plt.figure(figsize=(16,4))\n",
    "plt.grid(True)\n",
    "plt.title(\"Кумулятивный средний чек по группам\", fontsize=15)\n",
    "plt.xlabel('Дни', fontdict={'color':'darkred'})\n",
    "plt.ylabel('Выручка', fontdict={'color':'darkred'})\n",
    "plt.plot(cum_revenue_a['date'], cum_revenue_a['total_revenue']/cum_revenue_a['total_orders'], label='group A', color='green')\n",
    "plt.plot(cum_revenue_b['date'], cum_revenue_b['total_revenue']/cum_revenue_b['total_orders'], label='group B', color='purple')\n",
    "plt.legend()\n",
    "plt.show()"
   ]
  },
  {
   "cell_type": "markdown",
   "metadata": {},
   "source": [
    "Вывод: Куммулятивный средний чек на графике не стабилен до 2019-08-17 для двух групп, после чего в группе B значение резко возрастает, далее значения по группам начинают сближаться."
   ]
  },
  {
   "cell_type": "markdown",
   "metadata": {},
   "source": [
    "## 3 Построим график относительного изменения кумулятивного среднего чека группы B к группе A."
   ]
  },
  {
   "cell_type": "code",
   "execution_count": 13,
   "metadata": {},
   "outputs": [
    {
     "data": {
      "text/html": [
       "<div>\n",
       "<style scoped>\n",
       "    .dataframe tbody tr th:only-of-type {\n",
       "        vertical-align: middle;\n",
       "    }\n",
       "\n",
       "    .dataframe tbody tr th {\n",
       "        vertical-align: top;\n",
       "    }\n",
       "\n",
       "    .dataframe thead th {\n",
       "        text-align: right;\n",
       "    }\n",
       "</style>\n",
       "<table border=\"1\" class=\"dataframe\">\n",
       "  <thead>\n",
       "    <tr style=\"text-align: right;\">\n",
       "      <th></th>\n",
       "      <th>date</th>\n",
       "      <th>total_revenue_A</th>\n",
       "      <th>total_orders_A</th>\n",
       "      <th>total_revenue_B</th>\n",
       "      <th>total_orders_B</th>\n",
       "    </tr>\n",
       "  </thead>\n",
       "  <tbody>\n",
       "    <tr>\n",
       "      <td>0</td>\n",
       "      <td>2019-08-01</td>\n",
       "      <td>142779</td>\n",
       "      <td>23</td>\n",
       "      <td>59758</td>\n",
       "      <td>17</td>\n",
       "    </tr>\n",
       "    <tr>\n",
       "      <td>1</td>\n",
       "      <td>2019-08-02</td>\n",
       "      <td>234381</td>\n",
       "      <td>42</td>\n",
       "      <td>221801</td>\n",
       "      <td>40</td>\n",
       "    </tr>\n",
       "  </tbody>\n",
       "</table>\n",
       "</div>"
      ],
      "text/plain": [
       "        date  total_revenue_A  total_orders_A  total_revenue_B  total_orders_B\n",
       "0 2019-08-01           142779              23            59758              17\n",
       "1 2019-08-02           234381              42           221801              40"
      ]
     },
     "metadata": {},
     "output_type": "display_data"
    },
    {
     "data": {
      "image/png": "[encoded data removed]",
      "text/plain": [
       "<Figure size 1152x288 with 1 Axes>"
      ]
     },
     "metadata": {
      "needs_background": "light"
     },
     "output_type": "display_data"
    }
   ],
   "source": [
    "#Соединим данные по двум группам:\n",
    "merge_cum_revenue=pd.merge(cum_revenue_a, cum_revenue_b, left_on='date', right_on='date', how='left', suffixes=['_A','_B'])\n",
    "display(merge_cum_revenue.head(2))\n",
    "\n",
    "#Построим график относительного изменения куммулятивного среднего чека группы B к группе A:\n",
    "plt.figure(figsize=(16,4))\n",
    "plt.grid(True)\n",
    "plt.title(\"Относительное изменение среднего чека группы B к группе A\", fontsize=15)\n",
    "plt.xlabel('Дни', fontdict={'color':'darkred'})\n",
    "plt.ylabel('%-е отношение', fontdict={'color':'darkred'})\n",
    "plt.plot(merge_cum_revenue['date'], (merge_cum_revenue['total_revenue_B']/merge_cum_revenue['total_orders_B'])/\n",
    "         (merge_cum_revenue['total_revenue_A']/merge_cum_revenue['total_orders_A'])-1)\n",
    "plt.axhline(y=0, color='red', linestyle='--')\n",
    "plt.show()"
   ]
  },
  {
   "cell_type": "markdown",
   "metadata": {},
   "source": [
    "Вывод: отношение куммулятивного среднего чека группы B к группе A не стабильны и так же резко изменяется на дату - 2019-08-18,  видимо присутствуют аномальные заказы в этот день. Далее идет плавное снижение относительного изменения среднего чека по группам."
   ]
  },
  {
   "cell_type": "markdown",
   "metadata": {},
   "source": [
    "## 4 Построим график кумулятивной конверсии по группам:"
   ]
  },
  {
   "cell_type": "code",
   "execution_count": 14,
   "metadata": {},
   "outputs": [
    {
     "data": {
      "image/png": "[encoded data removed]",
      "text/plain": [
       "<Figure size 1152x288 with 1 Axes>"
      ]
     },
     "metadata": {
      "needs_background": "light"
     },
     "output_type": "display_data"
    },
    {
     "data": {
      "text/html": [
       "<div>\n",
       "<style scoped>\n",
       "    .dataframe tbody tr th:only-of-type {\n",
       "        vertical-align: middle;\n",
       "    }\n",
       "\n",
       "    .dataframe tbody tr th {\n",
       "        vertical-align: top;\n",
       "    }\n",
       "\n",
       "    .dataframe thead th {\n",
       "        text-align: right;\n",
       "    }\n",
       "</style>\n",
       "<table border=\"1\" class=\"dataframe\">\n",
       "  <thead>\n",
       "    <tr style=\"text-align: right;\">\n",
       "      <th></th>\n",
       "      <th>total_orders</th>\n",
       "      <th>visitorId</th>\n",
       "      <th>date</th>\n",
       "      <th>total_revenue</th>\n",
       "      <th>group</th>\n",
       "      <th>visitors</th>\n",
       "      <th>conversion</th>\n",
       "    </tr>\n",
       "  </thead>\n",
       "  <tbody>\n",
       "    <tr>\n",
       "      <td>0</td>\n",
       "      <td>23</td>\n",
       "      <td>19</td>\n",
       "      <td>2019-08-01</td>\n",
       "      <td>142779</td>\n",
       "      <td>A</td>\n",
       "      <td>719</td>\n",
       "      <td>0.032</td>\n",
       "    </tr>\n",
       "    <tr>\n",
       "      <td>1</td>\n",
       "      <td>17</td>\n",
       "      <td>17</td>\n",
       "      <td>2019-08-01</td>\n",
       "      <td>59758</td>\n",
       "      <td>B</td>\n",
       "      <td>713</td>\n",
       "      <td>0.024</td>\n",
       "    </tr>\n",
       "  </tbody>\n",
       "</table>\n",
       "</div>"
      ],
      "text/plain": [
       "   total_orders  visitorId       date  total_revenue group  visitors  \\\n",
       "0            23         19 2019-08-01         142779     A       719   \n",
       "1            17         17 2019-08-01          59758     B       713   \n",
       "\n",
       "   conversion  \n",
       "0       0.032  \n",
       "1       0.024  "
      ]
     },
     "metadata": {},
     "output_type": "display_data"
    }
   ],
   "source": [
    "# Расчитаем конверсию по группам:\n",
    "cum_data['conversion'] = round(cum_data['total_orders'] / cum_data['visitors'], 3)\n",
    "\n",
    "#Разделим данные кумулятивной конверсии на группы A и B:\n",
    "cum_data_conv_a = cum_data[cum_data['group'] == 'A']\n",
    "cum_data_conv_b = cum_data[cum_data['group'] == 'B']\n",
    "\n",
    "#Построим график:\n",
    "plt.figure(figsize=(16,4))\n",
    "plt.grid(True)\n",
    "plt.title(\"Кумулятивная конверсия по группам\", fontsize=15)\n",
    "plt.xlabel('Дни', fontdict={'color':'darkred'})\n",
    "plt.ylabel('Конверсия', fontdict={'color':'darkred'})\n",
    "\n",
    "plt.plot(cum_data_conv_a['date'], cum_data_conv_a['conversion'], label='A', color='green')\n",
    "plt.plot(cum_data_conv_b['date'], cum_data_conv_b['conversion'], label='B', color='purple')\n",
    "plt.legend()\n",
    "plt.axis([\"2019-08-01\", '2019-08-30', 0, 0.04]) \n",
    "plt.show()\n",
    "display(cum_data.head(2))"
   ]
  },
  {
   "cell_type": "markdown",
   "metadata": {},
   "source": [
    "Вывод: кумулятивная конверсия обоих групп немного колеблется в начале месяца, но уже 6-й день конверсия группы B становится выше и обе конверсии идут параллельно друг другу."
   ]
  },
  {
   "cell_type": "markdown",
   "metadata": {},
   "source": [
    "## 5 Построим график относительного изменения кумулятивной конверсии группы B к группе A."
   ]
  },
  {
   "cell_type": "code",
   "execution_count": 15,
   "metadata": {},
   "outputs": [
    {
     "data": {
      "text/plain": [
       "['2019-08-01', '2019-08-30', -0.3, 0.3]"
      ]
     },
     "execution_count": 15,
     "metadata": {},
     "output_type": "execute_result"
    },
    {
     "data": {
      "image/png": "[encoded data removed]",
      "text/plain": [
       "<Figure size 1152x288 with 1 Axes>"
      ]
     },
     "metadata": {
      "needs_background": "light"
     },
     "output_type": "display_data"
    }
   ],
   "source": [
    "# \n",
    "a_b_conversion = cum_data_conv_a[['date','conversion']].merge(cum_data_conv_b[['date','conversion']], on='date', suffixes=['_A','_B'])\n",
    "\n",
    "plt.figure(figsize=(16,4))\n",
    "plt.grid(True, axis='x')\n",
    "plt.title(\"Относительное изменение кумулятивной конверсии группы B к группе A\", fontsize=15)\n",
    "plt.xlabel('Дни', fontdict={'color':'darkred'})\n",
    "plt.ylabel('Конверсия', fontdict={'color':'darkred'})\n",
    "plt.plot(a_b_conversion['date'], a_b_conversion['conversion_B'] / a_b_conversion['conversion_A'] - 1, label='fghj')\n",
    "plt.axhline(y=0, color='red', linestyle='-')\n",
    "plt.axhline(y=0.2, color='black', linestyle='--')\n",
    "plt.axhline(y=0.15, color='green', linestyle='--')\n",
    "plt.axhline(y=0.1, color='black', linestyle='--')\n",
    "\n",
    "plt.axis([\"2019-08-01\", '2019-08-30', -0.3, 0.3])"
   ]
  },
  {
   "cell_type": "markdown",
   "metadata": {},
   "source": [
    "Вывод: конверсия группы B на 6-й день теста становится выше группы A, затем достигает значения в 20%, и колеблется между 10% и 20%."
   ]
  },
  {
   "cell_type": "markdown",
   "metadata": {},
   "source": [
    "# 6 Построим точечный график количества заказов по пользователям."
   ]
  },
  {
   "cell_type": "code",
   "execution_count": 16,
   "metadata": {},
   "outputs": [
    {
     "data": {
      "text/html": [
       "<div>\n",
       "<style scoped>\n",
       "    .dataframe tbody tr th:only-of-type {\n",
       "        vertical-align: middle;\n",
       "    }\n",
       "\n",
       "    .dataframe tbody tr th {\n",
       "        vertical-align: top;\n",
       "    }\n",
       "\n",
       "    .dataframe thead th {\n",
       "        text-align: right;\n",
       "    }\n",
       "</style>\n",
       "<table border=\"1\" class=\"dataframe\">\n",
       "  <thead>\n",
       "    <tr style=\"text-align: right;\">\n",
       "      <th></th>\n",
       "      <th>transactionId</th>\n",
       "    </tr>\n",
       "    <tr>\n",
       "      <th>visitorId</th>\n",
       "      <th></th>\n",
       "    </tr>\n",
       "  </thead>\n",
       "  <tbody>\n",
       "    <tr>\n",
       "      <td>3967698036</td>\n",
       "      <td>3</td>\n",
       "    </tr>\n",
       "    <tr>\n",
       "      <td>249864742</td>\n",
       "      <td>3</td>\n",
       "    </tr>\n",
       "    <tr>\n",
       "      <td>2108163459</td>\n",
       "      <td>3</td>\n",
       "    </tr>\n",
       "    <tr>\n",
       "      <td>2988190573</td>\n",
       "      <td>3</td>\n",
       "    </tr>\n",
       "    <tr>\n",
       "      <td>3908431265</td>\n",
       "      <td>3</td>\n",
       "    </tr>\n",
       "    <tr>\n",
       "      <td>611059232</td>\n",
       "      <td>3</td>\n",
       "    </tr>\n",
       "    <tr>\n",
       "      <td>2742574263</td>\n",
       "      <td>3</td>\n",
       "    </tr>\n",
       "    <tr>\n",
       "      <td>678354126</td>\n",
       "      <td>2</td>\n",
       "    </tr>\n",
       "  </tbody>\n",
       "</table>\n",
       "</div>"
      ],
      "text/plain": [
       "            transactionId\n",
       "visitorId                \n",
       "3967698036              3\n",
       "249864742               3\n",
       "2108163459              3\n",
       "2988190573              3\n",
       "3908431265              3\n",
       "611059232               3\n",
       "2742574263              3\n",
       "678354126               2"
      ]
     },
     "metadata": {},
     "output_type": "display_data"
    },
    {
     "data": {
      "text/plain": [
       "array([1., 2.])"
      ]
     },
     "metadata": {},
     "output_type": "display_data"
    },
    {
     "data": {
      "image/png": "[encoded data removed]",
      "text/plain": [
       "<Figure size 1080x288 with 1 Axes>"
      ]
     },
     "metadata": {
      "needs_background": "light"
     },
     "output_type": "display_data"
    }
   ],
   "source": [
    "orders_per_users = orders.groupby('visitorId').agg({'transactionId':'count'})\n",
    "display(orders_per_users.sort_values('transactionId', ascending=False).head(8))\n",
    "\n",
    "x = range(1, len(orders_per_users)+1)\n",
    "\n",
    "plt.figure(figsize=(15,4))\n",
    "plt.grid(True, axis='y')\n",
    "plt.title(\"Количество заказов пользователей\", fontsize=15)\n",
    "plt.xlabel('Пользователи', fontdict={'color':'darkred'})\n",
    "plt.ylabel('Количество заказов', fontdict={'color':'darkred'})\n",
    "plt.scatter(x, orders_per_users['transactionId'], color='green', s=20)\n",
    "\n",
    "# Посчитаем 95-й и 99-й перцентили количества заказов на пользователя. Выберем границу для определения аномальных пользователей:\n",
    "display(np.percentile(orders_per_users['transactionId'],[95,99]))"
   ]
  },
  {
   "cell_type": "markdown",
   "metadata": {},
   "source": [
    "Вывод: Не более 5% пользователей заказали 2 и более заказов и 1% пользователей сделали 3 заказа. Для дальнейшего расчета стат. значимостей возьмем пользователей которые сделали максимум 2 заказа."
   ]
  },
  {
   "cell_type": "markdown",
   "metadata": {},
   "source": [
    "## 7 Построим точечный график стоимостей заказов."
   ]
  },
  {
   "cell_type": "code",
   "execution_count": 17,
   "metadata": {},
   "outputs": [
    {
     "data": {
      "text/plain": [
       "array([26785., 53904.])"
      ]
     },
     "metadata": {},
     "output_type": "display_data"
    },
    {
     "data": {
      "text/html": [
       "<div>\n",
       "<style scoped>\n",
       "    .dataframe tbody tr th:only-of-type {\n",
       "        vertical-align: middle;\n",
       "    }\n",
       "\n",
       "    .dataframe tbody tr th {\n",
       "        vertical-align: top;\n",
       "    }\n",
       "\n",
       "    .dataframe thead th {\n",
       "        text-align: right;\n",
       "    }\n",
       "</style>\n",
       "<table border=\"1\" class=\"dataframe\">\n",
       "  <thead>\n",
       "    <tr style=\"text-align: right;\">\n",
       "      <th></th>\n",
       "      <th>transactionId</th>\n",
       "      <th>visitorId</th>\n",
       "      <th>date</th>\n",
       "      <th>revenue</th>\n",
       "      <th>group</th>\n",
       "    </tr>\n",
       "  </thead>\n",
       "  <tbody>\n",
       "    <tr>\n",
       "      <td>425</td>\n",
       "      <td>590470918</td>\n",
       "      <td>1920142716</td>\n",
       "      <td>2019-08-19</td>\n",
       "      <td>1294500</td>\n",
       "      <td>B</td>\n",
       "    </tr>\n",
       "    <tr>\n",
       "      <td>1196</td>\n",
       "      <td>3936777065</td>\n",
       "      <td>2108080724</td>\n",
       "      <td>2019-08-15</td>\n",
       "      <td>202740</td>\n",
       "      <td>B</td>\n",
       "    </tr>\n",
       "  </tbody>\n",
       "</table>\n",
       "</div>"
      ],
      "text/plain": [
       "      transactionId   visitorId       date  revenue group\n",
       "425       590470918  1920142716 2019-08-19  1294500     B\n",
       "1196     3936777065  2108080724 2019-08-15   202740     B"
      ]
     },
     "metadata": {},
     "output_type": "display_data"
    },
    {
     "data": {
      "image/png": "[encoded data removed]",
      "text/plain": [
       "<Figure size 1152x576 with 1 Axes>"
      ]
     },
     "metadata": {
      "needs_background": "light"
     },
     "output_type": "display_data"
    }
   ],
   "source": [
    "x = range(0, len(orders))\n",
    "plt.figure(figsize=(16,8))\n",
    "plt.grid(True, axis='y')\n",
    "plt.title(\"Стоимость заказов\", fontsize=15)\n",
    "plt.xlabel('Пользователи', fontdict={'color':'darkred'})\n",
    "plt.ylabel('Стоимость заказа', fontdict={'color':'darkred'})\n",
    "plt.ylim(0,220000)\n",
    "plt.scatter(x, orders['revenue'], c = 'blue', s=7)\n",
    "\n",
    "# Посчитаем 95-й и 99-й перцентили стоимости заказов. Выберем границу для определения аномальных заказов:\n",
    "display(np.percentile(orders['revenue'],[95,99]))\n",
    "\n",
    "display(orders.sort_values(by='revenue', ascending=False).head(2))"
   ]
  },
  {
   "cell_type": "markdown",
   "metadata": {},
   "source": [
    "Вывод: не более 5% пользователей сделали заказ на сумму более 26785, и не более 1% пользователей сделали заказ на сумму более - 53904. Для дальнейшего расчета стат. значимостей возьмем пользователей которые сделали заказы стоимостью не более чемм в - 26785."
   ]
  },
  {
   "cell_type": "markdown",
   "metadata": {},
   "source": [
    "Дополнительно: Рассмотрим аномальные заказы когда они сделаны и на какую сумму."
   ]
  },
  {
   "cell_type": "code",
   "execution_count": 18,
   "metadata": {
    "scrolled": true
   },
   "outputs": [
    {
     "data": {
      "text/plain": [
       "'Заказы стоимостью выше 100 000:'"
      ]
     },
     "metadata": {},
     "output_type": "display_data"
    },
    {
     "data": {
      "text/html": [
       "<div>\n",
       "<style scoped>\n",
       "    .dataframe tbody tr th:only-of-type {\n",
       "        vertical-align: middle;\n",
       "    }\n",
       "\n",
       "    .dataframe tbody tr th {\n",
       "        vertical-align: top;\n",
       "    }\n",
       "\n",
       "    .dataframe thead th {\n",
       "        text-align: right;\n",
       "    }\n",
       "</style>\n",
       "<table border=\"1\" class=\"dataframe\">\n",
       "  <thead>\n",
       "    <tr style=\"text-align: right;\">\n",
       "      <th></th>\n",
       "      <th>transactionId</th>\n",
       "      <th>visitorId</th>\n",
       "      <th>date</th>\n",
       "      <th>revenue</th>\n",
       "      <th>group</th>\n",
       "    </tr>\n",
       "  </thead>\n",
       "  <tbody>\n",
       "    <tr>\n",
       "      <td>425</td>\n",
       "      <td>590470918</td>\n",
       "      <td>1920142716</td>\n",
       "      <td>2019-08-19</td>\n",
       "      <td>1294500</td>\n",
       "      <td>B</td>\n",
       "    </tr>\n",
       "    <tr>\n",
       "      <td>1196</td>\n",
       "      <td>3936777065</td>\n",
       "      <td>2108080724</td>\n",
       "      <td>2019-08-15</td>\n",
       "      <td>202740</td>\n",
       "      <td>B</td>\n",
       "    </tr>\n",
       "  </tbody>\n",
       "</table>\n",
       "</div>"
      ],
      "text/plain": [
       "      transactionId   visitorId       date  revenue group\n",
       "425       590470918  1920142716 2019-08-19  1294500     B\n",
       "1196     3936777065  2108080724 2019-08-15   202740     B"
      ]
     },
     "metadata": {},
     "output_type": "display_data"
    }
   ],
   "source": [
    "display(\"Заказы стоимостью выше 100 000:\", orders[orders['revenue'] > 100000])"
   ]
  },
  {
   "cell_type": "markdown",
   "metadata": {},
   "source": [
    "Вывод: всего 2 заказа стоимостью выше 100 000."
   ]
  },
  {
   "cell_type": "markdown",
   "metadata": {},
   "source": [
    "## Подготовим данные для проверки гипотез:"
   ]
  },
  {
   "cell_type": "code",
   "execution_count": 19,
   "metadata": {},
   "outputs": [
    {
     "data": {
      "text/html": [
       "<div>\n",
       "<style scoped>\n",
       "    .dataframe tbody tr th:only-of-type {\n",
       "        vertical-align: middle;\n",
       "    }\n",
       "\n",
       "    .dataframe tbody tr th {\n",
       "        vertical-align: top;\n",
       "    }\n",
       "\n",
       "    .dataframe thead th {\n",
       "        text-align: right;\n",
       "    }\n",
       "</style>\n",
       "<table border=\"1\" class=\"dataframe\">\n",
       "  <thead>\n",
       "    <tr style=\"text-align: right;\">\n",
       "      <th></th>\n",
       "      <th>date</th>\n",
       "      <th>visitors_per_date_a</th>\n",
       "    </tr>\n",
       "  </thead>\n",
       "  <tbody>\n",
       "    <tr>\n",
       "      <td>0</td>\n",
       "      <td>2019-08-01</td>\n",
       "      <td>719</td>\n",
       "    </tr>\n",
       "    <tr>\n",
       "      <td>1</td>\n",
       "      <td>2019-08-02</td>\n",
       "      <td>619</td>\n",
       "    </tr>\n",
       "  </tbody>\n",
       "</table>\n",
       "</div>"
      ],
      "text/plain": [
       "        date  visitors_per_date_a\n",
       "0 2019-08-01                  719\n",
       "1 2019-08-02                  619"
      ]
     },
     "metadata": {},
     "output_type": "display_data"
    },
    {
     "data": {
      "text/html": [
       "<div>\n",
       "<style scoped>\n",
       "    .dataframe tbody tr th:only-of-type {\n",
       "        vertical-align: middle;\n",
       "    }\n",
       "\n",
       "    .dataframe tbody tr th {\n",
       "        vertical-align: top;\n",
       "    }\n",
       "\n",
       "    .dataframe thead th {\n",
       "        text-align: right;\n",
       "    }\n",
       "</style>\n",
       "<table border=\"1\" class=\"dataframe\">\n",
       "  <thead>\n",
       "    <tr style=\"text-align: right;\">\n",
       "      <th></th>\n",
       "      <th>date</th>\n",
       "      <th>cumulative_visitors_a</th>\n",
       "    </tr>\n",
       "  </thead>\n",
       "  <tbody>\n",
       "    <tr>\n",
       "      <td>0</td>\n",
       "      <td>2019-08-01</td>\n",
       "      <td>719</td>\n",
       "    </tr>\n",
       "    <tr>\n",
       "      <td>1</td>\n",
       "      <td>2019-08-02</td>\n",
       "      <td>1338</td>\n",
       "    </tr>\n",
       "  </tbody>\n",
       "</table>\n",
       "</div>"
      ],
      "text/plain": [
       "        date  cumulative_visitors_a\n",
       "0 2019-08-01                    719\n",
       "1 2019-08-02                   1338"
      ]
     },
     "metadata": {},
     "output_type": "display_data"
    }
   ],
   "source": [
    "# Переименуем названия столбцов:\n",
    "orders.columns = ['order_id','user_id', 'date','revenue','group']\n",
    "\n",
    "# Посчитаем количество посетителей группы A по дням:\n",
    "visitors_daily_a = visitors[visitors['group'] == 'A'][['date','visitors']]\n",
    "visitors_daily_a.columns = ['date', 'visitors_per_date_a']\n",
    "\n",
    "# Посчитаем кумулятивное количество пользователей группы A по дням:\n",
    "cum_visitors_a = visitors_daily_a.apply(lambda x: visitors_daily_a[visitors_daily_a['date']<=x['date']]\n",
    "                                        .agg({'date':'max','visitors_per_date_a':'sum'}), axis=1)\n",
    "cum_visitors_a.columns = ['date','cumulative_visitors_a']\n",
    "\n",
    "display(visitors_daily_a.head(2))\n",
    "display(cum_visitors_a.head(2))"
   ]
  },
  {
   "cell_type": "code",
   "execution_count": 20,
   "metadata": {},
   "outputs": [
    {
     "data": {
      "text/html": [
       "<div>\n",
       "<style scoped>\n",
       "    .dataframe tbody tr th:only-of-type {\n",
       "        vertical-align: middle;\n",
       "    }\n",
       "\n",
       "    .dataframe tbody tr th {\n",
       "        vertical-align: top;\n",
       "    }\n",
       "\n",
       "    .dataframe thead th {\n",
       "        text-align: right;\n",
       "    }\n",
       "</style>\n",
       "<table border=\"1\" class=\"dataframe\">\n",
       "  <thead>\n",
       "    <tr style=\"text-align: right;\">\n",
       "      <th></th>\n",
       "      <th>date</th>\n",
       "      <th>visitors_per_date_b</th>\n",
       "    </tr>\n",
       "  </thead>\n",
       "  <tbody>\n",
       "    <tr>\n",
       "      <td>31</td>\n",
       "      <td>2019-08-01</td>\n",
       "      <td>713</td>\n",
       "    </tr>\n",
       "    <tr>\n",
       "      <td>32</td>\n",
       "      <td>2019-08-02</td>\n",
       "      <td>581</td>\n",
       "    </tr>\n",
       "  </tbody>\n",
       "</table>\n",
       "</div>"
      ],
      "text/plain": [
       "         date  visitors_per_date_b\n",
       "31 2019-08-01                  713\n",
       "32 2019-08-02                  581"
      ]
     },
     "metadata": {},
     "output_type": "display_data"
    },
    {
     "data": {
      "text/html": [
       "<div>\n",
       "<style scoped>\n",
       "    .dataframe tbody tr th:only-of-type {\n",
       "        vertical-align: middle;\n",
       "    }\n",
       "\n",
       "    .dataframe tbody tr th {\n",
       "        vertical-align: top;\n",
       "    }\n",
       "\n",
       "    .dataframe thead th {\n",
       "        text-align: right;\n",
       "    }\n",
       "</style>\n",
       "<table border=\"1\" class=\"dataframe\">\n",
       "  <thead>\n",
       "    <tr style=\"text-align: right;\">\n",
       "      <th></th>\n",
       "      <th>date</th>\n",
       "      <th>cumulative_visitors_b</th>\n",
       "    </tr>\n",
       "  </thead>\n",
       "  <tbody>\n",
       "    <tr>\n",
       "      <td>31</td>\n",
       "      <td>2019-08-01</td>\n",
       "      <td>713</td>\n",
       "    </tr>\n",
       "    <tr>\n",
       "      <td>32</td>\n",
       "      <td>2019-08-02</td>\n",
       "      <td>1294</td>\n",
       "    </tr>\n",
       "  </tbody>\n",
       "</table>\n",
       "</div>"
      ],
      "text/plain": [
       "         date  cumulative_visitors_b\n",
       "31 2019-08-01                    713\n",
       "32 2019-08-02                   1294"
      ]
     },
     "metadata": {},
     "output_type": "display_data"
    }
   ],
   "source": [
    "# Посчитаем количество посетителей группы B по дням:\n",
    "visitors_daily_b = visitors[visitors['group'] == 'B'][['date','visitors']]\n",
    "visitors_daily_b.columns = ['date', 'visitors_per_date_b']\n",
    "\n",
    "# Посчитаем кумулятивное количество пользователей группы B по дням:\n",
    "cum_visitors_b = visitors_daily_b.apply(lambda x: visitors_daily_b[visitors_daily_b['date']<=x['date']]\n",
    "                                        .agg({'date':'max','visitors_per_date_b':'sum'}), axis=1)\n",
    "cum_visitors_b.columns = ['date','cumulative_visitors_b']\n",
    "\n",
    "display(visitors_daily_b.head(2))\n",
    "display(cum_visitors_b.head(2))"
   ]
  },
  {
   "cell_type": "code",
   "execution_count": 21,
   "metadata": {},
   "outputs": [
    {
     "data": {
      "text/html": [
       "<div>\n",
       "<style scoped>\n",
       "    .dataframe tbody tr th:only-of-type {\n",
       "        vertical-align: middle;\n",
       "    }\n",
       "\n",
       "    .dataframe tbody tr th {\n",
       "        vertical-align: top;\n",
       "    }\n",
       "\n",
       "    .dataframe thead th {\n",
       "        text-align: right;\n",
       "    }\n",
       "</style>\n",
       "<table border=\"1\" class=\"dataframe\">\n",
       "  <thead>\n",
       "    <tr style=\"text-align: right;\">\n",
       "      <th></th>\n",
       "      <th>date</th>\n",
       "      <th>orders_per_date_a</th>\n",
       "      <th>revenue_per_date_a</th>\n",
       "    </tr>\n",
       "  </thead>\n",
       "  <tbody>\n",
       "    <tr>\n",
       "      <td>0</td>\n",
       "      <td>2019-08-01</td>\n",
       "      <td>23</td>\n",
       "      <td>142779</td>\n",
       "    </tr>\n",
       "    <tr>\n",
       "      <td>1</td>\n",
       "      <td>2019-08-02</td>\n",
       "      <td>19</td>\n",
       "      <td>91602</td>\n",
       "    </tr>\n",
       "  </tbody>\n",
       "</table>\n",
       "</div>"
      ],
      "text/plain": [
       "        date  orders_per_date_a  revenue_per_date_a\n",
       "0 2019-08-01                 23              142779\n",
       "1 2019-08-02                 19               91602"
      ]
     },
     "metadata": {},
     "output_type": "display_data"
    },
    {
     "data": {
      "text/html": [
       "<div>\n",
       "<style scoped>\n",
       "    .dataframe tbody tr th:only-of-type {\n",
       "        vertical-align: middle;\n",
       "    }\n",
       "\n",
       "    .dataframe tbody tr th {\n",
       "        vertical-align: top;\n",
       "    }\n",
       "\n",
       "    .dataframe thead th {\n",
       "        text-align: right;\n",
       "    }\n",
       "</style>\n",
       "<table border=\"1\" class=\"dataframe\">\n",
       "  <thead>\n",
       "    <tr style=\"text-align: right;\">\n",
       "      <th></th>\n",
       "      <th>date</th>\n",
       "      <th>orders_cummulative_a</th>\n",
       "      <th>revenue_cummulative_a</th>\n",
       "    </tr>\n",
       "  </thead>\n",
       "  <tbody>\n",
       "    <tr>\n",
       "      <td>0</td>\n",
       "      <td>2019-08-01</td>\n",
       "      <td>23</td>\n",
       "      <td>142779</td>\n",
       "    </tr>\n",
       "    <tr>\n",
       "      <td>1</td>\n",
       "      <td>2019-08-02</td>\n",
       "      <td>42</td>\n",
       "      <td>234381</td>\n",
       "    </tr>\n",
       "  </tbody>\n",
       "</table>\n",
       "</div>"
      ],
      "text/plain": [
       "        date  orders_cummulative_a  revenue_cummulative_a\n",
       "0 2019-08-01                    23                 142779\n",
       "1 2019-08-02                    42                 234381"
      ]
     },
     "metadata": {},
     "output_type": "display_data"
    }
   ],
   "source": [
    "#Посчитаем количество заказов, и выручку по дням группы A:\n",
    "orders_daily_a = (orders[orders['group'] == 'A'][['date', 'order_id','user_id','revenue']]\n",
    "                 .groupby('date', as_index=False)\n",
    "                 .agg({'order_id':'nunique', 'revenue':'sum'}))\n",
    "orders_daily_a.columns = ['date', 'orders_per_date_a', 'revenue_per_date_a']\n",
    "\n",
    "#Посчитаем кумулятивные значения количества заказов и сумму выручки по дням:\n",
    "cum_orders_a = orders_daily_a.apply(lambda x: orders_daily_a[orders_daily_a['date'] <= x['date']]\n",
    "                                    .agg({'date':'max', 'orders_per_date_a':'sum', 'revenue_per_date_a':'sum'}), axis=1).sort_values(by=['date'])\n",
    "cum_orders_a.columns = ['date', 'orders_cummulative_a', 'revenue_cummulative_a']\n",
    "\n",
    "display(orders_daily_a.head(2))\n",
    "display(cum_orders_a.head(2))"
   ]
  },
  {
   "cell_type": "code",
   "execution_count": 22,
   "metadata": {},
   "outputs": [
    {
     "data": {
      "text/html": [
       "<div>\n",
       "<style scoped>\n",
       "    .dataframe tbody tr th:only-of-type {\n",
       "        vertical-align: middle;\n",
       "    }\n",
       "\n",
       "    .dataframe tbody tr th {\n",
       "        vertical-align: top;\n",
       "    }\n",
       "\n",
       "    .dataframe thead th {\n",
       "        text-align: right;\n",
       "    }\n",
       "</style>\n",
       "<table border=\"1\" class=\"dataframe\">\n",
       "  <thead>\n",
       "    <tr style=\"text-align: right;\">\n",
       "      <th></th>\n",
       "      <th>date</th>\n",
       "      <th>orders_per_date_b</th>\n",
       "      <th>revenue_per_date_b</th>\n",
       "    </tr>\n",
       "  </thead>\n",
       "  <tbody>\n",
       "    <tr>\n",
       "      <td>0</td>\n",
       "      <td>2019-08-01</td>\n",
       "      <td>17</td>\n",
       "      <td>59758</td>\n",
       "    </tr>\n",
       "    <tr>\n",
       "      <td>1</td>\n",
       "      <td>2019-08-02</td>\n",
       "      <td>23</td>\n",
       "      <td>162043</td>\n",
       "    </tr>\n",
       "  </tbody>\n",
       "</table>\n",
       "</div>"
      ],
      "text/plain": [
       "        date  orders_per_date_b  revenue_per_date_b\n",
       "0 2019-08-01                 17               59758\n",
       "1 2019-08-02                 23              162043"
      ]
     },
     "metadata": {},
     "output_type": "display_data"
    },
    {
     "data": {
      "text/html": [
       "<div>\n",
       "<style scoped>\n",
       "    .dataframe tbody tr th:only-of-type {\n",
       "        vertical-align: middle;\n",
       "    }\n",
       "\n",
       "    .dataframe tbody tr th {\n",
       "        vertical-align: top;\n",
       "    }\n",
       "\n",
       "    .dataframe thead th {\n",
       "        text-align: right;\n",
       "    }\n",
       "</style>\n",
       "<table border=\"1\" class=\"dataframe\">\n",
       "  <thead>\n",
       "    <tr style=\"text-align: right;\">\n",
       "      <th></th>\n",
       "      <th>date</th>\n",
       "      <th>orders_cummulative_b</th>\n",
       "      <th>revenue_cummulative_b</th>\n",
       "    </tr>\n",
       "  </thead>\n",
       "  <tbody>\n",
       "    <tr>\n",
       "      <td>0</td>\n",
       "      <td>2019-08-01</td>\n",
       "      <td>17</td>\n",
       "      <td>59758</td>\n",
       "    </tr>\n",
       "    <tr>\n",
       "      <td>1</td>\n",
       "      <td>2019-08-02</td>\n",
       "      <td>40</td>\n",
       "      <td>221801</td>\n",
       "    </tr>\n",
       "  </tbody>\n",
       "</table>\n",
       "</div>"
      ],
      "text/plain": [
       "        date  orders_cummulative_b  revenue_cummulative_b\n",
       "0 2019-08-01                    17                  59758\n",
       "1 2019-08-02                    40                 221801"
      ]
     },
     "metadata": {},
     "output_type": "display_data"
    }
   ],
   "source": [
    "#Посчитаем количество заказов, и выручку по дням группы B:\n",
    "orders_daily_b = (orders[orders['group'] == 'B'][['date', 'order_id','user_id','revenue']]\n",
    "                 .groupby('date', as_index=False)\n",
    "                 .agg({'order_id':'nunique', 'revenue':'sum'}))\n",
    "orders_daily_b.columns = ['date', 'orders_per_date_b', 'revenue_per_date_b']\n",
    "\n",
    "#Посчитаем кумулятивные значения количества заказов и сумму выручки по дням:\n",
    "cum_orders_b = orders_daily_b.apply(lambda x: orders_daily_b[orders_daily_b['date'] <= x['date']]\n",
    "                                    .agg({'date':'max', 'orders_per_date_b':'sum', 'revenue_per_date_b':'sum'}), axis=1).sort_values(by=['date'])\n",
    "cum_orders_b.columns = ['date', 'orders_cummulative_b', 'revenue_cummulative_b']\n",
    "\n",
    "display(orders_daily_b.head(2))\n",
    "display(cum_orders_b.head(2))"
   ]
  },
  {
   "cell_type": "code",
   "execution_count": 23,
   "metadata": {},
   "outputs": [
    {
     "data": {
      "text/html": [
       "<div>\n",
       "<style scoped>\n",
       "    .dataframe tbody tr th:only-of-type {\n",
       "        vertical-align: middle;\n",
       "    }\n",
       "\n",
       "    .dataframe tbody tr th {\n",
       "        vertical-align: top;\n",
       "    }\n",
       "\n",
       "    .dataframe thead th {\n",
       "        text-align: right;\n",
       "    }\n",
       "</style>\n",
       "<table border=\"1\" class=\"dataframe\">\n",
       "  <thead>\n",
       "    <tr style=\"text-align: right;\">\n",
       "      <th></th>\n",
       "      <th>date</th>\n",
       "      <th>orders_per_date_a</th>\n",
       "      <th>revenue_per_date_a</th>\n",
       "      <th>orders_per_date_b</th>\n",
       "      <th>revenue_per_date_b</th>\n",
       "      <th>orders_cummulative_a</th>\n",
       "      <th>revenue_cummulative_a</th>\n",
       "      <th>orders_cummulative_b</th>\n",
       "      <th>revenue_cummulative_b</th>\n",
       "      <th>visitors_per_date_a</th>\n",
       "      <th>visitors_per_date_b</th>\n",
       "      <th>cumulative_visitors_a</th>\n",
       "      <th>cumulative_visitors_b</th>\n",
       "    </tr>\n",
       "  </thead>\n",
       "  <tbody>\n",
       "    <tr>\n",
       "      <td>0</td>\n",
       "      <td>2019-08-01</td>\n",
       "      <td>23</td>\n",
       "      <td>142779</td>\n",
       "      <td>17</td>\n",
       "      <td>59758</td>\n",
       "      <td>23</td>\n",
       "      <td>142779</td>\n",
       "      <td>17</td>\n",
       "      <td>59758</td>\n",
       "      <td>719</td>\n",
       "      <td>713</td>\n",
       "      <td>719</td>\n",
       "      <td>713</td>\n",
       "    </tr>\n",
       "    <tr>\n",
       "      <td>1</td>\n",
       "      <td>2019-08-02</td>\n",
       "      <td>19</td>\n",
       "      <td>91602</td>\n",
       "      <td>23</td>\n",
       "      <td>162043</td>\n",
       "      <td>42</td>\n",
       "      <td>234381</td>\n",
       "      <td>40</td>\n",
       "      <td>221801</td>\n",
       "      <td>619</td>\n",
       "      <td>581</td>\n",
       "      <td>1338</td>\n",
       "      <td>1294</td>\n",
       "    </tr>\n",
       "  </tbody>\n",
       "</table>\n",
       "</div>"
      ],
      "text/plain": [
       "        date  orders_per_date_a  revenue_per_date_a  orders_per_date_b  \\\n",
       "0 2019-08-01                 23              142779                 17   \n",
       "1 2019-08-02                 19               91602                 23   \n",
       "\n",
       "   revenue_per_date_b  orders_cummulative_a  revenue_cummulative_a  \\\n",
       "0               59758                    23                 142779   \n",
       "1              162043                    42                 234381   \n",
       "\n",
       "   orders_cummulative_b  revenue_cummulative_b  visitors_per_date_a  \\\n",
       "0                    17                  59758                  719   \n",
       "1                    40                 221801                  619   \n",
       "\n",
       "   visitors_per_date_b  cumulative_visitors_a  cumulative_visitors_b  \n",
       "0                  713                    719                    713  \n",
       "1                  581                   1338                   1294  "
      ]
     },
     "metadata": {},
     "output_type": "display_data"
    }
   ],
   "source": [
    "#Соединим полученные таблицы:\n",
    "data = (orders_daily_a\n",
    "        .merge(orders_daily_b, left_on = 'date', right_on = 'date', how = 'left')\n",
    "        .merge(cum_orders_a, left_on = 'date', right_on = 'date', how = 'left')\n",
    "        .merge(cum_orders_b, left_on = 'date', right_on = 'date', how = 'left')\n",
    "        .merge(visitors_daily_a, left_on = 'date', right_on = 'date', how = 'left')\n",
    "        .merge(visitors_daily_b, left_on = 'date', right_on = 'date', how = 'left')\n",
    "        .merge(cum_visitors_a, left_on = 'date', right_on = 'date', how = 'left')\n",
    "        .merge(cum_visitors_b, left_on = 'date', right_on = 'date', how = 'left'))\n",
    "        \n",
    "display(data.head(2))"
   ]
  },
  {
   "cell_type": "code",
   "execution_count": 24,
   "metadata": {
    "scrolled": true
   },
   "outputs": [
    {
     "data": {
      "text/html": [
       "<div>\n",
       "<style scoped>\n",
       "    .dataframe tbody tr th:only-of-type {\n",
       "        vertical-align: middle;\n",
       "    }\n",
       "\n",
       "    .dataframe tbody tr th {\n",
       "        vertical-align: top;\n",
       "    }\n",
       "\n",
       "    .dataframe thead th {\n",
       "        text-align: right;\n",
       "    }\n",
       "</style>\n",
       "<table border=\"1\" class=\"dataframe\">\n",
       "  <thead>\n",
       "    <tr style=\"text-align: right;\">\n",
       "      <th></th>\n",
       "      <th>user_id</th>\n",
       "      <th>orders</th>\n",
       "    </tr>\n",
       "  </thead>\n",
       "  <tbody>\n",
       "    <tr>\n",
       "      <td>58</td>\n",
       "      <td>611059232</td>\n",
       "      <td>3</td>\n",
       "    </tr>\n",
       "    <tr>\n",
       "      <td>211</td>\n",
       "      <td>2108163459</td>\n",
       "      <td>3</td>\n",
       "    </tr>\n",
       "  </tbody>\n",
       "</table>\n",
       "</div>"
      ],
      "text/plain": [
       "        user_id  orders\n",
       "58    611059232       3\n",
       "211  2108163459       3"
      ]
     },
     "metadata": {},
     "output_type": "display_data"
    },
    {
     "data": {
      "text/html": [
       "<div>\n",
       "<style scoped>\n",
       "    .dataframe tbody tr th:only-of-type {\n",
       "        vertical-align: middle;\n",
       "    }\n",
       "\n",
       "    .dataframe tbody tr th {\n",
       "        vertical-align: top;\n",
       "    }\n",
       "\n",
       "    .dataframe thead th {\n",
       "        text-align: right;\n",
       "    }\n",
       "</style>\n",
       "<table border=\"1\" class=\"dataframe\">\n",
       "  <thead>\n",
       "    <tr style=\"text-align: right;\">\n",
       "      <th></th>\n",
       "      <th>user_id</th>\n",
       "      <th>orders</th>\n",
       "    </tr>\n",
       "  </thead>\n",
       "  <tbody>\n",
       "    <tr>\n",
       "      <td>347</td>\n",
       "      <td>2742574263</td>\n",
       "      <td>3</td>\n",
       "    </tr>\n",
       "    <tr>\n",
       "      <td>33</td>\n",
       "      <td>249864742</td>\n",
       "      <td>3</td>\n",
       "    </tr>\n",
       "  </tbody>\n",
       "</table>\n",
       "</div>"
      ],
      "text/plain": [
       "        user_id  orders\n",
       "347  2742574263       3\n",
       "33    249864742       3"
      ]
     },
     "metadata": {},
     "output_type": "display_data"
    }
   ],
   "source": [
    "# Посчитаем количество заказов каждого пользователя в группе A:\n",
    "order_by_user_a = orders[orders['group'] == 'A'].groupby('user_id', as_index=False).agg({'order_id':'count'})\n",
    "order_by_user_a.columns = ['user_id', 'orders']\n",
    "\n",
    "# Посчитаем количество заказов каждого пользователя в группе B:\n",
    "order_by_user_b = orders[orders['group'] == 'B'].groupby('user_id', as_index=False).agg({'order_id':'count'})\n",
    "order_by_user_b.columns = ['user_id', 'orders']\n",
    "\n",
    "display(order_by_user_a.sort_values(by='orders',ascending=False).head(2))\n",
    "display(order_by_user_b.sort_values(by='orders',ascending=False).head(2))"
   ]
  },
  {
   "cell_type": "markdown",
   "metadata": {},
   "source": [
    "## 8 Посчитаем статистическую значимость различий в конверсии между группами по «сырым» данным."
   ]
  },
  {
   "cell_type": "code",
   "execution_count": 25,
   "metadata": {},
   "outputs": [
    {
     "data": {
      "text/plain": [
       "'0.00551'"
      ]
     },
     "metadata": {},
     "output_type": "display_data"
    },
    {
     "data": {
      "text/plain": [
       "'0.160'"
      ]
     },
     "metadata": {},
     "output_type": "display_data"
    }
   ],
   "source": [
    "#Подготовим данные для групп A и B:\n",
    "#(В каждой группе соединим количество заказов каждого пользователя(которые сделали заказ) с данными остальных посетителей,\n",
    "#(которые не сделали заказ - количество заказов - 0).\n",
    "sample_a = pd.concat([order_by_user_a['orders'], pd.Series(0,index=np.arange(data['visitors_per_date_a'].sum()\n",
    "                                                                           -len(order_by_user_a['orders'])), name='orders')],axis=0)\n",
    "\n",
    "sample_b = pd.concat([order_by_user_b['orders'], pd.Series(0,index=np.arange(data['visitors_per_date_b'].sum()\n",
    "                                                                           -len(order_by_user_b['orders'])), name='orders')],axis=0)\n",
    "\n",
    "\n",
    "display(\"{0:.5f}\".format(st.mannwhitneyu(sample_a, sample_b)[1]))\n",
    "\n",
    "# Рассчитаем относительный прирост конверсии группы B к группе A \n",
    "display(\"{0:.3f}\".format(sample_b.mean() / sample_a.mean() - 1))"
   ]
  },
  {
   "cell_type": "markdown",
   "metadata": {},
   "source": [
    "Сформулируем гипотезы:\n",
    "    \n",
    "- Нулева гипотеза: конверсии группы A и группы B равны.\n",
    "- Альтернативная гипотеза: конверсии группы A и группы B различаются.\n",
    "    \n",
    "Значение p_value = 0.0055 меньше 0.05, т.е. нулевую гипотезу отвергаем, значит в конверсии между группами есть статистически значимые различия. Статистическая значимость достигнута. И относительный прирост конверсии группы B к группе A равен 16%."
   ]
  },
  {
   "cell_type": "markdown",
   "metadata": {},
   "source": [
    "## 9 Посчитаем статистическую значимость различий в среднем чеке заказа между группами по «сырым» данным."
   ]
  },
  {
   "cell_type": "code",
   "execution_count": 26,
   "metadata": {},
   "outputs": [
    {
     "data": {
      "text/plain": [
       "'0.4147'"
      ]
     },
     "metadata": {},
     "output_type": "display_data"
    },
    {
     "data": {
      "text/plain": [
       "'0.2866'"
      ]
     },
     "metadata": {},
     "output_type": "display_data"
    }
   ],
   "source": [
    "display('{0:.4f}'.format(st.mannwhitneyu(orders[orders['group']=='A']['revenue'], orders[orders['group']=='B']['revenue'])[1]))\n",
    "\n",
    "# Рассчитаем относительное различие среднего чека между группами: \n",
    "display('{0:.4f}'.format(orders[orders['group']=='B']['revenue'].mean()/orders[orders['group']=='A']['revenue'].mean()-1))"
   ]
  },
  {
   "cell_type": "markdown",
   "metadata": {},
   "source": [
    "Сформулируем гипотезы:\n",
    "    \n",
    "- Нулева гипотеза: значения среднего чека группы A и группы B равны.\n",
    "- Альтернативная гипотеза: значения среднего чека группы A и группы B различаются.    \n",
    "    \n",
    "Значение  p_value = 0.414 больше 0.05, нулевую гипотезу не отвергаем. Статистически значимых отличий в среднем чеке между группами нет, однако относительное различие среднего чека между группами 28%, разница случайна."
   ]
  },
  {
   "cell_type": "markdown",
   "metadata": {},
   "source": [
    "## 10 Посчитаем статистическую значимость различий в конверсии между группами по «очищенным» данным."
   ]
  },
  {
   "cell_type": "code",
   "execution_count": 27,
   "metadata": {},
   "outputs": [
    {
     "data": {
      "text/plain": [
       "'Аномальных пользователей: 58'"
      ]
     },
     "metadata": {},
     "output_type": "display_data"
    },
    {
     "data": {
      "text/plain": [
       "'0.006'"
      ]
     },
     "metadata": {},
     "output_type": "display_data"
    },
    {
     "data": {
      "text/plain": [
       "'0.182'"
      ]
     },
     "metadata": {},
     "output_type": "display_data"
    }
   ],
   "source": [
    "# Найдем пользователей с большим количеством заказов:\n",
    "much_orders_users = pd.concat([order_by_user_a[order_by_user_a['orders'] > 2]['user_id'],\n",
    "                               order_by_user_b[order_by_user_b['orders'] > 2]['user_id']], axis = 0)\n",
    "\n",
    "# Найдем пользователей с дорогими заказами:\n",
    "expensive_orders_users = orders[orders['revenue']>26785]['user_id']\n",
    "\n",
    "# Объединим пользователей с большим количеством заказо и с высокой стоимостью заказов:\n",
    "unomaly_users = pd.concat([much_orders_users, expensive_orders_users], axis=0).drop_duplicates()\n",
    "\n",
    "\n",
    "display(\"Аномальных пользователей: \" + str(unomaly_users.count()))\n",
    "\n",
    "# Создадим группы пользователей по очищенным данным:\n",
    "clear_sample_a = pd.concat([order_by_user_a[np.logical_not(order_by_user_a['user_id'].isin(unomaly_users))]\n",
    "                ['orders'], pd.Series(0, index=np.arange(data['visitors_per_date_a'].sum()\n",
    "                                                         -len(order_by_user_a['orders'])), name='orders')], axis=0)\n",
    "\n",
    "clear_sample_b = pd.concat([order_by_user_b[np.logical_not(order_by_user_b['user_id'].isin(unomaly_users))]\n",
    "                ['orders'], pd.Series(0, index=np.arange(data['visitors_per_date_b'].sum()\n",
    "                                                         -len(order_by_user_b['orders'])), name='orders')], axis=0)\n",
    "\n",
    "display('{0:.3f}'.format(st.mannwhitneyu(clear_sample_a, clear_sample_b)[1]))\n",
    "\n",
    "# Рассчитаем относительный прирост конверсии группы B к группе A:\n",
    "display('{0:.3f}'.format(clear_sample_b.mean()/clear_sample_a.mean()-1))"
   ]
  },
  {
   "cell_type": "markdown",
   "metadata": {},
   "source": [
    "Сформулируем гипотезы:\n",
    "\n",
    "- Нулева гипотеза: конверсии группы A и группы B равны.\n",
    "- Альтернативная гипотеза: конверсии группы A и группы B различаются.   \n",
    "    \n",
    "Значение p_value = 0.006 меньше 0.05, т.е. нулевую гипотезу отвергаем, значит в конверсии между группами есть статистически значимые различия. Статистическая значимость достигнута. Группа B лучше группы A, и относительный прирост конверсии группы B к группе A равен 18%."
   ]
  },
  {
   "cell_type": "markdown",
   "metadata": {},
   "source": [
    "## 11 Посчитаем статистическую значимость различий в среднем чеке заказа между группами по «очищенным» данным."
   ]
  },
  {
   "cell_type": "code",
   "execution_count": 28,
   "metadata": {},
   "outputs": [
    {
     "name": "stdout",
     "output_type": "stream",
     "text": [
      "0.323\n",
      "-0.048\n"
     ]
    }
   ],
   "source": [
    "print('{0:.3f}'.format(st\n",
    "                       .mannwhitneyu(orders[np.logical_and(orders['group'] == 'A'\n",
    "                                                           ,np.logical_not(orders['user_id'].isin(unomaly_users)))]['revenue']\n",
    "                                     ,orders[np.logical_and(orders['group'] == 'B'\n",
    "                                                            ,np.logical_not(orders['user_id'].isin(unomaly_users)))]['revenue'])[1]))\n",
    "\n",
    "# Рассчитаем относительное различие среднего чека между группами:\n",
    "print(\"{0:.3f}\".format(orders[np.logical_and(orders['group'] == 'B'\n",
    "                                             , np.logical_not(orders['user_id'].isin(unomaly_users)),)]['revenue'].mean()\n",
    "                       / orders[np.logical_and(orders['group'] == 'A'\n",
    "                                               ,np.logical_not(orders['user_id'].isin(unomaly_users)),)]['revenue'].mean() - 1))"
   ]
  },
  {
   "cell_type": "markdown",
   "metadata": {},
   "source": [
    "Сформулируем гипотезы:\n",
    "    \n",
    "- Нулева гипотеза: значения среднего чека группы A и группы B равны.\n",
    "- Альтернативная гипотеза: значения среднего чека группы A и группы B различаются.    \n",
    "\n",
    "Значение p_value = 0.323 больше 0.05, нулевую гипотезу не отвергаем. Статистически значимых отличий в среднем чеке между группами нет, относительное различие среднего чека между группами -0.048%, разница случайна."
   ]
  },
  {
   "cell_type": "markdown",
   "metadata": {},
   "source": [
    "## 14 Принять решение по результатам теста и объясните его. Варианты решений: 1. Остановить тест, зафиксировать победу одной из групп. 2. Остановить тест, зафиксировать отсутствие различий между группами. 3. Продолжить тест."
   ]
  },
  {
   "cell_type": "markdown",
   "metadata": {},
   "source": [
    "Общий вывод:\n",
    "    \n",
    "- Тест длился 30 дней. Количество заказов группы A - 468, группы B - 548.\n",
    "- Кумулятивный средний чек не стабилен в чачале теста, резкий скачак на графиках до с 2019-08-18 по до 2019-08-19 обусловлен аномальным заказом (transactionId - 590470918,\tvisitorId-1920142716,\t2019-08-19, сумма 1294500,\tгруппа - B).\n",
    "- Кумулятивная конверсия на графиках группы B выше чем у группы A в среднем на 15%.\n",
    "- В основном покупатели делают 1-2 заказа, стоимость большей части которых до 25000.\n",
    "- Разница в конверсии групп имеет статистическую значимость как с \"сырыми данными\", так и с очищенными, т.е. нулевую гипотезу отвергаем. Относительный прирост конверсии группы B к группе A составил 18%. По очищенным данным вероятность того, что разница окажется случайной составит - 0,6%(p_value = 0.006). \n",
    "- Разница с среднем чеке групп статистической значимости не имеет, как с \"сырыми данными\" так и с очищенными, т.е. нулевую гипотезу не отвергаем. По очищенным данным вероятность того, что разница будет случайной составит 32,3%(p_value = 0.323).\n",
    "- Тест остановить, различие в значении конверсии групп установленна, различие в средних чеках групп установить не удалось.\n",
    "- Рекомендация - проверить разбивку клиентов на группы."
   ]
  }
 ],
 "metadata": {
  "ExecuteTimeLog": [
   {
    "duration": 347,
    "start_time": "2021-06-09T04:23:15.428Z"
   },
   {
    "duration": 1507,
    "start_time": "2021-06-09T04:23:30.383Z"
   },
   {
    "duration": 71,
    "start_time": "2021-06-09T04:23:31.894Z"
   },
   {
    "duration": 17,
    "start_time": "2021-06-09T04:23:31.969Z"
   },
   {
    "duration": 69,
    "start_time": "2021-06-09T04:23:31.990Z"
   },
   {
    "duration": 21,
    "start_time": "2021-06-09T04:23:32.062Z"
   },
   {
    "duration": 18,
    "start_time": "2021-06-09T04:23:32.085Z"
   },
   {
    "duration": 63,
    "start_time": "2021-06-09T04:23:32.105Z"
   },
   {
    "duration": 586,
    "start_time": "2021-06-09T04:23:32.174Z"
   },
   {
    "duration": 439,
    "start_time": "2021-06-09T04:23:32.765Z"
   },
   {
    "duration": 411,
    "start_time": "2021-06-09T04:23:33.207Z"
   },
   {
    "duration": 503,
    "start_time": "2021-06-09T04:23:33.622Z"
   },
   {
    "duration": 446,
    "start_time": "2021-06-09T04:23:34.127Z"
   },
   {
    "duration": 582,
    "start_time": "2021-06-09T04:23:34.576Z"
   },
   {
    "duration": 436,
    "start_time": "2021-06-09T04:23:35.161Z"
   },
   {
    "duration": 592,
    "start_time": "2021-06-09T04:23:35.599Z"
   },
   {
    "duration": 435,
    "start_time": "2021-06-09T04:23:36.193Z"
   },
   {
    "duration": 61,
    "start_time": "2021-06-09T04:23:36.630Z"
   },
   {
    "duration": 280,
    "start_time": "2021-06-09T04:23:36.693Z"
   },
   {
    "duration": 16,
    "start_time": "2021-06-09T04:23:36.976Z"
   },
   {
    "duration": 421,
    "start_time": "2021-06-09T04:23:36.995Z"
   },
   {
    "duration": -1801,
    "start_time": "2021-06-09T04:23:39.219Z"
   },
   {
    "duration": -1807,
    "start_time": "2021-06-09T04:23:39.227Z"
   },
   {
    "duration": 16,
    "start_time": "2021-06-09T04:23:50.031Z"
   },
   {
    "duration": 26,
    "start_time": "2021-06-09T04:24:00.542Z"
   },
   {
    "duration": 20,
    "start_time": "2021-06-09T04:25:07.991Z"
   },
   {
    "duration": 294,
    "start_time": "2021-06-09T04:32:25.781Z"
   },
   {
    "duration": 12,
    "start_time": "2021-06-09T04:32:40.287Z"
   },
   {
    "duration": 19,
    "start_time": "2021-06-09T04:36:05.863Z"
   },
   {
    "duration": 16,
    "start_time": "2021-06-09T04:36:32.686Z"
   },
   {
    "duration": 18,
    "start_time": "2021-06-09T04:37:00.919Z"
   },
   {
    "duration": 18,
    "start_time": "2021-06-09T04:37:12.686Z"
   },
   {
    "duration": 30,
    "start_time": "2021-06-09T04:37:48.271Z"
   },
   {
    "duration": 243,
    "start_time": "2021-06-09T04:39:56.574Z"
   },
   {
    "duration": 1474,
    "start_time": "2021-06-09T04:40:11.495Z"
   },
   {
    "duration": 31,
    "start_time": "2021-06-09T04:40:12.972Z"
   },
   {
    "duration": 13,
    "start_time": "2021-06-09T04:40:13.005Z"
   },
   {
    "duration": 61,
    "start_time": "2021-06-09T04:40:13.021Z"
   },
   {
    "duration": 20,
    "start_time": "2021-06-09T04:40:13.084Z"
   },
   {
    "duration": 53,
    "start_time": "2021-06-09T04:40:13.106Z"
   },
   {
    "duration": 20,
    "start_time": "2021-06-09T04:40:13.162Z"
   },
   {
    "duration": 621,
    "start_time": "2021-06-09T04:40:13.186Z"
   },
   {
    "duration": 467,
    "start_time": "2021-06-09T04:40:13.810Z"
   },
   {
    "duration": 475,
    "start_time": "2021-06-09T04:40:14.279Z"
   },
   {
    "duration": 487,
    "start_time": "2021-06-09T04:40:14.757Z"
   },
   {
    "duration": 443,
    "start_time": "2021-06-09T04:40:15.255Z"
   },
   {
    "duration": 524,
    "start_time": "2021-06-09T04:40:15.701Z"
   },
   {
    "duration": 453,
    "start_time": "2021-06-09T04:40:16.228Z"
   },
   {
    "duration": 581,
    "start_time": "2021-06-09T04:40:16.684Z"
   },
   {
    "duration": 444,
    "start_time": "2021-06-09T04:40:17.270Z"
   },
   {
    "duration": 64,
    "start_time": "2021-06-09T04:40:17.716Z"
   },
   {
    "duration": 251,
    "start_time": "2021-06-09T04:40:17.783Z"
   },
   {
    "duration": 30,
    "start_time": "2021-06-09T04:40:18.036Z"
   },
   {
    "duration": 18,
    "start_time": "2021-06-09T04:40:18.069Z"
   },
   {
    "duration": 84,
    "start_time": "2021-06-09T04:40:18.090Z"
   },
   {
    "duration": 4,
    "start_time": "2021-06-09T04:40:18.177Z"
   },
   {
    "duration": 1436,
    "start_time": "2021-06-09T04:41:49.609Z"
   },
   {
    "duration": 40,
    "start_time": "2021-06-09T04:41:51.049Z"
   },
   {
    "duration": 14,
    "start_time": "2021-06-09T04:41:51.092Z"
   },
   {
    "duration": 72,
    "start_time": "2021-06-09T04:41:51.109Z"
   },
   {
    "duration": 20,
    "start_time": "2021-06-09T04:41:51.184Z"
   },
   {
    "duration": 51,
    "start_time": "2021-06-09T04:41:51.207Z"
   },
   {
    "duration": 21,
    "start_time": "2021-06-09T04:41:51.262Z"
   },
   {
    "duration": 644,
    "start_time": "2021-06-09T04:41:51.285Z"
   },
   {
    "duration": 556,
    "start_time": "2021-06-09T04:41:51.933Z"
   },
   {
    "duration": 427,
    "start_time": "2021-06-09T04:41:52.492Z"
   },
   {
    "duration": 510,
    "start_time": "2021-06-09T04:41:52.921Z"
   },
   {
    "duration": 453,
    "start_time": "2021-06-09T04:41:53.434Z"
   },
   {
    "duration": 544,
    "start_time": "2021-06-09T04:41:53.890Z"
   },
   {
    "duration": 460,
    "start_time": "2021-06-09T04:41:54.436Z"
   },
   {
    "duration": 580,
    "start_time": "2021-06-09T04:41:54.899Z"
   },
   {
    "duration": 431,
    "start_time": "2021-06-09T04:41:55.483Z"
   },
   {
    "duration": 68,
    "start_time": "2021-06-09T04:41:55.917Z"
   },
   {
    "duration": 267,
    "start_time": "2021-06-09T04:41:55.989Z"
   },
   {
    "duration": 27,
    "start_time": "2021-06-09T04:41:56.261Z"
   },
   {
    "duration": 18,
    "start_time": "2021-06-09T04:41:56.291Z"
   },
   {
    "duration": 80,
    "start_time": "2021-06-09T04:41:56.312Z"
   },
   {
    "duration": 3,
    "start_time": "2021-06-09T04:41:56.395Z"
   },
   {
    "duration": 1517,
    "start_time": "2021-06-09T04:43:13.534Z"
   },
   {
    "duration": 40,
    "start_time": "2021-06-09T04:43:15.054Z"
   },
   {
    "duration": 13,
    "start_time": "2021-06-09T04:43:15.097Z"
   },
   {
    "duration": 67,
    "start_time": "2021-06-09T04:43:15.113Z"
   },
   {
    "duration": 18,
    "start_time": "2021-06-09T04:43:15.183Z"
   },
   {
    "duration": 57,
    "start_time": "2021-06-09T04:43:15.203Z"
   },
   {
    "duration": 19,
    "start_time": "2021-06-09T04:43:15.264Z"
   },
   {
    "duration": 592,
    "start_time": "2021-06-09T04:43:15.287Z"
   },
   {
    "duration": 440,
    "start_time": "2021-06-09T04:43:15.882Z"
   },
   {
    "duration": 418,
    "start_time": "2021-06-09T04:43:16.325Z"
   },
   {
    "duration": 499,
    "start_time": "2021-06-09T04:43:16.746Z"
   },
   {
    "duration": 465,
    "start_time": "2021-06-09T04:43:17.248Z"
   },
   {
    "duration": 543,
    "start_time": "2021-06-09T04:43:17.715Z"
   },
   {
    "duration": 458,
    "start_time": "2021-06-09T04:43:18.262Z"
   },
   {
    "duration": 643,
    "start_time": "2021-06-09T04:43:18.722Z"
   },
   {
    "duration": 433,
    "start_time": "2021-06-09T04:43:19.368Z"
   },
   {
    "duration": 72,
    "start_time": "2021-06-09T04:43:19.804Z"
   },
   {
    "duration": 28,
    "start_time": "2021-06-09T04:43:19.878Z"
   },
   {
    "duration": 52,
    "start_time": "2021-06-09T04:43:19.909Z"
   },
   {
    "duration": 26,
    "start_time": "2021-06-09T04:43:19.964Z"
   },
   {
    "duration": 74,
    "start_time": "2021-06-09T04:43:19.993Z"
   },
   {
    "duration": 4,
    "start_time": "2021-06-09T04:43:20.071Z"
   },
   {
    "duration": 1500,
    "start_time": "2021-06-09T04:44:23.593Z"
   },
   {
    "duration": 60,
    "start_time": "2021-06-09T04:44:25.096Z"
   },
   {
    "duration": 15,
    "start_time": "2021-06-09T04:44:25.159Z"
   },
   {
    "duration": 27,
    "start_time": "2021-06-09T04:44:25.177Z"
   },
   {
    "duration": 70,
    "start_time": "2021-06-09T04:44:25.207Z"
   },
   {
    "duration": 18,
    "start_time": "2021-06-09T04:44:25.279Z"
   },
   {
    "duration": 55,
    "start_time": "2021-06-09T04:44:25.299Z"
   },
   {
    "duration": 609,
    "start_time": "2021-06-09T04:44:25.359Z"
   },
   {
    "duration": 446,
    "start_time": "2021-06-09T04:44:25.972Z"
   },
   {
    "duration": 422,
    "start_time": "2021-06-09T04:44:26.420Z"
   },
   {
    "duration": 496,
    "start_time": "2021-06-09T04:44:26.846Z"
   },
   {
    "duration": 452,
    "start_time": "2021-06-09T04:44:27.344Z"
   },
   {
    "duration": 540,
    "start_time": "2021-06-09T04:44:27.798Z"
   },
   {
    "duration": 447,
    "start_time": "2021-06-09T04:44:28.341Z"
   },
   {
    "duration": 605,
    "start_time": "2021-06-09T04:44:28.792Z"
   },
   {
    "duration": 541,
    "start_time": "2021-06-09T04:44:29.400Z"
   },
   {
    "duration": 63,
    "start_time": "2021-06-09T04:44:29.944Z"
   },
   {
    "duration": 61,
    "start_time": "2021-06-09T04:44:30.009Z"
   },
   {
    "duration": 16,
    "start_time": "2021-06-09T04:44:30.072Z"
   },
   {
    "duration": 23,
    "start_time": "2021-06-09T04:44:30.090Z"
   },
   {
    "duration": 70,
    "start_time": "2021-06-09T04:44:30.115Z"
   },
   {
    "duration": 3,
    "start_time": "2021-06-09T04:44:30.188Z"
   },
   {
    "duration": 1499,
    "start_time": "2021-06-09T04:46:32.243Z"
   },
   {
    "duration": 39,
    "start_time": "2021-06-09T04:46:33.755Z"
   },
   {
    "duration": 16,
    "start_time": "2021-06-09T04:46:33.796Z"
   },
   {
    "duration": 73,
    "start_time": "2021-06-09T04:46:33.815Z"
   },
   {
    "duration": 20,
    "start_time": "2021-06-09T04:46:33.891Z"
   },
   {
    "duration": 51,
    "start_time": "2021-06-09T04:46:33.913Z"
   },
   {
    "duration": 23,
    "start_time": "2021-06-09T04:46:33.968Z"
   },
   {
    "duration": 610,
    "start_time": "2021-06-09T04:46:33.994Z"
   },
   {
    "duration": 464,
    "start_time": "2021-06-09T04:46:34.606Z"
   },
   {
    "duration": 416,
    "start_time": "2021-06-09T04:46:35.073Z"
   },
   {
    "duration": 530,
    "start_time": "2021-06-09T04:46:35.492Z"
   },
   {
    "duration": 429,
    "start_time": "2021-06-09T04:46:36.025Z"
   },
   {
    "duration": 495,
    "start_time": "2021-06-09T04:46:36.457Z"
   },
   {
    "duration": 448,
    "start_time": "2021-06-09T04:46:36.963Z"
   },
   {
    "duration": 633,
    "start_time": "2021-06-09T04:46:37.413Z"
   },
   {
    "duration": 459,
    "start_time": "2021-06-09T04:46:38.049Z"
   },
   {
    "duration": 64,
    "start_time": "2021-06-09T04:46:38.510Z"
   },
   {
    "duration": 29,
    "start_time": "2021-06-09T04:46:38.576Z"
   },
   {
    "duration": 58,
    "start_time": "2021-06-09T04:46:38.607Z"
   },
   {
    "duration": 17,
    "start_time": "2021-06-09T04:46:38.668Z"
   },
   {
    "duration": 29,
    "start_time": "2021-06-09T04:46:38.687Z"
   },
   {
    "duration": 8,
    "start_time": "2021-06-09T04:46:38.762Z"
   },
   {
    "duration": 90,
    "start_time": "2021-06-09T04:49:00.682Z"
   },
   {
    "duration": 29,
    "start_time": "2021-06-09T04:49:07.477Z"
   },
   {
    "duration": 47,
    "start_time": "2021-06-09T04:49:15.621Z"
   },
   {
    "duration": 44,
    "start_time": "2021-06-09T04:50:52.814Z"
   },
   {
    "duration": 43,
    "start_time": "2021-06-09T04:51:39.702Z"
   },
   {
    "duration": 52,
    "start_time": "2021-06-09T04:52:08.229Z"
   },
   {
    "duration": 42,
    "start_time": "2021-06-09T04:52:32.559Z"
   },
   {
    "duration": 84,
    "start_time": "2021-06-09T04:53:32.145Z"
   },
   {
    "duration": 407,
    "start_time": "2021-06-09T04:53:38.972Z"
   },
   {
    "duration": 52,
    "start_time": "2021-06-09T04:56:02.805Z"
   },
   {
    "duration": 384,
    "start_time": "2021-06-09T08:48:51.959Z"
   },
   {
    "duration": 170,
    "start_time": "2021-06-09T08:52:14.440Z"
   },
   {
    "duration": 30,
    "start_time": "2021-06-09T08:52:14.613Z"
   },
   {
    "duration": 45,
    "start_time": "2021-06-09T08:52:14.646Z"
   },
   {
    "duration": 26,
    "start_time": "2021-06-09T08:52:14.694Z"
   },
   {
    "duration": 19,
    "start_time": "2021-06-09T08:52:14.723Z"
   },
   {
    "duration": 57,
    "start_time": "2021-06-09T08:52:14.745Z"
   },
   {
    "duration": 19,
    "start_time": "2021-06-09T08:52:14.805Z"
   },
   {
    "duration": 599,
    "start_time": "2021-06-09T08:52:14.826Z"
   },
   {
    "duration": 435,
    "start_time": "2021-06-09T08:52:15.428Z"
   },
   {
    "duration": 406,
    "start_time": "2021-06-09T08:52:15.866Z"
   },
   {
    "duration": 523,
    "start_time": "2021-06-09T08:52:16.274Z"
   },
   {
    "duration": 468,
    "start_time": "2021-06-09T08:52:16.800Z"
   },
   {
    "duration": 597,
    "start_time": "2021-06-09T08:52:17.271Z"
   },
   {
    "duration": 462,
    "start_time": "2021-06-09T08:52:17.871Z"
   },
   {
    "duration": 586,
    "start_time": "2021-06-09T08:52:18.335Z"
   },
   {
    "duration": 438,
    "start_time": "2021-06-09T08:52:18.924Z"
   },
   {
    "duration": 61,
    "start_time": "2021-06-09T08:52:19.364Z"
   },
   {
    "duration": 76,
    "start_time": "2021-06-09T08:52:19.428Z"
   },
   {
    "duration": 16,
    "start_time": "2021-06-09T08:52:19.507Z"
   },
   {
    "duration": 19,
    "start_time": "2021-06-09T08:52:19.526Z"
   },
   {
    "duration": 49,
    "start_time": "2021-06-09T08:52:19.547Z"
   },
   {
    "duration": 5,
    "start_time": "2021-06-09T08:52:19.600Z"
   },
   {
    "duration": 16,
    "start_time": "2021-06-09T08:52:57.195Z"
   },
   {
    "duration": 18,
    "start_time": "2021-06-09T08:57:15.722Z"
   },
   {
    "duration": 18,
    "start_time": "2021-06-09T08:57:38.818Z"
   },
   {
    "duration": 18,
    "start_time": "2021-06-09T08:58:13.866Z"
   },
   {
    "duration": 18,
    "start_time": "2021-06-09T08:58:28.225Z"
   },
   {
    "duration": 20,
    "start_time": "2021-06-09T09:00:56.857Z"
   },
   {
    "duration": 24,
    "start_time": "2021-06-09T09:01:11.264Z"
   },
   {
    "duration": 476,
    "start_time": "2021-06-09T09:01:18.562Z"
   },
   {
    "duration": 375,
    "start_time": "2021-06-09T09:01:24.073Z"
   },
   {
    "duration": 105,
    "start_time": "2021-06-09T09:01:29.608Z"
   },
   {
    "duration": 26,
    "start_time": "2021-06-09T09:01:33.018Z"
   },
   {
    "duration": 347,
    "start_time": "2021-06-09T09:01:37.200Z"
   },
   {
    "duration": 24,
    "start_time": "2021-06-09T09:01:42.167Z"
   },
   {
    "duration": 17,
    "start_time": "2021-06-09T09:02:23.216Z"
   },
   {
    "duration": 101,
    "start_time": "2021-06-09T09:02:34.768Z"
   },
   {
    "duration": 318,
    "start_time": "2021-06-09T09:02:56.153Z"
   },
   {
    "duration": 18,
    "start_time": "2021-06-09T09:03:04.816Z"
   },
   {
    "duration": 15,
    "start_time": "2021-06-09T09:03:16.041Z"
   },
   {
    "duration": 330,
    "start_time": "2021-06-09T09:15:45.336Z"
   },
   {
    "duration": 347,
    "start_time": "2021-06-09T09:16:13.431Z"
   },
   {
    "duration": 23,
    "start_time": "2021-06-09T09:17:05.118Z"
   },
   {
    "duration": 33,
    "start_time": "2021-06-09T09:19:36.122Z"
   },
   {
    "duration": 393,
    "start_time": "2021-06-09T10:57:59.779Z"
   },
   {
    "duration": 35,
    "start_time": "2021-06-09T10:58:13.196Z"
   },
   {
    "duration": 116,
    "start_time": "2021-06-09T10:59:14.189Z"
   },
   {
    "duration": 25,
    "start_time": "2021-06-09T10:59:28.740Z"
   },
   {
    "duration": 32,
    "start_time": "2021-06-09T10:59:44.388Z"
   },
   {
    "duration": 109,
    "start_time": "2021-06-09T11:00:27.126Z"
   },
   {
    "duration": 112,
    "start_time": "2021-06-09T11:00:51.796Z"
   },
   {
    "duration": 39,
    "start_time": "2021-06-09T11:01:00.156Z"
   },
   {
    "duration": 101,
    "start_time": "2021-06-09T11:01:53.453Z"
   },
   {
    "duration": 123,
    "start_time": "2021-06-09T11:01:59.991Z"
   },
   {
    "duration": 119,
    "start_time": "2021-06-09T11:02:12.269Z"
   },
   {
    "duration": 118,
    "start_time": "2021-06-09T11:02:33.083Z"
   },
   {
    "duration": 126,
    "start_time": "2021-06-09T11:02:47.779Z"
   },
   {
    "duration": 117,
    "start_time": "2021-06-09T11:02:56.547Z"
   },
   {
    "duration": 131,
    "start_time": "2021-06-09T11:03:10.588Z"
   },
   {
    "duration": 29,
    "start_time": "2021-06-09T11:03:59.619Z"
   },
   {
    "duration": 57,
    "start_time": "2021-06-09T11:08:51.130Z"
   },
   {
    "duration": 12,
    "start_time": "2021-06-09T11:10:08.548Z"
   },
   {
    "duration": 22,
    "start_time": "2021-06-09T11:33:49.935Z"
   },
   {
    "duration": 25,
    "start_time": "2021-06-09T11:34:09.487Z"
   },
   {
    "duration": 116,
    "start_time": "2021-06-09T11:37:00.793Z"
   },
   {
    "duration": 16,
    "start_time": "2021-06-09T11:37:10.144Z"
   },
   {
    "duration": 22,
    "start_time": "2021-06-09T11:38:17.699Z"
   },
   {
    "duration": 23,
    "start_time": "2021-06-09T11:39:14.521Z"
   },
   {
    "duration": 13,
    "start_time": "2021-06-09T11:46:28.110Z"
   },
   {
    "duration": 29,
    "start_time": "2021-06-09T12:02:12.389Z"
   },
   {
    "duration": 9593,
    "start_time": "2021-06-09T12:08:49.208Z"
   },
   {
    "duration": 18,
    "start_time": "2021-06-09T12:09:06.778Z"
   },
   {
    "duration": 21,
    "start_time": "2021-06-09T12:13:16.026Z"
   },
   {
    "duration": 18,
    "start_time": "2021-06-09T12:47:46.053Z"
   },
   {
    "duration": 1445,
    "start_time": "2021-06-09T12:57:41.699Z"
   },
   {
    "duration": 761,
    "start_time": "2021-06-09T12:57:48.784Z"
   },
   {
    "duration": 43,
    "start_time": "2021-06-09T12:57:55.178Z"
   },
   {
    "duration": 61,
    "start_time": "2021-06-09T12:58:18.164Z"
   },
   {
    "duration": 49,
    "start_time": "2021-06-09T12:58:21.001Z"
   },
   {
    "duration": 36,
    "start_time": "2021-06-09T13:00:48.317Z"
   },
   {
    "duration": 50,
    "start_time": "2021-06-09T13:01:10.563Z"
   },
   {
    "duration": 46,
    "start_time": "2021-06-09T13:03:05.073Z"
   },
   {
    "duration": 111,
    "start_time": "2021-06-09T13:03:33.857Z"
   },
   {
    "duration": 42,
    "start_time": "2021-06-09T13:03:36.783Z"
   },
   {
    "duration": 45,
    "start_time": "2021-06-09T13:06:28.775Z"
   },
   {
    "duration": 57,
    "start_time": "2021-06-09T13:07:24.771Z"
   },
   {
    "duration": 58,
    "start_time": "2021-06-09T13:07:33.198Z"
   },
   {
    "duration": 55,
    "start_time": "2021-06-09T13:07:42.606Z"
   },
   {
    "duration": 53,
    "start_time": "2021-06-09T13:07:51.284Z"
   },
   {
    "duration": 49,
    "start_time": "2021-06-09T13:08:11.459Z"
   },
   {
    "duration": 55,
    "start_time": "2021-06-09T13:08:16.996Z"
   },
   {
    "duration": 49,
    "start_time": "2021-06-09T13:08:40.897Z"
   },
   {
    "duration": 59,
    "start_time": "2021-06-09T13:09:13.061Z"
   },
   {
    "duration": 103,
    "start_time": "2021-06-09T13:10:16.235Z"
   },
   {
    "duration": 58,
    "start_time": "2021-06-09T13:10:20.051Z"
   },
   {
    "duration": 39,
    "start_time": "2021-06-09T13:10:38.447Z"
   },
   {
    "duration": 47,
    "start_time": "2021-06-09T13:10:47.362Z"
   },
   {
    "duration": 37,
    "start_time": "2021-06-09T13:11:20.002Z"
   },
   {
    "duration": 36,
    "start_time": "2021-06-09T13:11:34.513Z"
   },
   {
    "duration": 37,
    "start_time": "2021-06-09T13:11:58.550Z"
   },
   {
    "duration": 38,
    "start_time": "2021-06-09T13:17:38.434Z"
   },
   {
    "duration": 22,
    "start_time": "2021-06-09T13:30:52.798Z"
   },
   {
    "duration": 25,
    "start_time": "2021-06-09T13:31:34.880Z"
   },
   {
    "duration": 333,
    "start_time": "2021-06-09T13:31:41.412Z"
   },
   {
    "duration": 18,
    "start_time": "2021-06-09T13:31:46.033Z"
   },
   {
    "duration": 18,
    "start_time": "2021-06-09T13:32:04.700Z"
   },
   {
    "duration": 311,
    "start_time": "2021-06-09T13:33:16.239Z"
   },
   {
    "duration": 132,
    "start_time": "2021-06-09T13:39:53.193Z"
   },
   {
    "duration": 21,
    "start_time": "2021-06-09T13:40:00.851Z"
   },
   {
    "duration": 349,
    "start_time": "2021-06-09T13:40:18.302Z"
   },
   {
    "duration": 28,
    "start_time": "2021-06-09T13:40:50.304Z"
   },
   {
    "duration": 144,
    "start_time": "2021-06-09T13:41:19.641Z"
   },
   {
    "duration": 34,
    "start_time": "2021-06-09T13:41:19.916Z"
   },
   {
    "duration": 15,
    "start_time": "2021-06-09T13:41:20.115Z"
   },
   {
    "duration": 347,
    "start_time": "2021-06-09T13:41:20.575Z"
   },
   {
    "duration": 28,
    "start_time": "2021-06-09T13:42:09.711Z"
   },
   {
    "duration": 55,
    "start_time": "2021-06-09T13:43:29.339Z"
   },
   {
    "duration": 374,
    "start_time": "2021-06-09T13:45:11.318Z"
   },
   {
    "duration": 74,
    "start_time": "2021-06-09T13:45:29.504Z"
   },
   {
    "duration": 136,
    "start_time": "2021-06-09T13:45:39.847Z"
   },
   {
    "duration": 42,
    "start_time": "2021-06-09T13:45:40.076Z"
   },
   {
    "duration": 15,
    "start_time": "2021-06-09T13:45:40.298Z"
   },
   {
    "duration": 75,
    "start_time": "2021-06-09T13:45:40.377Z"
   },
   {
    "duration": 20,
    "start_time": "2021-06-09T13:45:41.658Z"
   },
   {
    "duration": 18,
    "start_time": "2021-06-09T13:45:42.420Z"
   },
   {
    "duration": 19,
    "start_time": "2021-06-09T13:45:43.847Z"
   },
   {
    "duration": 611,
    "start_time": "2021-06-09T13:45:45.156Z"
   },
   {
    "duration": 111,
    "start_time": "2021-06-09T13:46:18.813Z"
   },
   {
    "duration": 70,
    "start_time": "2021-06-09T13:48:58.397Z"
   },
   {
    "duration": 85,
    "start_time": "2021-06-09T13:49:12.481Z"
   },
   {
    "duration": 343,
    "start_time": "2021-06-09T13:50:35.988Z"
   },
   {
    "duration": 123,
    "start_time": "2021-06-09T13:51:44.539Z"
   },
   {
    "duration": 317,
    "start_time": "2021-06-09T13:51:48.678Z"
   },
   {
    "duration": 65,
    "start_time": "2021-06-09T13:51:59.808Z"
   },
   {
    "duration": 148,
    "start_time": "2021-06-09T13:52:09.897Z"
   },
   {
    "duration": 31,
    "start_time": "2021-06-09T13:52:10.346Z"
   },
   {
    "duration": 14,
    "start_time": "2021-06-09T13:52:10.927Z"
   },
   {
    "duration": 73,
    "start_time": "2021-06-09T13:52:11.457Z"
   },
   {
    "duration": 71,
    "start_time": "2021-06-09T13:52:47.917Z"
   },
   {
    "duration": 66,
    "start_time": "2021-06-09T13:53:04.604Z"
   },
   {
    "duration": 29,
    "start_time": "2021-06-09T13:54:04.752Z"
   },
   {
    "duration": 124,
    "start_time": "2021-06-09T13:54:19.151Z"
   },
   {
    "duration": 30,
    "start_time": "2021-06-09T13:54:33.510Z"
   },
   {
    "duration": 37,
    "start_time": "2021-06-09T13:54:50.975Z"
   },
   {
    "duration": 143,
    "start_time": "2021-06-09T13:54:59.600Z"
   },
   {
    "duration": 41,
    "start_time": "2021-06-09T13:55:00.079Z"
   },
   {
    "duration": 19,
    "start_time": "2021-06-09T13:55:00.891Z"
   },
   {
    "duration": 27,
    "start_time": "2021-06-09T13:55:01.742Z"
   },
   {
    "duration": 105,
    "start_time": "2021-06-09T13:55:21.345Z"
   },
   {
    "duration": 24,
    "start_time": "2021-06-09T13:55:26.418Z"
   },
   {
    "duration": 23,
    "start_time": "2021-06-09T13:57:46.142Z"
   },
   {
    "duration": 34,
    "start_time": "2021-06-09T14:17:59.103Z"
   },
   {
    "duration": 1667,
    "start_time": "2021-06-09T14:21:06.356Z"
   },
   {
    "duration": 64,
    "start_time": "2021-06-09T14:21:08.028Z"
   },
   {
    "duration": 17,
    "start_time": "2021-06-09T14:21:08.097Z"
   },
   {
    "duration": 30,
    "start_time": "2021-06-09T14:21:08.118Z"
   },
   {
    "duration": 60,
    "start_time": "2021-06-09T14:21:08.151Z"
   },
   {
    "duration": 25,
    "start_time": "2021-06-09T14:21:08.214Z"
   },
   {
    "duration": 59,
    "start_time": "2021-06-09T14:21:08.242Z"
   },
   {
    "duration": 615,
    "start_time": "2021-06-09T14:21:08.304Z"
   },
   {
    "duration": 461,
    "start_time": "2021-06-09T14:21:08.923Z"
   },
   {
    "duration": 405,
    "start_time": "2021-06-09T14:21:09.388Z"
   },
   {
    "duration": 492,
    "start_time": "2021-06-09T14:21:09.795Z"
   },
   {
    "duration": 461,
    "start_time": "2021-06-09T14:21:10.291Z"
   },
   {
    "duration": 536,
    "start_time": "2021-06-09T14:21:10.754Z"
   },
   {
    "duration": 430,
    "start_time": "2021-06-09T14:21:11.294Z"
   },
   {
    "duration": 563,
    "start_time": "2021-06-09T14:21:11.726Z"
   },
   {
    "duration": 461,
    "start_time": "2021-06-09T14:21:12.292Z"
   },
   {
    "duration": 70,
    "start_time": "2021-06-09T14:21:12.755Z"
   },
   {
    "duration": 83,
    "start_time": "2021-06-09T14:21:12.828Z"
   },
   {
    "duration": 17,
    "start_time": "2021-06-09T14:21:12.914Z"
   },
   {
    "duration": 29,
    "start_time": "2021-06-09T14:21:12.933Z"
   },
   {
    "duration": 43,
    "start_time": "2021-06-09T14:21:12.964Z"
   },
   {
    "duration": 39,
    "start_time": "2021-06-09T14:21:13.009Z"
   },
   {
    "duration": 1629,
    "start_time": "2021-06-09T14:57:53.298Z"
   },
   {
    "duration": 62,
    "start_time": "2021-06-09T14:57:54.929Z"
   },
   {
    "duration": 13,
    "start_time": "2021-06-09T14:57:54.994Z"
   },
   {
    "duration": 26,
    "start_time": "2021-06-09T14:57:55.010Z"
   },
   {
    "duration": 67,
    "start_time": "2021-06-09T14:57:55.039Z"
   },
   {
    "duration": 24,
    "start_time": "2021-06-09T14:57:55.109Z"
   },
   {
    "duration": 26,
    "start_time": "2021-06-09T14:57:55.135Z"
   },
   {
    "duration": 695,
    "start_time": "2021-06-09T14:57:55.165Z"
   },
   {
    "duration": 464,
    "start_time": "2021-06-09T14:57:55.864Z"
   },
   {
    "duration": 444,
    "start_time": "2021-06-09T14:57:56.331Z"
   },
   {
    "duration": 505,
    "start_time": "2021-06-09T14:57:56.777Z"
   },
   {
    "duration": 443,
    "start_time": "2021-06-09T14:57:57.287Z"
   },
   {
    "duration": 517,
    "start_time": "2021-06-09T14:57:57.733Z"
   },
   {
    "duration": 464,
    "start_time": "2021-06-09T14:57:58.253Z"
   },
   {
    "duration": 587,
    "start_time": "2021-06-09T14:57:58.719Z"
   },
   {
    "duration": 442,
    "start_time": "2021-06-09T14:57:59.308Z"
   },
   {
    "duration": 74,
    "start_time": "2021-06-09T14:57:59.752Z"
   },
   {
    "duration": 80,
    "start_time": "2021-06-09T14:57:59.829Z"
   },
   {
    "duration": 16,
    "start_time": "2021-06-09T14:57:59.911Z"
   },
   {
    "duration": 15,
    "start_time": "2021-06-09T14:57:59.930Z"
   },
   {
    "duration": 65,
    "start_time": "2021-06-09T14:57:59.947Z"
   },
   {
    "duration": 20,
    "start_time": "2021-06-09T14:58:00.014Z"
   },
   {
    "duration": 525,
    "start_time": "2021-06-09T15:56:42.187Z"
   },
   {
    "duration": 314,
    "start_time": "2021-06-09T15:57:09.961Z"
   },
   {
    "duration": 412,
    "start_time": "2021-06-09T15:57:28.639Z"
   },
   {
    "duration": 121,
    "start_time": "2021-06-09T15:57:36.846Z"
   },
   {
    "duration": 29,
    "start_time": "2021-06-09T15:57:37.154Z"
   },
   {
    "duration": 13,
    "start_time": "2021-06-09T15:57:37.720Z"
   },
   {
    "duration": 53,
    "start_time": "2021-06-09T15:57:37.978Z"
   },
   {
    "duration": 317,
    "start_time": "2021-06-09T15:57:51.061Z"
   },
   {
    "duration": 28,
    "start_time": "2021-06-09T15:58:22.571Z"
   },
   {
    "duration": 48,
    "start_time": "2021-06-09T16:00:35.004Z"
   },
   {
    "duration": 60,
    "start_time": "2021-06-09T16:00:41.564Z"
   },
   {
    "duration": 57,
    "start_time": "2021-06-09T16:01:08.063Z"
   },
   {
    "duration": 7830,
    "start_time": "2021-06-09T16:01:47.020Z"
   },
   {
    "duration": 57,
    "start_time": "2021-06-09T16:02:59.762Z"
   },
   {
    "duration": 56,
    "start_time": "2021-06-09T16:03:45.759Z"
   },
   {
    "duration": 157,
    "start_time": "2021-06-09T16:03:54.357Z"
   },
   {
    "duration": 29,
    "start_time": "2021-06-09T16:03:54.759Z"
   },
   {
    "duration": 13,
    "start_time": "2021-06-09T16:03:55.514Z"
   },
   {
    "duration": 76,
    "start_time": "2021-06-09T16:03:56.265Z"
   },
   {
    "duration": 101,
    "start_time": "2021-06-09T16:04:18.987Z"
   },
   {
    "duration": 74,
    "start_time": "2021-06-09T16:05:19.707Z"
   },
   {
    "duration": 125,
    "start_time": "2021-06-09T16:05:35.836Z"
   },
   {
    "duration": 45,
    "start_time": "2021-06-09T16:05:36.183Z"
   },
   {
    "duration": 16,
    "start_time": "2021-06-09T16:05:36.701Z"
   },
   {
    "duration": 67,
    "start_time": "2021-06-09T16:05:37.308Z"
   },
   {
    "duration": 460,
    "start_time": "2021-06-09T16:06:45.903Z"
   },
   {
    "duration": 815,
    "start_time": "2021-06-09T16:08:08.151Z"
   },
   {
    "duration": 74,
    "start_time": "2021-06-09T16:09:06.132Z"
   },
   {
    "duration": 50,
    "start_time": "2021-06-09T16:09:33.711Z"
   },
   {
    "duration": 129,
    "start_time": "2021-06-09T16:09:39.405Z"
   },
   {
    "duration": 35,
    "start_time": "2021-06-09T16:09:39.866Z"
   },
   {
    "duration": 19,
    "start_time": "2021-06-09T16:09:40.790Z"
   },
   {
    "duration": 45,
    "start_time": "2021-06-09T16:09:42.102Z"
   },
   {
    "duration": 120,
    "start_time": "2021-06-09T16:10:29.053Z"
   },
   {
    "duration": 38,
    "start_time": "2021-06-09T16:10:29.473Z"
   },
   {
    "duration": 13,
    "start_time": "2021-06-09T16:10:30.242Z"
   },
   {
    "duration": 61,
    "start_time": "2021-06-09T16:10:31.254Z"
   },
   {
    "duration": 64,
    "start_time": "2021-06-09T16:12:43.715Z"
   },
   {
    "duration": 59,
    "start_time": "2021-06-09T16:13:38.524Z"
   },
   {
    "duration": 50,
    "start_time": "2021-06-09T16:15:12.919Z"
   },
   {
    "duration": 49,
    "start_time": "2021-06-09T16:15:29.833Z"
   },
   {
    "duration": 351,
    "start_time": "2021-06-09T16:16:28.352Z"
   },
   {
    "duration": 506,
    "start_time": "2021-06-09T16:16:47.826Z"
   },
   {
    "duration": 94,
    "start_time": "2021-06-09T16:16:53.231Z"
   },
   {
    "duration": 93,
    "start_time": "2021-06-09T16:17:03.643Z"
   },
   {
    "duration": 135,
    "start_time": "2021-06-09T16:17:37.571Z"
   },
   {
    "duration": 30,
    "start_time": "2021-06-09T16:17:37.834Z"
   },
   {
    "duration": 13,
    "start_time": "2021-06-09T16:17:38.109Z"
   },
   {
    "duration": 90,
    "start_time": "2021-06-09T16:17:38.820Z"
   },
   {
    "duration": 32,
    "start_time": "2021-06-09T16:17:59.227Z"
   },
   {
    "duration": 32,
    "start_time": "2021-06-09T16:18:27.594Z"
   },
   {
    "duration": 40,
    "start_time": "2021-06-09T16:19:59.014Z"
   },
   {
    "duration": 40,
    "start_time": "2021-06-09T16:20:18.095Z"
   },
   {
    "duration": 35,
    "start_time": "2021-06-09T16:20:53.299Z"
   },
   {
    "duration": 123,
    "start_time": "2021-06-09T16:21:41.830Z"
   },
   {
    "duration": 34,
    "start_time": "2021-06-09T16:21:53.817Z"
   },
   {
    "duration": 59,
    "start_time": "2021-06-09T16:22:26.954Z"
   },
   {
    "duration": 57,
    "start_time": "2021-06-09T16:22:39.491Z"
   },
   {
    "duration": 122,
    "start_time": "2021-06-09T16:23:09.339Z"
   },
   {
    "duration": 31,
    "start_time": "2021-06-09T16:23:09.634Z"
   },
   {
    "duration": 15,
    "start_time": "2021-06-09T16:23:10.141Z"
   },
   {
    "duration": 57,
    "start_time": "2021-06-09T16:23:10.486Z"
   },
   {
    "duration": 43,
    "start_time": "2021-06-09T16:23:38.168Z"
   },
   {
    "duration": 34,
    "start_time": "2021-06-09T16:23:44.641Z"
   },
   {
    "duration": 64,
    "start_time": "2021-06-09T16:24:27.075Z"
   },
   {
    "duration": 50,
    "start_time": "2021-06-09T16:25:32.715Z"
   },
   {
    "duration": 63,
    "start_time": "2021-06-09T16:26:13.354Z"
   },
   {
    "duration": 87,
    "start_time": "2021-06-09T16:28:13.107Z"
   },
   {
    "duration": 83,
    "start_time": "2021-06-09T16:28:28.679Z"
   },
   {
    "duration": 130,
    "start_time": "2021-06-09T16:28:36.302Z"
   },
   {
    "duration": 29,
    "start_time": "2021-06-09T16:28:36.553Z"
   },
   {
    "duration": 14,
    "start_time": "2021-06-09T16:28:37.023Z"
   },
   {
    "duration": 90,
    "start_time": "2021-06-09T16:28:37.040Z"
   },
   {
    "duration": 77,
    "start_time": "2021-06-09T16:29:07.096Z"
   },
   {
    "duration": 80,
    "start_time": "2021-06-09T16:29:16.070Z"
   },
   {
    "duration": 100,
    "start_time": "2021-06-09T16:41:01.467Z"
   },
   {
    "duration": 69,
    "start_time": "2021-06-09T16:42:56.860Z"
   },
   {
    "duration": 65,
    "start_time": "2021-06-09T16:44:06.578Z"
   },
   {
    "duration": 82,
    "start_time": "2021-06-09T16:44:19.826Z"
   },
   {
    "duration": 341,
    "start_time": "2021-06-09T16:46:48.518Z"
   },
   {
    "duration": 332,
    "start_time": "2021-06-09T16:46:51.698Z"
   },
   {
    "duration": 339,
    "start_time": "2021-06-09T16:47:12.942Z"
   },
   {
    "duration": 51,
    "start_time": "2021-06-09T16:47:18.600Z"
   },
   {
    "duration": 51,
    "start_time": "2021-06-09T16:47:40.421Z"
   },
   {
    "duration": 59,
    "start_time": "2021-06-09T16:47:52.144Z"
   },
   {
    "duration": 72,
    "start_time": "2021-06-09T16:48:15.815Z"
   },
   {
    "duration": 64,
    "start_time": "2021-06-09T16:48:53.466Z"
   },
   {
    "duration": 59,
    "start_time": "2021-06-09T16:49:19.357Z"
   },
   {
    "duration": 51,
    "start_time": "2021-06-09T16:50:27.007Z"
   },
   {
    "duration": 336,
    "start_time": "2021-06-09T16:51:31.353Z"
   },
   {
    "duration": 63,
    "start_time": "2021-06-09T16:51:52.486Z"
   },
   {
    "duration": 66,
    "start_time": "2021-06-09T16:52:16.056Z"
   },
   {
    "duration": 58,
    "start_time": "2021-06-09T16:53:04.672Z"
   },
   {
    "duration": 1254,
    "start_time": "2021-06-09T16:53:11.866Z"
   },
   {
    "duration": 346,
    "start_time": "2021-06-09T16:53:25.976Z"
   },
   {
    "duration": 56,
    "start_time": "2021-06-09T16:53:33.385Z"
   },
   {
    "duration": 54,
    "start_time": "2021-06-09T16:53:48.409Z"
   },
   {
    "duration": 60,
    "start_time": "2021-06-09T16:53:59.089Z"
   },
   {
    "duration": 62,
    "start_time": "2021-06-09T16:54:16.844Z"
   },
   {
    "duration": 62,
    "start_time": "2021-06-09T16:55:29.188Z"
   },
   {
    "duration": 60,
    "start_time": "2021-06-09T16:56:27.569Z"
   },
   {
    "duration": 54,
    "start_time": "2021-06-09T16:57:46.052Z"
   },
   {
    "duration": 58,
    "start_time": "2021-06-09T16:58:05.801Z"
   },
   {
    "duration": 59,
    "start_time": "2021-06-09T16:58:36.043Z"
   },
   {
    "duration": 129,
    "start_time": "2021-06-09T16:58:41.144Z"
   },
   {
    "duration": 31,
    "start_time": "2021-06-09T16:58:41.415Z"
   },
   {
    "duration": 20,
    "start_time": "2021-06-09T16:58:41.894Z"
   },
   {
    "duration": 69,
    "start_time": "2021-06-09T16:58:42.364Z"
   },
   {
    "duration": 24,
    "start_time": "2021-06-09T17:01:38.128Z"
   },
   {
    "duration": 36,
    "start_time": "2021-06-09T17:02:23.542Z"
   },
   {
    "duration": 48,
    "start_time": "2021-06-09T17:03:59.734Z"
   },
   {
    "duration": 52,
    "start_time": "2021-06-09T17:04:45.009Z"
   },
   {
    "duration": 65,
    "start_time": "2021-06-09T17:05:03.564Z"
   },
   {
    "duration": 344,
    "start_time": "2021-06-09T17:05:18.503Z"
   },
   {
    "duration": 37,
    "start_time": "2021-06-09T17:05:27.291Z"
   },
   {
    "duration": 36,
    "start_time": "2021-06-09T17:06:40.709Z"
   },
   {
    "duration": 46,
    "start_time": "2021-06-09T17:07:25.289Z"
   },
   {
    "duration": 43,
    "start_time": "2021-06-09T17:08:05.399Z"
   },
   {
    "duration": 45,
    "start_time": "2021-06-09T17:09:39.004Z"
   },
   {
    "duration": 44,
    "start_time": "2021-06-09T17:09:54.675Z"
   },
   {
    "duration": 33,
    "start_time": "2021-06-09T17:11:43.031Z"
   },
   {
    "duration": 36,
    "start_time": "2021-06-09T17:12:08.216Z"
   },
   {
    "duration": 32,
    "start_time": "2021-06-09T17:12:27.035Z"
   },
   {
    "duration": 30,
    "start_time": "2021-06-09T17:13:16.743Z"
   },
   {
    "duration": 36,
    "start_time": "2021-06-09T17:13:22.943Z"
   },
   {
    "duration": 135,
    "start_time": "2021-06-09T17:14:43.817Z"
   },
   {
    "duration": 30,
    "start_time": "2021-06-09T17:14:44.455Z"
   },
   {
    "duration": 19,
    "start_time": "2021-06-09T17:14:44.898Z"
   },
   {
    "duration": 35,
    "start_time": "2021-06-09T17:14:45.406Z"
   },
   {
    "duration": 40,
    "start_time": "2021-06-09T17:17:02.939Z"
   },
   {
    "duration": 53,
    "start_time": "2021-06-09T17:18:01.747Z"
   },
   {
    "duration": 44,
    "start_time": "2021-06-09T17:18:32.671Z"
   },
   {
    "duration": 314,
    "start_time": "2021-06-10T03:42:52.915Z"
   },
   {
    "duration": 1388,
    "start_time": "2021-06-10T03:42:57.650Z"
   },
   {
    "duration": 37,
    "start_time": "2021-06-10T03:42:59.056Z"
   },
   {
    "duration": 16,
    "start_time": "2021-06-10T03:42:59.096Z"
   },
   {
    "duration": 99,
    "start_time": "2021-06-10T03:42:59.156Z"
   },
   {
    "duration": 352,
    "start_time": "2021-06-10T03:48:37.404Z"
   },
   {
    "duration": 431,
    "start_time": "2021-06-10T03:50:44.252Z"
   },
   {
    "duration": 662,
    "start_time": "2021-06-10T03:51:34.629Z"
   },
   {
    "duration": 1272,
    "start_time": "2021-06-10T03:51:47.740Z"
   },
   {
    "duration": 579,
    "start_time": "2021-06-10T03:52:01.093Z"
   },
   {
    "duration": 566,
    "start_time": "2021-06-10T03:52:16.036Z"
   },
   {
    "duration": 541,
    "start_time": "2021-06-10T03:52:22.622Z"
   },
   {
    "duration": 563,
    "start_time": "2021-06-10T03:52:33.428Z"
   },
   {
    "duration": 592,
    "start_time": "2021-06-10T03:52:44.291Z"
   },
   {
    "duration": 555,
    "start_time": "2021-06-10T03:52:51.924Z"
   },
   {
    "duration": 562,
    "start_time": "2021-06-10T03:53:05.517Z"
   },
   {
    "duration": 571,
    "start_time": "2021-06-10T03:53:14.058Z"
   },
   {
    "duration": 567,
    "start_time": "2021-06-10T03:53:20.947Z"
   },
   {
    "duration": 176,
    "start_time": "2021-06-10T03:56:12.570Z"
   },
   {
    "duration": 547,
    "start_time": "2021-06-10T03:58:42.674Z"
   },
   {
    "duration": 560,
    "start_time": "2021-06-10T03:58:57.266Z"
   },
   {
    "duration": 994,
    "start_time": "2021-06-10T03:59:14.658Z"
   },
   {
    "duration": 578,
    "start_time": "2021-06-10T04:01:26.978Z"
   },
   {
    "duration": 558,
    "start_time": "2021-06-10T04:01:41.016Z"
   },
   {
    "duration": 561,
    "start_time": "2021-06-10T04:02:15.505Z"
   },
   {
    "duration": 567,
    "start_time": "2021-06-10T04:03:32.489Z"
   },
   {
    "duration": 6546,
    "start_time": "2021-06-10T04:03:43.433Z"
   },
   {
    "duration": 599,
    "start_time": "2021-06-10T04:05:27.754Z"
   },
   {
    "duration": 323,
    "start_time": "2021-06-10T04:06:12.917Z"
   },
   {
    "duration": 344,
    "start_time": "2021-06-10T04:06:24.988Z"
   },
   {
    "duration": 333,
    "start_time": "2021-06-10T04:06:39.285Z"
   },
   {
    "duration": 1954,
    "start_time": "2021-06-10T04:06:51.560Z"
   },
   {
    "duration": 549,
    "start_time": "2021-06-10T04:07:38.800Z"
   },
   {
    "duration": 334,
    "start_time": "2021-06-10T04:07:46.561Z"
   },
   {
    "duration": 2047,
    "start_time": "2021-06-10T04:08:06.375Z"
   },
   {
    "duration": 567,
    "start_time": "2021-06-10T04:10:16.841Z"
   },
   {
    "duration": 568,
    "start_time": "2021-06-10T04:10:26.073Z"
   },
   {
    "duration": 556,
    "start_time": "2021-06-10T04:10:49.480Z"
   },
   {
    "duration": 343,
    "start_time": "2021-06-10T04:13:01.553Z"
   },
   {
    "duration": 577,
    "start_time": "2021-06-10T04:14:20.013Z"
   },
   {
    "duration": 368,
    "start_time": "2021-06-10T04:15:00.360Z"
   },
   {
    "duration": 359,
    "start_time": "2021-06-10T04:15:38.016Z"
   },
   {
    "duration": 626,
    "start_time": "2021-06-10T04:15:52.465Z"
   },
   {
    "duration": 581,
    "start_time": "2021-06-10T04:15:55.671Z"
   },
   {
    "duration": 336,
    "start_time": "2021-06-10T04:17:56.680Z"
   },
   {
    "duration": 348,
    "start_time": "2021-06-10T04:18:14.856Z"
   },
   {
    "duration": 699,
    "start_time": "2021-06-10T04:19:25.130Z"
   },
   {
    "duration": 369,
    "start_time": "2021-06-10T04:19:36.328Z"
   },
   {
    "duration": 658,
    "start_time": "2021-06-10T04:19:48.959Z"
   },
   {
    "duration": 565,
    "start_time": "2021-06-10T04:20:15.121Z"
   },
   {
    "duration": 340,
    "start_time": "2021-06-10T04:22:40.287Z"
   },
   {
    "duration": 338,
    "start_time": "2021-06-10T04:23:00.496Z"
   },
   {
    "duration": 374,
    "start_time": "2021-06-10T04:23:06.152Z"
   },
   {
    "duration": 261,
    "start_time": "2021-06-10T04:24:02.160Z"
   },
   {
    "duration": 429,
    "start_time": "2021-06-10T04:24:05.007Z"
   },
   {
    "duration": 923,
    "start_time": "2021-06-10T04:24:27.400Z"
   },
   {
    "duration": 361,
    "start_time": "2021-06-10T04:24:50.161Z"
   },
   {
    "duration": 361,
    "start_time": "2021-06-10T04:25:52.595Z"
   },
   {
    "duration": 377,
    "start_time": "2021-06-10T04:26:33.049Z"
   },
   {
    "duration": 335,
    "start_time": "2021-06-10T04:26:53.529Z"
   },
   {
    "duration": 343,
    "start_time": "2021-06-10T04:27:28.839Z"
   },
   {
    "duration": 622,
    "start_time": "2021-06-10T04:27:54.521Z"
   },
   {
    "duration": 362,
    "start_time": "2021-06-10T04:28:25.152Z"
   },
   {
    "duration": 340,
    "start_time": "2021-06-10T04:33:07.975Z"
   },
   {
    "duration": 341,
    "start_time": "2021-06-10T04:33:32.780Z"
   },
   {
    "duration": 339,
    "start_time": "2021-06-10T04:33:52.384Z"
   },
   {
    "duration": 579,
    "start_time": "2021-06-10T04:34:32.595Z"
   },
   {
    "duration": 530,
    "start_time": "2021-06-10T04:35:05.223Z"
   },
   {
    "duration": 497,
    "start_time": "2021-06-10T04:35:12.632Z"
   },
   {
    "duration": 527,
    "start_time": "2021-06-10T04:35:59.198Z"
   },
   {
    "duration": 393,
    "start_time": "2021-06-10T04:36:11.543Z"
   },
   {
    "duration": 652,
    "start_time": "2021-06-10T04:36:30.520Z"
   },
   {
    "duration": 96,
    "start_time": "2021-06-10T04:36:46.567Z"
   },
   {
    "duration": 102,
    "start_time": "2021-06-10T04:36:52.815Z"
   },
   {
    "duration": 341,
    "start_time": "2021-06-10T04:37:04.054Z"
   },
   {
    "duration": 306,
    "start_time": "2021-06-10T04:38:41.742Z"
   },
   {
    "duration": 23,
    "start_time": "2021-06-10T04:38:45.343Z"
   },
   {
    "duration": 21,
    "start_time": "2021-06-10T04:39:13.622Z"
   },
   {
    "duration": 35,
    "start_time": "2021-06-10T04:39:47.934Z"
   },
   {
    "duration": 30,
    "start_time": "2021-06-10T04:51:31.092Z"
   },
   {
    "duration": 1348,
    "start_time": "2021-06-10T04:52:36.775Z"
   },
   {
    "duration": 55,
    "start_time": "2021-06-10T04:52:38.126Z"
   },
   {
    "duration": 14,
    "start_time": "2021-06-10T04:52:38.184Z"
   },
   {
    "duration": 73,
    "start_time": "2021-06-10T04:52:38.201Z"
   },
   {
    "duration": 17,
    "start_time": "2021-06-10T04:52:38.276Z"
   },
   {
    "duration": 21,
    "start_time": "2021-06-10T04:52:38.296Z"
   },
   {
    "duration": 54,
    "start_time": "2021-06-10T04:52:38.319Z"
   },
   {
    "duration": 580,
    "start_time": "2021-06-10T04:52:38.377Z"
   },
   {
    "duration": 417,
    "start_time": "2021-06-10T04:52:38.960Z"
   },
   {
    "duration": 452,
    "start_time": "2021-06-10T04:52:39.379Z"
   },
   {
    "duration": 455,
    "start_time": "2021-06-10T04:52:39.833Z"
   },
   {
    "duration": 426,
    "start_time": "2021-06-10T04:52:40.291Z"
   },
   {
    "duration": 493,
    "start_time": "2021-06-10T04:52:40.720Z"
   },
   {
    "duration": 756,
    "start_time": "2021-06-10T04:52:41.215Z"
   },
   {
    "duration": 555,
    "start_time": "2021-06-10T04:52:41.974Z"
   },
   {
    "duration": 429,
    "start_time": "2021-06-10T04:52:42.532Z"
   },
   {
    "duration": 58,
    "start_time": "2021-06-10T04:52:42.964Z"
   },
   {
    "duration": 70,
    "start_time": "2021-06-10T04:52:43.024Z"
   },
   {
    "duration": 13,
    "start_time": "2021-06-10T04:52:43.096Z"
   },
   {
    "duration": 52,
    "start_time": "2021-06-10T04:52:43.111Z"
   },
   {
    "duration": 26,
    "start_time": "2021-06-10T04:52:43.166Z"
   },
   {
    "duration": 65,
    "start_time": "2021-06-10T04:52:43.195Z"
   },
   {
    "duration": 587,
    "start_time": "2021-06-10T04:56:57.157Z"
   },
   {
    "duration": 6860,
    "start_time": "2021-06-10T05:13:30.556Z"
   },
   {
    "duration": 120,
    "start_time": "2021-06-10T05:13:43.253Z"
   },
   {
    "duration": 30,
    "start_time": "2021-06-10T05:13:43.845Z"
   },
   {
    "duration": 18,
    "start_time": "2021-06-10T05:13:44.388Z"
   },
   {
    "duration": 30,
    "start_time": "2021-06-10T05:13:45.796Z"
   },
   {
    "duration": 18,
    "start_time": "2021-06-10T05:13:48.106Z"
   },
   {
    "duration": 20,
    "start_time": "2021-06-10T05:13:48.740Z"
   },
   {
    "duration": 33,
    "start_time": "2021-06-10T05:13:50.277Z"
   },
   {
    "duration": 21,
    "start_time": "2021-06-10T05:15:32.525Z"
   },
   {
    "duration": 526,
    "start_time": "2021-06-10T05:17:25.609Z"
   },
   {
    "duration": 395,
    "start_time": "2021-06-10T05:19:25.996Z"
   },
   {
    "duration": 468,
    "start_time": "2021-06-10T05:19:44.611Z"
   },
   {
    "duration": 427,
    "start_time": "2021-06-10T05:20:03.588Z"
   },
   {
    "duration": 394,
    "start_time": "2021-06-10T05:20:25.906Z"
   },
   {
    "duration": 392,
    "start_time": "2021-06-10T05:22:01.394Z"
   },
   {
    "duration": 388,
    "start_time": "2021-06-10T05:22:14.737Z"
   },
   {
    "duration": 378,
    "start_time": "2021-06-10T05:22:38.219Z"
   },
   {
    "duration": 145,
    "start_time": "2021-06-10T05:22:44.891Z"
   },
   {
    "duration": 396,
    "start_time": "2021-06-10T05:22:49.788Z"
   },
   {
    "duration": 398,
    "start_time": "2021-06-10T05:23:12.034Z"
   },
   {
    "duration": 470,
    "start_time": "2021-06-10T05:23:50.804Z"
   },
   {
    "duration": 498,
    "start_time": "2021-06-10T05:24:52.819Z"
   },
   {
    "duration": 741,
    "start_time": "2021-06-10T05:25:27.308Z"
   },
   {
    "duration": 453,
    "start_time": "2021-06-10T05:27:27.083Z"
   },
   {
    "duration": 480,
    "start_time": "2021-06-10T05:27:55.955Z"
   },
   {
    "duration": 537,
    "start_time": "2021-06-10T05:28:59.443Z"
   },
   {
    "duration": 447,
    "start_time": "2021-06-10T05:29:18.084Z"
   },
   {
    "duration": 445,
    "start_time": "2021-06-10T05:30:09.651Z"
   },
   {
    "duration": 416,
    "start_time": "2021-06-10T05:32:41.623Z"
   },
   {
    "duration": 494,
    "start_time": "2021-06-10T05:34:00.346Z"
   },
   {
    "duration": 451,
    "start_time": "2021-06-10T05:34:49.306Z"
   },
   {
    "duration": 448,
    "start_time": "2021-06-10T05:34:58.771Z"
   },
   {
    "duration": 426,
    "start_time": "2021-06-10T05:35:11.378Z"
   },
   {
    "duration": 566,
    "start_time": "2021-06-10T05:35:37.379Z"
   },
   {
    "duration": 464,
    "start_time": "2021-06-10T05:36:43.290Z"
   },
   {
    "duration": 520,
    "start_time": "2021-06-10T05:36:59.746Z"
   },
   {
    "duration": 510,
    "start_time": "2021-06-10T05:37:24.444Z"
   },
   {
    "duration": 485,
    "start_time": "2021-06-10T05:37:37.858Z"
   },
   {
    "duration": 500,
    "start_time": "2021-06-10T05:37:46.450Z"
   },
   {
    "duration": 511,
    "start_time": "2021-06-10T05:41:59.626Z"
   },
   {
    "duration": 474,
    "start_time": "2021-06-10T05:44:46.360Z"
   },
   {
    "duration": 470,
    "start_time": "2021-06-10T05:45:12.961Z"
   },
   {
    "duration": 484,
    "start_time": "2021-06-10T05:45:18.441Z"
   },
   {
    "duration": 468,
    "start_time": "2021-06-10T05:45:42.401Z"
   },
   {
    "duration": 90,
    "start_time": "2021-06-10T05:46:01.154Z"
   },
   {
    "duration": 565,
    "start_time": "2021-06-10T05:46:06.537Z"
   },
   {
    "duration": 441,
    "start_time": "2021-06-10T05:46:20.705Z"
   },
   {
    "duration": 455,
    "start_time": "2021-06-10T05:46:30.858Z"
   },
   {
    "duration": 451,
    "start_time": "2021-06-10T05:47:24.090Z"
   },
   {
    "duration": 446,
    "start_time": "2021-06-10T05:48:12.074Z"
   },
   {
    "duration": 535,
    "start_time": "2021-06-10T05:48:46.394Z"
   },
   {
    "duration": 457,
    "start_time": "2021-06-10T05:50:01.778Z"
   },
   {
    "duration": 475,
    "start_time": "2021-06-10T05:50:07.608Z"
   },
   {
    "duration": 509,
    "start_time": "2021-06-10T05:50:29.289Z"
   },
   {
    "duration": 456,
    "start_time": "2021-06-10T05:50:37.569Z"
   },
   {
    "duration": 472,
    "start_time": "2021-06-10T05:50:50.153Z"
   },
   {
    "duration": 517,
    "start_time": "2021-06-10T05:50:55.920Z"
   },
   {
    "duration": 565,
    "start_time": "2021-06-10T05:52:35.377Z"
   },
   {
    "duration": 533,
    "start_time": "2021-06-10T05:53:02.410Z"
   },
   {
    "duration": 414,
    "start_time": "2021-06-10T05:53:12.128Z"
   },
   {
    "duration": 486,
    "start_time": "2021-06-10T05:53:18.481Z"
   },
   {
    "duration": 384,
    "start_time": "2021-06-10T05:53:24.736Z"
   },
   {
    "duration": 395,
    "start_time": "2021-06-10T05:53:34.921Z"
   },
   {
    "duration": 491,
    "start_time": "2021-06-10T05:54:03.097Z"
   },
   {
    "duration": 507,
    "start_time": "2021-06-10T05:54:14.250Z"
   },
   {
    "duration": 579,
    "start_time": "2021-06-10T05:54:26.033Z"
   },
   {
    "duration": 531,
    "start_time": "2021-06-10T05:54:35.679Z"
   },
   {
    "duration": 570,
    "start_time": "2021-06-10T05:54:47.872Z"
   },
   {
    "duration": 607,
    "start_time": "2021-06-10T05:55:17.610Z"
   },
   {
    "duration": 592,
    "start_time": "2021-06-10T05:55:33.043Z"
   },
   {
    "duration": 527,
    "start_time": "2021-06-10T05:55:44.801Z"
   },
   {
    "duration": 528,
    "start_time": "2021-06-10T05:55:53.097Z"
   },
   {
    "duration": 603,
    "start_time": "2021-06-10T05:57:13.636Z"
   },
   {
    "duration": 694,
    "start_time": "2021-06-10T05:57:36.850Z"
   },
   {
    "duration": 587,
    "start_time": "2021-06-10T05:57:45.673Z"
   },
   {
    "duration": 48,
    "start_time": "2021-06-10T06:02:16.058Z"
   },
   {
    "duration": 108,
    "start_time": "2021-06-10T06:04:43.633Z"
   },
   {
    "duration": 112,
    "start_time": "2021-06-10T06:05:07.725Z"
   },
   {
    "duration": 107,
    "start_time": "2021-06-10T06:05:52.616Z"
   },
   {
    "duration": 129,
    "start_time": "2021-06-10T06:07:03.560Z"
   },
   {
    "duration": 132,
    "start_time": "2021-06-10T06:07:38.048Z"
   },
   {
    "duration": 49,
    "start_time": "2021-06-10T06:07:53.239Z"
   },
   {
    "duration": 52,
    "start_time": "2021-06-10T06:12:23.344Z"
   },
   {
    "duration": 39,
    "start_time": "2021-06-10T06:13:23.672Z"
   },
   {
    "duration": 29,
    "start_time": "2021-06-10T06:13:45.615Z"
   },
   {
    "duration": 29,
    "start_time": "2021-06-10T06:14:01.721Z"
   },
   {
    "duration": 14,
    "start_time": "2021-06-10T06:15:33.199Z"
   },
   {
    "duration": 27,
    "start_time": "2021-06-10T06:15:46.846Z"
   },
   {
    "duration": 27,
    "start_time": "2021-06-10T06:28:19.588Z"
   },
   {
    "duration": 44,
    "start_time": "2021-06-10T06:29:11.447Z"
   },
   {
    "duration": 31,
    "start_time": "2021-06-10T06:37:46.936Z"
   },
   {
    "duration": 46,
    "start_time": "2021-06-10T06:43:10.585Z"
   },
   {
    "duration": 28,
    "start_time": "2021-06-10T07:14:40.497Z"
   },
   {
    "duration": 27,
    "start_time": "2021-06-10T07:15:29.651Z"
   },
   {
    "duration": 662,
    "start_time": "2021-06-10T07:18:03.214Z"
   },
   {
    "duration": 588,
    "start_time": "2021-06-10T07:18:14.883Z"
   },
   {
    "duration": 600,
    "start_time": "2021-06-10T07:18:28.274Z"
   },
   {
    "duration": 743,
    "start_time": "2021-06-10T07:18:35.170Z"
   },
   {
    "duration": 593,
    "start_time": "2021-06-10T07:18:42.373Z"
   },
   {
    "duration": 727,
    "start_time": "2021-06-10T07:19:01.554Z"
   },
   {
    "duration": 427,
    "start_time": "2021-06-10T07:20:36.483Z"
   },
   {
    "duration": 413,
    "start_time": "2021-06-10T07:20:51.803Z"
   },
   {
    "duration": 422,
    "start_time": "2021-06-10T07:21:09.449Z"
   },
   {
    "duration": 417,
    "start_time": "2021-06-10T07:21:27.394Z"
   },
   {
    "duration": 424,
    "start_time": "2021-06-10T07:21:35.947Z"
   },
   {
    "duration": 1426,
    "start_time": "2021-06-10T07:23:15.606Z"
   },
   {
    "duration": 50,
    "start_time": "2021-06-10T07:23:17.035Z"
   },
   {
    "duration": 13,
    "start_time": "2021-06-10T07:23:17.088Z"
   },
   {
    "duration": 67,
    "start_time": "2021-06-10T07:23:17.104Z"
   },
   {
    "duration": 20,
    "start_time": "2021-06-10T07:23:17.173Z"
   },
   {
    "duration": 24,
    "start_time": "2021-06-10T07:23:17.195Z"
   },
   {
    "duration": 53,
    "start_time": "2021-06-10T07:23:17.222Z"
   },
   {
    "duration": 589,
    "start_time": "2021-06-10T07:23:17.279Z"
   },
   {
    "duration": 460,
    "start_time": "2021-06-10T07:23:17.871Z"
   },
   {
    "duration": 425,
    "start_time": "2021-06-10T07:23:18.333Z"
   },
   {
    "duration": 505,
    "start_time": "2021-06-10T07:23:18.761Z"
   },
   {
    "duration": 453,
    "start_time": "2021-06-10T07:23:19.270Z"
   },
   {
    "duration": 545,
    "start_time": "2021-06-10T07:23:19.725Z"
   },
   {
    "duration": 493,
    "start_time": "2021-06-10T07:23:20.273Z"
   },
   {
    "duration": 611,
    "start_time": "2021-06-10T07:23:20.769Z"
   },
   {
    "duration": 125,
    "start_time": "2021-06-10T07:23:21.382Z"
   },
   {
    "duration": 147,
    "start_time": "2021-06-10T07:23:21.510Z"
   },
   {
    "duration": 150,
    "start_time": "2021-06-10T07:23:21.660Z"
   },
   {
    "duration": 139,
    "start_time": "2021-06-10T07:23:21.812Z"
   },
   {
    "duration": 49,
    "start_time": "2021-06-10T07:23:21.953Z"
   },
   {
    "duration": 58,
    "start_time": "2021-06-10T07:23:22.005Z"
   },
   {
    "duration": 16,
    "start_time": "2021-06-10T07:23:22.066Z"
   },
   {
    "duration": 24,
    "start_time": "2021-06-10T07:23:22.086Z"
   },
   {
    "duration": 69,
    "start_time": "2021-06-10T07:23:22.112Z"
   },
   {
    "duration": 20,
    "start_time": "2021-06-10T07:23:22.184Z"
   },
   {
    "duration": 737,
    "start_time": "2021-06-10T07:24:41.528Z"
   },
   {
    "duration": 414,
    "start_time": "2021-06-10T07:24:58.416Z"
   },
   {
    "duration": 1425,
    "start_time": "2021-06-10T07:25:10.918Z"
   },
   {
    "duration": 37,
    "start_time": "2021-06-10T07:25:12.354Z"
   },
   {
    "duration": 66,
    "start_time": "2021-06-10T07:25:12.395Z"
   },
   {
    "duration": 38,
    "start_time": "2021-06-10T07:25:12.465Z"
   },
   {
    "duration": 64,
    "start_time": "2021-06-10T07:25:12.506Z"
   },
   {
    "duration": 19,
    "start_time": "2021-06-10T07:25:12.572Z"
   },
   {
    "duration": 28,
    "start_time": "2021-06-10T07:25:12.593Z"
   },
   {
    "duration": 602,
    "start_time": "2021-06-10T07:25:12.625Z"
   },
   {
    "duration": 443,
    "start_time": "2021-06-10T07:25:13.230Z"
   },
   {
    "duration": 434,
    "start_time": "2021-06-10T07:25:13.676Z"
   },
   {
    "duration": 536,
    "start_time": "2021-06-10T07:25:14.112Z"
   },
   {
    "duration": 450,
    "start_time": "2021-06-10T07:25:14.650Z"
   },
   {
    "duration": 559,
    "start_time": "2021-06-10T07:25:15.103Z"
   },
   {
    "duration": 602,
    "start_time": "2021-06-10T07:25:15.667Z"
   },
   {
    "duration": 615,
    "start_time": "2021-06-10T07:25:16.272Z"
   },
   {
    "duration": 138,
    "start_time": "2021-06-10T07:25:16.890Z"
   },
   {
    "duration": 146,
    "start_time": "2021-06-10T07:25:17.032Z"
   },
   {
    "duration": 150,
    "start_time": "2021-06-10T07:25:17.182Z"
   },
   {
    "duration": 154,
    "start_time": "2021-06-10T07:25:17.335Z"
   },
   {
    "duration": 72,
    "start_time": "2021-06-10T07:25:17.491Z"
   },
   {
    "duration": 29,
    "start_time": "2021-06-10T07:25:17.566Z"
   },
   {
    "duration": 16,
    "start_time": "2021-06-10T07:25:17.597Z"
   },
   {
    "duration": 20,
    "start_time": "2021-06-10T07:25:17.656Z"
   },
   {
    "duration": 34,
    "start_time": "2021-06-10T07:25:17.679Z"
   },
   {
    "duration": 24,
    "start_time": "2021-06-10T07:25:17.755Z"
   },
   {
    "duration": 648,
    "start_time": "2021-06-10T07:25:42.227Z"
   },
   {
    "duration": 27,
    "start_time": "2021-06-10T09:21:48.947Z"
   },
   {
    "duration": 1625,
    "start_time": "2021-06-10T09:49:18.296Z"
   },
   {
    "duration": 65,
    "start_time": "2021-06-10T09:49:19.923Z"
   },
   {
    "duration": 15,
    "start_time": "2021-06-10T09:49:19.995Z"
   },
   {
    "duration": 78,
    "start_time": "2021-06-10T09:49:20.013Z"
   },
   {
    "duration": 23,
    "start_time": "2021-06-10T09:49:20.093Z"
   },
   {
    "duration": 75,
    "start_time": "2021-06-10T09:49:20.119Z"
   },
   {
    "duration": 24,
    "start_time": "2021-06-10T09:49:20.199Z"
   },
   {
    "duration": 614,
    "start_time": "2021-06-10T09:49:20.254Z"
   },
   {
    "duration": 503,
    "start_time": "2021-06-10T09:49:20.871Z"
   },
   {
    "duration": 474,
    "start_time": "2021-06-10T09:49:21.377Z"
   },
   {
    "duration": 763,
    "start_time": "2021-06-10T09:49:21.854Z"
   },
   {
    "duration": 494,
    "start_time": "2021-06-10T09:49:22.620Z"
   },
   {
    "duration": 685,
    "start_time": "2021-06-10T09:49:23.116Z"
   },
   {
    "duration": 578,
    "start_time": "2021-06-10T09:49:23.804Z"
   },
   {
    "duration": 651,
    "start_time": "2021-06-10T09:49:24.385Z"
   },
   {
    "duration": 159,
    "start_time": "2021-06-10T09:49:25.038Z"
   },
   {
    "duration": 178,
    "start_time": "2021-06-10T09:49:25.199Z"
   },
   {
    "duration": 168,
    "start_time": "2021-06-10T09:49:25.380Z"
   },
   {
    "duration": 186,
    "start_time": "2021-06-10T09:49:25.559Z"
   },
   {
    "duration": 66,
    "start_time": "2021-06-10T09:49:25.755Z"
   },
   {
    "duration": 63,
    "start_time": "2021-06-10T09:49:25.823Z"
   },
   {
    "duration": 18,
    "start_time": "2021-06-10T09:49:25.890Z"
   },
   {
    "duration": 81,
    "start_time": "2021-06-10T09:49:25.912Z"
   },
   {
    "duration": 58,
    "start_time": "2021-06-10T09:49:25.996Z"
   },
   {
    "duration": 30,
    "start_time": "2021-06-10T09:49:26.058Z"
   },
   {
    "duration": 115,
    "start_time": "2021-06-10T10:06:58.130Z"
   },
   {
    "duration": 33,
    "start_time": "2021-06-10T10:06:58.528Z"
   },
   {
    "duration": 16,
    "start_time": "2021-06-10T10:06:59.670Z"
   },
   {
    "duration": 506,
    "start_time": "2021-06-10T10:07:03.568Z"
   },
   {
    "duration": 354,
    "start_time": "2021-06-10T10:07:13.090Z"
   },
   {
    "duration": 373,
    "start_time": "2021-06-10T10:07:38.111Z"
   },
   {
    "duration": 459,
    "start_time": "2021-06-10T10:08:49.313Z"
   },
   {
    "duration": 361,
    "start_time": "2021-06-10T10:09:02.690Z"
   },
   {
    "duration": 6538,
    "start_time": "2021-06-10T10:12:21.537Z"
   },
   {
    "duration": 642,
    "start_time": "2021-06-10T10:12:39.321Z"
   },
   {
    "duration": 626,
    "start_time": "2021-06-10T10:12:45.944Z"
   },
   {
    "duration": 7073,
    "start_time": "2021-06-10T10:12:54.963Z"
   },
   {
    "duration": 7282,
    "start_time": "2021-06-10T10:13:13.295Z"
   },
   {
    "duration": 683,
    "start_time": "2021-06-10T10:13:30.553Z"
   },
   {
    "duration": 616,
    "start_time": "2021-06-10T10:13:39.378Z"
   },
   {
    "duration": 671,
    "start_time": "2021-06-10T10:13:51.511Z"
   },
   {
    "duration": 7940,
    "start_time": "2021-06-10T10:13:59.042Z"
   },
   {
    "duration": 6772,
    "start_time": "2021-06-10T10:14:13.170Z"
   },
   {
    "duration": 646,
    "start_time": "2021-06-10T10:14:32.426Z"
   },
   {
    "duration": 635,
    "start_time": "2021-06-10T10:15:18.362Z"
   },
   {
    "duration": 1344,
    "start_time": "2021-06-10T10:15:32.200Z"
   },
   {
    "duration": 1916,
    "start_time": "2021-06-10T10:15:39.465Z"
   },
   {
    "duration": 1440,
    "start_time": "2021-06-10T10:15:51.025Z"
   },
   {
    "duration": 1359,
    "start_time": "2021-06-10T10:16:09.152Z"
   },
   {
    "duration": 648,
    "start_time": "2021-06-10T10:16:15.280Z"
   },
   {
    "duration": 629,
    "start_time": "2021-06-10T10:16:23.661Z"
   },
   {
    "duration": 1414,
    "start_time": "2021-06-10T10:16:33.257Z"
   },
   {
    "duration": 1544,
    "start_time": "2021-06-10T10:16:41.562Z"
   },
   {
    "duration": 621,
    "start_time": "2021-06-10T10:17:06.712Z"
   },
   {
    "duration": 644,
    "start_time": "2021-06-10T10:17:19.016Z"
   },
   {
    "duration": 724,
    "start_time": "2021-06-10T10:17:28.052Z"
   },
   {
    "duration": 668,
    "start_time": "2021-06-10T10:17:33.815Z"
   },
   {
    "duration": 619,
    "start_time": "2021-06-10T10:17:56.551Z"
   },
   {
    "duration": 1411,
    "start_time": "2021-06-10T10:18:16.956Z"
   },
   {
    "duration": 1379,
    "start_time": "2021-06-10T10:18:30.050Z"
   },
   {
    "duration": 1337,
    "start_time": "2021-06-10T10:18:37.969Z"
   },
   {
    "duration": 1383,
    "start_time": "2021-06-10T10:18:58.199Z"
   },
   {
    "duration": 638,
    "start_time": "2021-06-10T10:19:08.259Z"
   },
   {
    "duration": 631,
    "start_time": "2021-06-10T10:19:17.017Z"
   },
   {
    "duration": 1486,
    "start_time": "2021-06-10T10:19:26.961Z"
   },
   {
    "duration": 264,
    "start_time": "2021-06-10T11:02:26.458Z"
   },
   {
    "duration": 123,
    "start_time": "2021-06-10T11:02:31.348Z"
   },
   {
    "duration": 40,
    "start_time": "2021-06-10T11:02:31.851Z"
   },
   {
    "duration": 14,
    "start_time": "2021-06-10T11:02:32.329Z"
   },
   {
    "duration": 302,
    "start_time": "2021-06-10T11:02:33.445Z"
   },
   {
    "duration": 47,
    "start_time": "2021-06-10T11:02:59.594Z"
   },
   {
    "duration": 1462,
    "start_time": "2021-06-10T11:24:42.777Z"
   },
   {
    "duration": 43,
    "start_time": "2021-06-10T11:24:44.242Z"
   },
   {
    "duration": 15,
    "start_time": "2021-06-10T11:24:44.289Z"
   },
   {
    "duration": 78,
    "start_time": "2021-06-10T11:24:44.307Z"
   },
   {
    "duration": 25,
    "start_time": "2021-06-10T11:24:44.388Z"
   },
   {
    "duration": 59,
    "start_time": "2021-06-10T11:24:44.416Z"
   },
   {
    "duration": 43,
    "start_time": "2021-06-10T11:24:44.478Z"
   },
   {
    "duration": 617,
    "start_time": "2021-06-10T11:24:44.524Z"
   },
   {
    "duration": 478,
    "start_time": "2021-06-10T11:24:45.144Z"
   },
   {
    "duration": 451,
    "start_time": "2021-06-10T11:24:45.624Z"
   },
   {
    "duration": 490,
    "start_time": "2021-06-10T11:24:46.078Z"
   },
   {
    "duration": 469,
    "start_time": "2021-06-10T11:24:46.571Z"
   },
   {
    "duration": 516,
    "start_time": "2021-06-10T11:24:47.055Z"
   },
   {
    "duration": 619,
    "start_time": "2021-06-10T11:24:47.574Z"
   },
   {
    "duration": 619,
    "start_time": "2021-06-10T11:24:48.196Z"
   },
   {
    "duration": 138,
    "start_time": "2021-06-10T11:24:48.818Z"
   },
   {
    "duration": 138,
    "start_time": "2021-06-10T11:24:48.960Z"
   },
   {
    "duration": 171,
    "start_time": "2021-06-10T11:24:49.100Z"
   },
   {
    "duration": 155,
    "start_time": "2021-06-10T11:24:49.274Z"
   },
   {
    "duration": 68,
    "start_time": "2021-06-10T11:24:49.432Z"
   },
   {
    "duration": 56,
    "start_time": "2021-06-10T11:24:49.503Z"
   },
   {
    "duration": 25,
    "start_time": "2021-06-10T11:24:49.563Z"
   },
   {
    "duration": 24,
    "start_time": "2021-06-10T11:24:49.590Z"
   },
   {
    "duration": 70,
    "start_time": "2021-06-10T11:24:49.616Z"
   },
   {
    "duration": 20,
    "start_time": "2021-06-10T11:24:49.689Z"
   },
   {
    "duration": 1883,
    "start_time": "2021-06-10T11:39:24.375Z"
   },
   {
    "duration": 71,
    "start_time": "2021-06-10T11:39:26.261Z"
   },
   {
    "duration": 17,
    "start_time": "2021-06-10T11:39:26.336Z"
   },
   {
    "duration": 33,
    "start_time": "2021-06-10T11:39:26.355Z"
   },
   {
    "duration": 55,
    "start_time": "2021-06-10T11:39:26.390Z"
   },
   {
    "duration": 19,
    "start_time": "2021-06-10T11:39:26.448Z"
   },
   {
    "duration": 21,
    "start_time": "2021-06-10T11:39:26.470Z"
   },
   {
    "duration": 582,
    "start_time": "2021-06-10T11:39:26.529Z"
   },
   {
    "duration": 599,
    "start_time": "2021-06-10T11:39:27.126Z"
   },
   {
    "duration": 581,
    "start_time": "2021-06-10T11:39:27.728Z"
   },
   {
    "duration": 494,
    "start_time": "2021-06-10T11:39:28.312Z"
   },
   {
    "duration": 449,
    "start_time": "2021-06-10T11:39:28.808Z"
   },
   {
    "duration": 507,
    "start_time": "2021-06-10T11:39:29.259Z"
   },
   {
    "duration": 528,
    "start_time": "2021-06-10T11:39:29.768Z"
   },
   {
    "duration": 636,
    "start_time": "2021-06-10T11:39:30.299Z"
   },
   {
    "duration": 123,
    "start_time": "2021-06-10T11:39:30.938Z"
   },
   {
    "duration": 134,
    "start_time": "2021-06-10T11:39:31.064Z"
   },
   {
    "duration": 152,
    "start_time": "2021-06-10T11:39:31.201Z"
   },
   {
    "duration": 140,
    "start_time": "2021-06-10T11:39:31.355Z"
   },
   {
    "duration": 66,
    "start_time": "2021-06-10T11:39:31.497Z"
   },
   {
    "duration": 49,
    "start_time": "2021-06-10T11:39:31.565Z"
   },
   {
    "duration": 17,
    "start_time": "2021-06-10T11:39:31.625Z"
   },
   {
    "duration": 23,
    "start_time": "2021-06-10T11:39:31.647Z"
   },
   {
    "duration": 62,
    "start_time": "2021-06-10T11:39:31.672Z"
   },
   {
    "duration": 19,
    "start_time": "2021-06-10T11:39:31.736Z"
   },
   {
    "duration": 8865,
    "start_time": "2021-06-10T12:23:03.988Z"
   },
   {
    "duration": 1508,
    "start_time": "2021-06-10T12:23:23.096Z"
   },
   {
    "duration": 58,
    "start_time": "2021-06-10T12:23:24.606Z"
   },
   {
    "duration": 13,
    "start_time": "2021-06-10T12:23:24.667Z"
   },
   {
    "duration": 69,
    "start_time": "2021-06-10T12:23:24.683Z"
   },
   {
    "duration": 18,
    "start_time": "2021-06-10T12:23:24.755Z"
   },
   {
    "duration": 19,
    "start_time": "2021-06-10T12:23:24.775Z"
   },
   {
    "duration": 50,
    "start_time": "2021-06-10T12:23:24.796Z"
   },
   {
    "duration": 578,
    "start_time": "2021-06-10T12:23:24.849Z"
   },
   {
    "duration": 455,
    "start_time": "2021-06-10T12:23:25.432Z"
   },
   {
    "duration": 447,
    "start_time": "2021-06-10T12:23:25.890Z"
   },
   {
    "duration": 502,
    "start_time": "2021-06-10T12:23:26.339Z"
   },
   {
    "duration": 465,
    "start_time": "2021-06-10T12:23:26.844Z"
   },
   {
    "duration": 558,
    "start_time": "2021-06-10T12:23:27.312Z"
   },
   {
    "duration": 541,
    "start_time": "2021-06-10T12:23:27.873Z"
   },
   {
    "duration": 646,
    "start_time": "2021-06-10T12:23:28.417Z"
   },
   {
    "duration": 125,
    "start_time": "2021-06-10T12:23:29.066Z"
   },
   {
    "duration": 136,
    "start_time": "2021-06-10T12:23:29.194Z"
   },
   {
    "duration": 142,
    "start_time": "2021-06-10T12:23:29.332Z"
   },
   {
    "duration": 154,
    "start_time": "2021-06-10T12:23:29.476Z"
   },
   {
    "duration": 58,
    "start_time": "2021-06-10T12:23:29.633Z"
   },
   {
    "duration": 59,
    "start_time": "2021-06-10T12:23:29.694Z"
   },
   {
    "duration": 20,
    "start_time": "2021-06-10T12:23:29.756Z"
   },
   {
    "duration": 53,
    "start_time": "2021-06-10T12:23:29.778Z"
   },
   {
    "duration": 38,
    "start_time": "2021-06-10T12:23:29.833Z"
   },
   {
    "duration": 24,
    "start_time": "2021-06-10T12:23:29.874Z"
   },
   {
    "duration": 425,
    "start_time": "2021-06-10T12:27:34.295Z"
   },
   {
    "duration": 1434,
    "start_time": "2021-06-11T04:15:18.553Z"
   },
   {
    "duration": 123,
    "start_time": "2021-06-11T04:15:19.989Z"
   },
   {
    "duration": 521,
    "start_time": "2021-06-11T04:15:20.558Z"
   },
   {
    "duration": 1738,
    "start_time": "2021-06-11T04:15:47.492Z"
   },
   {
    "duration": 5,
    "start_time": "2021-06-11T04:16:55.606Z"
   },
   {
    "duration": 107,
    "start_time": "2021-06-11T04:16:56.160Z"
   },
   {
    "duration": 30,
    "start_time": "2021-06-11T04:17:05.992Z"
   },
   {
    "duration": 42,
    "start_time": "2021-06-11T04:19:08.617Z"
   },
   {
    "duration": 393,
    "start_time": "2021-06-11T04:19:34.799Z"
   },
   {
    "duration": 39,
    "start_time": "2021-06-11T04:19:48.511Z"
   },
   {
    "duration": 5,
    "start_time": "2021-06-11T04:20:07.719Z"
   },
   {
    "duration": 110,
    "start_time": "2021-06-11T04:20:08.206Z"
   },
   {
    "duration": 31,
    "start_time": "2021-06-11T04:20:09.869Z"
   },
   {
    "duration": 14,
    "start_time": "2021-06-11T04:20:14.053Z"
   },
   {
    "duration": 35,
    "start_time": "2021-06-11T04:20:18.070Z"
   },
   {
    "duration": 37,
    "start_time": "2021-06-11T04:21:01.663Z"
   },
   {
    "duration": 5,
    "start_time": "2021-06-11T04:21:11.630Z"
   },
   {
    "duration": 116,
    "start_time": "2021-06-11T04:21:11.934Z"
   },
   {
    "duration": 35,
    "start_time": "2021-06-11T04:21:12.975Z"
   },
   {
    "duration": 15,
    "start_time": "2021-06-11T04:21:14.069Z"
   },
   {
    "duration": 43,
    "start_time": "2021-06-11T04:21:15.911Z"
   },
   {
    "duration": 22,
    "start_time": "2021-06-11T04:23:08.863Z"
   },
   {
    "duration": 20,
    "start_time": "2021-06-11T04:23:13.014Z"
   },
   {
    "duration": 20,
    "start_time": "2021-06-11T04:25:57.323Z"
   },
   {
    "duration": 20,
    "start_time": "2021-06-11T04:28:08.270Z"
   },
   {
    "duration": 17,
    "start_time": "2021-06-11T04:31:21.721Z"
   },
   {
    "duration": 14,
    "start_time": "2021-06-11T04:32:44.221Z"
   },
   {
    "duration": 1342,
    "start_time": "2021-06-11T05:38:11.038Z"
   },
   {
    "duration": 110,
    "start_time": "2021-06-11T05:38:12.382Z"
   },
   {
    "duration": 40,
    "start_time": "2021-06-11T05:38:12.495Z"
   },
   {
    "duration": 11,
    "start_time": "2021-06-11T05:38:12.538Z"
   },
   {
    "duration": 77,
    "start_time": "2021-06-11T05:38:12.552Z"
   },
   {
    "duration": 18,
    "start_time": "2021-06-11T05:38:12.631Z"
   },
   {
    "duration": 21,
    "start_time": "2021-06-11T05:38:12.651Z"
   },
   {
    "duration": 20,
    "start_time": "2021-06-11T05:38:12.708Z"
   },
   {
    "duration": 578,
    "start_time": "2021-06-11T05:38:12.731Z"
   },
   {
    "duration": 435,
    "start_time": "2021-06-11T05:38:13.312Z"
   },
   {
    "duration": 472,
    "start_time": "2021-06-11T05:38:13.750Z"
   },
   {
    "duration": 474,
    "start_time": "2021-06-11T05:38:14.224Z"
   },
   {
    "duration": 422,
    "start_time": "2021-06-11T05:38:14.700Z"
   },
   {
    "duration": 489,
    "start_time": "2021-06-11T05:38:15.124Z"
   },
   {
    "duration": 482,
    "start_time": "2021-06-11T05:38:15.616Z"
   },
   {
    "duration": 615,
    "start_time": "2021-06-11T05:38:16.100Z"
   },
   {
    "duration": 16,
    "start_time": "2021-06-11T05:38:16.717Z"
   },
   {
    "duration": 136,
    "start_time": "2021-06-11T05:38:16.735Z"
   },
   {
    "duration": 140,
    "start_time": "2021-06-11T05:38:16.873Z"
   },
   {
    "duration": 139,
    "start_time": "2021-06-11T05:38:17.015Z"
   },
   {
    "duration": 179,
    "start_time": "2021-06-11T05:38:17.157Z"
   },
   {
    "duration": 79,
    "start_time": "2021-06-11T05:38:17.339Z"
   },
   {
    "duration": 34,
    "start_time": "2021-06-11T05:38:17.425Z"
   },
   {
    "duration": 61,
    "start_time": "2021-06-11T05:38:17.463Z"
   },
   {
    "duration": 21,
    "start_time": "2021-06-11T05:38:17.528Z"
   },
   {
    "duration": 85,
    "start_time": "2021-06-11T05:38:17.552Z"
   },
   {
    "duration": 24,
    "start_time": "2021-06-11T05:38:17.640Z"
   },
   {
    "duration": 1378,
    "start_time": "2021-06-11T05:46:22.397Z"
   },
   {
    "duration": 112,
    "start_time": "2021-06-11T05:46:23.778Z"
   },
   {
    "duration": 45,
    "start_time": "2021-06-11T05:46:23.892Z"
   },
   {
    "duration": 21,
    "start_time": "2021-06-11T05:46:23.940Z"
   },
   {
    "duration": 70,
    "start_time": "2021-06-11T05:46:23.963Z"
   },
   {
    "duration": 19,
    "start_time": "2021-06-11T05:46:24.035Z"
   },
   {
    "duration": 61,
    "start_time": "2021-06-11T05:46:24.057Z"
   },
   {
    "duration": 23,
    "start_time": "2021-06-11T05:46:24.122Z"
   },
   {
    "duration": 607,
    "start_time": "2021-06-11T05:46:24.148Z"
   },
   {
    "duration": 438,
    "start_time": "2021-06-11T05:46:24.757Z"
   },
   {
    "duration": 513,
    "start_time": "2021-06-11T05:46:25.197Z"
   },
   {
    "duration": 606,
    "start_time": "2021-06-11T05:46:25.712Z"
   },
   {
    "duration": 574,
    "start_time": "2021-06-11T05:46:26.321Z"
   },
   {
    "duration": 572,
    "start_time": "2021-06-11T05:46:26.908Z"
   },
   {
    "duration": 507,
    "start_time": "2021-06-11T05:46:27.483Z"
   },
   {
    "duration": 618,
    "start_time": "2021-06-11T05:46:27.993Z"
   },
   {
    "duration": 14,
    "start_time": "2021-06-11T05:46:28.614Z"
   },
   {
    "duration": 134,
    "start_time": "2021-06-11T05:46:28.631Z"
   },
   {
    "duration": 143,
    "start_time": "2021-06-11T05:46:28.768Z"
   },
   {
    "duration": 141,
    "start_time": "2021-06-11T05:46:28.913Z"
   },
   {
    "duration": 156,
    "start_time": "2021-06-11T05:46:29.056Z"
   },
   {
    "duration": 51,
    "start_time": "2021-06-11T05:46:29.214Z"
   },
   {
    "duration": 62,
    "start_time": "2021-06-11T05:46:29.270Z"
   },
   {
    "duration": 19,
    "start_time": "2021-06-11T05:46:29.334Z"
   },
   {
    "duration": 57,
    "start_time": "2021-06-11T05:46:29.356Z"
   },
   {
    "duration": 30,
    "start_time": "2021-06-11T05:46:29.415Z"
   },
   {
    "duration": 62,
    "start_time": "2021-06-11T05:46:29.447Z"
   },
   {
    "duration": 1349,
    "start_time": "2021-06-11T06:14:12.313Z"
   },
   {
    "duration": 122,
    "start_time": "2021-06-11T06:14:13.664Z"
   },
   {
    "duration": 30,
    "start_time": "2021-06-11T06:14:13.789Z"
   },
   {
    "duration": 13,
    "start_time": "2021-06-11T06:14:13.821Z"
   },
   {
    "duration": 69,
    "start_time": "2021-06-11T06:14:13.837Z"
   },
   {
    "duration": 19,
    "start_time": "2021-06-11T06:14:13.908Z"
   },
   {
    "duration": 19,
    "start_time": "2021-06-11T06:14:13.930Z"
   },
   {
    "duration": 57,
    "start_time": "2021-06-11T06:14:13.953Z"
   },
   {
    "duration": 543,
    "start_time": "2021-06-11T06:14:14.014Z"
   },
   {
    "duration": 411,
    "start_time": "2021-06-11T06:14:14.559Z"
   },
   {
    "duration": 409,
    "start_time": "2021-06-11T06:14:14.974Z"
   },
   {
    "duration": 496,
    "start_time": "2021-06-11T06:14:15.385Z"
   },
   {
    "duration": 428,
    "start_time": "2021-06-11T06:14:15.884Z"
   },
   {
    "duration": 522,
    "start_time": "2021-06-11T06:14:16.316Z"
   },
   {
    "duration": 478,
    "start_time": "2021-06-11T06:14:16.841Z"
   },
   {
    "duration": 590,
    "start_time": "2021-06-11T06:14:17.321Z"
   },
   {
    "duration": 17,
    "start_time": "2021-06-11T06:14:17.913Z"
   },
   {
    "duration": 126,
    "start_time": "2021-06-11T06:14:17.933Z"
   },
   {
    "duration": 120,
    "start_time": "2021-06-11T06:14:18.062Z"
   },
   {
    "duration": 129,
    "start_time": "2021-06-11T06:14:18.201Z"
   },
   {
    "duration": 132,
    "start_time": "2021-06-11T06:14:18.333Z"
   },
   {
    "duration": 62,
    "start_time": "2021-06-11T06:14:18.467Z"
   },
   {
    "duration": 27,
    "start_time": "2021-06-11T06:14:18.533Z"
   },
   {
    "duration": 46,
    "start_time": "2021-06-11T06:14:18.562Z"
   },
   {
    "duration": 15,
    "start_time": "2021-06-11T06:14:18.611Z"
   },
   {
    "duration": 27,
    "start_time": "2021-06-11T06:14:18.629Z"
   },
   {
    "duration": 54,
    "start_time": "2021-06-11T06:14:18.659Z"
   },
   {
    "duration": 368,
    "start_time": "2021-06-11T06:15:42.459Z"
   },
   {
    "duration": 1139,
    "start_time": "2021-06-11T06:15:48.958Z"
   },
   {
    "duration": 1417,
    "start_time": "2021-06-11T06:16:09.753Z"
   },
   {
    "duration": 153,
    "start_time": "2021-06-11T06:16:11.173Z"
   },
   {
    "duration": 69,
    "start_time": "2021-06-11T06:16:11.334Z"
   },
   {
    "duration": 17,
    "start_time": "2021-06-11T06:16:11.406Z"
   },
   {
    "duration": 81,
    "start_time": "2021-06-11T06:16:11.426Z"
   },
   {
    "duration": 11,
    "start_time": "2021-06-11T06:16:11.510Z"
   },
   {
    "duration": 22,
    "start_time": "2021-06-11T06:16:11.527Z"
   },
   {
    "duration": 61,
    "start_time": "2021-06-11T06:16:11.552Z"
   },
   {
    "duration": 20,
    "start_time": "2021-06-11T06:16:11.616Z"
   },
   {
    "duration": 575,
    "start_time": "2021-06-11T06:16:11.638Z"
   },
   {
    "duration": 430,
    "start_time": "2021-06-11T06:16:12.215Z"
   },
   {
    "duration": 418,
    "start_time": "2021-06-11T06:16:12.647Z"
   },
   {
    "duration": 506,
    "start_time": "2021-06-11T06:16:13.068Z"
   },
   {
    "duration": 412,
    "start_time": "2021-06-11T06:16:13.577Z"
   },
   {
    "duration": 500,
    "start_time": "2021-06-11T06:16:14.000Z"
   },
   {
    "duration": 484,
    "start_time": "2021-06-11T06:16:14.503Z"
   },
   {
    "duration": 615,
    "start_time": "2021-06-11T06:16:14.990Z"
   },
   {
    "duration": 15,
    "start_time": "2021-06-11T06:16:15.608Z"
   },
   {
    "duration": 130,
    "start_time": "2021-06-11T06:16:15.625Z"
   },
   {
    "duration": 120,
    "start_time": "2021-06-11T06:16:15.757Z"
   },
   {
    "duration": 153,
    "start_time": "2021-06-11T06:16:15.880Z"
   },
   {
    "duration": 134,
    "start_time": "2021-06-11T06:16:16.037Z"
   },
   {
    "duration": 65,
    "start_time": "2021-06-11T06:16:16.174Z"
   },
   {
    "duration": 29,
    "start_time": "2021-06-11T06:16:16.241Z"
   },
   {
    "duration": 19,
    "start_time": "2021-06-11T06:16:16.300Z"
   },
   {
    "duration": 17,
    "start_time": "2021-06-11T06:16:16.321Z"
   },
   {
    "duration": 71,
    "start_time": "2021-06-11T06:16:16.341Z"
   },
   {
    "duration": 19,
    "start_time": "2021-06-11T06:16:16.414Z"
   }
  ],
  "kernelspec": {
   "display_name": "Python 3 (ipykernel)",
   "language": "python",
   "name": "python3"
  },
  "language_info": {
   "codemirror_mode": {
    "name": "ipython",
    "version": 3
   },
   "file_extension": ".py",
   "mimetype": "text/x-python",
   "name": "python",
   "nbconvert_exporter": "python",
   "pygments_lexer": "ipython3",
   "version": "3.9.7"
  },
  "toc": {
   "base_numbering": 1,
   "nav_menu": {},
   "number_sections": true,
   "sideBar": true,
   "skip_h1_title": true,
   "title_cell": "Table of Contents",
   "title_sidebar": "Contents",
   "toc_cell": false,
   "toc_position": {
    "height": "calc(100% - 180px)",
    "left": "10px",
    "top": "150px",
    "width": "165px"
   },
   "toc_section_display": true,
   "toc_window_display": true
  }
 },
 "nbformat": 4,
 "nbformat_minor": 2
}
